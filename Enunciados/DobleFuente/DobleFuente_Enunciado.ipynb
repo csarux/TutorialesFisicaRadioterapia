{
  "nbformat": 4,
  "nbformat_minor": 0,
  "metadata": {
    "colab": {
      "provenance": []
    },
    "kernelspec": {
      "name": "python3",
      "display_name": "Python 3"
    }
  },
  "cells": [
    {
      "cell_type": "markdown",
      "metadata": {
        "id": "0qVXbexS0BMi"
      },
      "source": [
        "\n",
        "### Física de la radioterapia\n",
        "#### Máster de Física Biomédica. Universidad Complutense de Madrid\n",
        "---\n",
        "# **Problema**: Modelo de doble fuente en un acelerador lineal\n",
        "\n",
        "#### Introducción\n",
        "Para calcular la dosis debida a la radiación producida por un acelerador lineal, los algoritmos de cálculo necesitan conocer cómo varía la fluencia con el tamaño de campo.\n",
        "\n",
        "En la práctica uno de los factores requeridos para este cáculo es el denominado factor de campo en minimaniquí $OF_0$, que se define como la lectura de una cámara de ionización colocada en el eje del campo en relación a la lectura obtenida para un campo de referencia.\n",
        "\n",
        "Para evitar problemas de falta de equilibrio y contaminación electrónica, la cámara se coloca en el interior de un minimaniquí, que no introduce una contribución apreciable de radiación dispersada en el propio maniquí.\n",
        "\n",
        "\n"
      ]
    },
    {
      "cell_type": "markdown",
      "metadata": {
        "id": "RdR7K6v-6RsO"
      },
      "source": [
        "![Minimaniqui](https://drive.google.com/uc?id=14lGSvTekc8koyu_VzazMfNFh5iyC-CV9)"
      ]
    },
    {
      "cell_type": "markdown",
      "metadata": {
        "id": "quEH3J15-kvj"
      },
      "source": [
        "Aunque en condiciones ideales podríamos suponer que toda la radiación que incide sobre la cámara proviene de una fuente puntual, un foco de radiación formado en el lugar del blanco en el que son frenados los electrones, en la práctica se tiene que este foco no es puntual y que hay una contribución no despreciable de fotones que se han dispersado en los elementos del cabezal: colimador primario, filtro aplanador, cámaras monitoras y colimadores (mandíbulas y MLC).\n",
        "\n",
        "Los sistemas de cálculo modelan el problema asumiendo la presencia de dos fuentes: una primaria, de mayor intensidad que se asocia a la emisión desde el blanco, y otra secundaria, menos intensa aunque de mayor extensión espacial, que modela la radiación que se ha dispersado en el cabezal.\n",
        "\n"
      ]
    },
    {
      "cell_type": "markdown",
      "metadata": {
        "id": "qb3jzFJ5UXsT"
      },
      "source": [
        "<img src=\"https://drive.google.com/uc?id=1Os3ZS6JrYbnENEu2WP__XA3XLJYRHTQL\" width=\"700\" />"
      ]
    },
    {
      "cell_type": "markdown",
      "metadata": {
        "id": "OwxakUrqSQk3"
      },
      "source": [
        "En este cuaderno desarrollaremos un modelo simplificado de doble fuente que nos permitirá explicar de forma cualitativa la forma de la curva de $OF_0$.\n",
        "\n",
        "La distribución espacial de la intensidad de cada fuente según se observa en el punto de medida se describirá mediante una función con simetría cilíndrica de perfil gaussiano dependiente de de dos parámetros $a$, $b$\n",
        "\n",
        "\\begin{equation}\n",
        "    I(r) = a \\cdot e^{-r^2/b}\n",
        "\\end{equation}\n",
        "\n",
        "Durante el comisionado del acelerador, para medir $OF_0$ se retira el MLC y se varían las posiciones de la mandíbulas $X, Y$, generándose campos cuadrados y rectangulares.\n",
        "\n",
        "Para sacar partido a la simetría cilíndrica de la fuente convendría utilizar campos circulares. Existen relaciones empíricas que relacionan los rendimientos en profundidad de campos circulares, cuadrados y rectangulares. Según estas un campo cuadrado es equivalente a un campo circular si ambos tienen la misma área y un campo rectangular es equivalente a uno cuadrado si ambos tienen la misma relación área perímetro. Si estas relaciones fueran aplicables también para $OF_0$, combinándolas se podría determinar el campo circular equivalente de cualquier campo cuadrado o rectangular.\n",
        "\n",
        "### Objetivos\n",
        "- Estudiar si las relaciones de equivalencia entre campos cuadrados y campos circulares y entre campos rectangulares y campos cuadrados son aplicables al factor de campo en aire $OF_0$ si la distribución espacial de la fluencia es de perfil gaussiano.\n",
        "- Mostrar que no es posible ajustar las medidas de $OF_0$ mediante un modelo de una única fuente.\n",
        "- Ajustar un modelo de doble fuente utilizando las medidas de $OF_0$ en campos cuadrados.\n",
        "- Aplicar el modelo de doble fuente para predecir los valores del $OF_0$ para campos rectangulares.\n",
        "- Aplicar el modelo para analizar la falta de simetría que introduce en $OF_0$ la diferente distancia de las cámaras monitoras a las mordazas $X$ e $Y$.\n"
      ]
    },
    {
      "cell_type": "code",
      "source": [
        "# Instalar de forma silenciosa una distribución de LaTeX en Colab\n",
        "!sudo apt-get -qq install texlive-latex-extra texlive-fonts-recommended dvipng cm-super > /dev/null 2>&1\n",
        "\n",
        "# Instalar paquetes no incluidos por defecto en Colab\n",
        "# SciencePlots: Gráficos con aspecto científico\n",
        "!pip -q install SciencePlots\n",
        "# Ajustes no lineales mediante el algoritmo de Levenberg-Marquardt\n",
        "!pip -q install lmfit\n",
        "# Lectura de archivos Excel\n",
        "!pip install -q openpyxl\n",
        "\n",
        "# Importación de módulos y funciones\n",
        "import gdown\n",
        "import numpy as np\n",
        "from scipy.special import erf\n",
        "from scipy.interpolate import interp1d\n",
        "import matplotlib as mpl\n",
        "from matplotlib import pyplot as plt\n",
        "%matplotlib inline\n",
        "import pandas as pd\n",
        "import scienceplots\n",
        "plt.style.use(['science'])\n",
        "from lmfit import Model"
      ],
      "metadata": {
        "id": "3p2oqr8masy3"
      },
      "execution_count": null,
      "outputs": []
    },
    {
      "cell_type": "markdown",
      "source": [
        "### Cuestion\n",
        "Considerando una única fuente comprobar la validez de la aproximación empírica que dice que un campo cuadrado y un campo circular tienen el mismo factor de campo si ambos tienen la misma área.\n",
        "\n",
        "### Solución\n",
        "Para una única fuente el factor de campo es independiente de la intensidad absoluta de la fuente y por tanto es independiente de $a$.\n",
        "\n",
        "El factor de campo es proporcional a la integral de la intensidad de la fuente. Para campos circulares\n",
        "\n",
        "$$\n",
        "  OF_0(R) \\propto \\int_0^{2\\pi}\\int_0^R r \\cdot e^{-r^2/b} dr d\\theta = b\\pi\\left( 1-e^{-R^2/b} \\right)\n",
        "$$\n",
        "\n",
        "Para campos cuadrados\n",
        "\n",
        "$$\n",
        "  OF_0(X) \\propto \\int_0^X \\int_0^Xe^{-(x^2+y^2)/b} dx dy = \\left(\\int_0^X e^{-x^2/b}\n",
        "   dx \\right)^2 = \\frac{b\\pi}{4} \\operatorname{erf}^2\\left(\\frac{X}{\\sqrt{b}}\\right)\n",
        "$$\n",
        "\n",
        "donde $X$ corresponde al hemicampo, lo que se desplaza cada mordaza desde el origen. El lado del campo cuadrado sería $L=2X$ y por tanto la relación de equivalencia entre campos cuadrados y circulares por igualdad de área implica la siguiente relación entre $X$ y $R$\n",
        "\n",
        "$$\n",
        "  4X^2 = \\pi R^2\n",
        "$$\n",
        "\n",
        "$$\n",
        "  X = \\frac{\\sqrt{\\pi}}{2} R \\approx 0.886 R\n",
        "$$\n",
        "\n",
        "Implementamos las funciones para el cálculo del factor de campo. Como el factor de campo es una medida relativa podemos eliminar las constantes de proporcionalidad, solo nos interesa la dependencia con el el tamaño de campo. El parámetro $b$ por su parte, actúa como un factor de escala del tamaño de la fuente y del tamaño de los campos. Determina para qué tamaños de campo se produce el crecimiento del factor de campo hasta la saturación, pero tampoco es relevante para esta discusión. Lo fijamos en $b=1$."
      ],
      "metadata": {
        "id": "hiDa_JBcQ8H5"
      }
    },
    {
      "cell_type": "code",
      "source": [
        "def OF_0_circ(R, b=1):\n",
        "  '''\n",
        "  Factor de campo en aire para campos circulares\n",
        "  Parámetros:\n",
        "    R: Radio del campo circular\n",
        "    b: Parámetro que regula el tamaño de la fuente\n",
        "  '''\n",
        "  return 1 - np.exp(-R**2/b)\n",
        "\n",
        "def OF_0_sq(X, b=1):\n",
        "  '''\n",
        "  Factor de campo en aire para campos cuadrados\n",
        "  Parámetros:\n",
        "    X: Tamaño del campo cuadrado\n",
        "    b: Parámetro que regula el tamaño de la fuente\n",
        "  '''\n",
        "  return erf(X/np.sqrt(b))**2"
      ],
      "metadata": {
        "id": "0iOrqQr8zJ8W"
      },
      "execution_count": null,
      "outputs": []
    },
    {
      "cell_type": "markdown",
      "source": [
        "Muestreamos y representamos los dos factores de campo.\n",
        "\n",
        "Para comprobar la equivalencia tenemos que elegir campos con la misma área"
      ],
      "metadata": {
        "id": "h9wrBu1KJwAm"
      }
    },
    {
      "cell_type": "code",
      "source": [
        "# Muestra de radios\n",
        "Rs = np.linspace(0.4, 3, 50)\n",
        "\n",
        "# Muestra de campos cuadrados\n",
        "Xs = np.linspace(0.4, 3, 50)\n",
        "\n",
        "# Factor de equivalencia entre R (campos circulares) y X (campos cuadrados)\n",
        "Feq = np.sqrt(np.pi)/2\n",
        "\n",
        "# Representar\n",
        "fig, (axl, axr) = plt.subplots(nrows=1, ncols=2, figsize=(9, 4.5))\n",
        "# En el gráfico de la izquierda representamos los factores de campo en función\n",
        "# de sus dimensiones naturales\n",
        "axl.plot(Rs, OF_0_circ(Rs), 'k-', label='C. circulares')\n",
        "axl.plot(Xs, OF_0_sq(Xs), 'k--', label='C. cuadrados')\n",
        "axl.set_xlabel('$R, X$')\n",
        "axl.set_ylabel(r'$OF_0$')\n",
        "axl.legend()\n",
        "# En el gráfico de la derecha escalamos el hemicampo cuadrado a su equivalente\n",
        "# circular\n",
        "axr.plot(Rs, OF_0_circ(Rs), 'k-', label='C. circulares')\n",
        "axr.plot(Rs, OF_0_sq(Rs*Feq), 'k--', label='C. cuadrados')\n",
        "axr.set_xlabel('$R$')\n",
        "axr.set_ylabel(r'$OF_0$')\n",
        "# Añadimos un gráfico para representar el error relativo de la aproximación\n",
        "axrt = axr.twinx()\n",
        "\n",
        "axrt.plot(Rs, (OF_0_circ(Rs) / OF_0_sq(Rs*Feq)-1)*100, 'k-.')\n",
        "axrt.set_ylabel(r'Error relativo [\\%]')\n",
        "# axrt.set_ylim(0.998, 1.02)\n",
        "\n",
        "plt.show()"
      ],
      "metadata": {
        "id": "kNYGXqn6WKd2"
      },
      "execution_count": null,
      "outputs": []
    },
    {
      "cell_type": "markdown",
      "source": [
        "En la gráfica de la izquierda hemos representado el factor de campo $OF_0$ según las expresiones analíticas calculas de la integral de la fluencia gaussiana para campos circulares en función del radio $R$ y para campos cuadrados en función del hemicampo $X$.\n",
        "\n",
        "Para comprobar la equivalencia de los campos hemos representado en la gráfica de la derecha ambos factores de campo en función del radio $R$ escalando para los campos cuadrados el valor del hemicampo $X$ por la expresión que se deriva de la igualdad de áreas.\n",
        "\n",
        "El error relativo entre ambos factores de campo es del orden del 1%, concluyéndose que la aproximación es razonablemente ajustada.\n",
        "\n",
        "### Cuestión\n",
        "\n",
        "Considerando una única fuente comprobar la validez de la aproximación empírica que dice que un campo cuadrado y un campo rectangular tienen el mismo factor de campo si ambos tienen la misma relación área perímetro.\n",
        "\n",
        "### Solución\n",
        "\n",
        "Para campos rectangulares\n",
        "\n",
        "$$\n",
        "  OF_0(X, Y) \\propto \\int_0^Y \\int_0^Xe^{-(x^2+y^2)/b} dx dy = \\left(\\int_0^X e^{-x^2/b}\n",
        "  dx \\right)\\cdot \\left(\\int_0^Y e^{-y^2/b}\n",
        "  dy \\right)= \\frac{b\\pi}{4} \\operatorname{erf}\\left(\\frac{X}{\\sqrt{b}}\\right)\\cdot\\operatorname{erf}\\left(\\frac{Y}{\\sqrt{b}}\\right)\n",
        "$$\n",
        "\n",
        "donde $X, Y$ corresponden al hemicampo, lo que se desplaza cada mordaza desde el origen.\n",
        "\n",
        "De la igualdad de la relación área perímetro podemos determinar el valor del hemicampo $X_c$ del campo cuadrado equivalente al campo rectangular con hemicampos $X, Y$\n",
        "\n",
        "$$\n",
        "  X_c = \\frac{2\\cdot X\\cdot Y}{X+Y}\n",
        "$$\n",
        "\n",
        "Por tanto lo que queremos comporobar es si\n",
        "\n",
        "$$\n",
        "  \\operatorname{erf}\\left(\\frac{X}{\\sqrt{b}}\\right)\\cdot\\operatorname{erf}\\left(\\frac{Y}{\\sqrt{b}}\\right) = \\operatorname{erf}^2\\left(\\frac{2\\cdot X\\cdot Y}{\\sqrt{b}\\cdot(X+Y)}\\right)\n",
        "$$\n",
        "\n",
        "Lo mismo que antes, el resultado no depende del valor de $b$ y lo igualaremos a 1.\n",
        "\n",
        "Implemtamos la función de $OF_0$ para campos rectangulares y comparamos el resultado con su campo cuadrado equivalente"
      ],
      "metadata": {
        "id": "6fzyiWEcseRV"
      }
    },
    {
      "cell_type": "code",
      "source": [
        "def OF_0_rect(X, Y, b=1):\n",
        "  '''\n",
        "  Factor de campo en aire para campos cuadrados\n",
        "  Parámetros:\n",
        "    X: Mordaza X del hemicampo del campo rectangular\n",
        "    Y: Mordaza Y del hemicampo del campo rectangular\n",
        "    b: Parámetro que regula el tamaño de la fuente\n",
        "  '''\n",
        "  return erf(X/np.sqrt(b))*erf(Y/np.sqrt(b))\n",
        "\n",
        "def X_c(X, Y):\n",
        "  '''\n",
        "  Tamaño del campo cuadrado equivalente para campos rectangulares\n",
        "  Parámetros:\n",
        "    X: Mordaza X del hemicampo del campo rectangular\n",
        "    Y: Mordaza Y del hemicampo del campo rectangular\n",
        "  '''\n",
        "  return 2*X*Y/(X+Y)"
      ],
      "metadata": {
        "id": "yuLN2im7eoia"
      },
      "execution_count": null,
      "outputs": []
    },
    {
      "cell_type": "code",
      "source": [
        "# Muestras de los hemicampos para campos rectangulares\n",
        "Ys = np.array([2])\n",
        "Xs = np.linspace(0.4, 3, 50)\n",
        "\n",
        "# Hemicampos de los campos cuadrados equivalentes\n",
        "Xcs = X_c(Xs, Ys)\n",
        "\n",
        "# Representar\n",
        "fig, (axl) = plt.subplots(nrows=1, ncols=1, figsize=(4.5, 4.5))\n",
        "# En el gráfico de la izquierda representamos los factores de campo en función\n",
        "# de sus dimensiones naturales\n",
        "axl.plot(Xs, OF_0_rect(Xs, Ys), 'k-', label='C. rectangulares')\n",
        "axl.plot(Xs, OF_0_sq(Xcs), 'k--', label='C. cuadrados equivalentes')\n",
        "axl.set_xlabel(r'$X$')\n",
        "axl.set_ylabel(r'$OF_0$')\n",
        "axl.legend()\n",
        "\n",
        "plt.show()"
      ],
      "metadata": {
        "id": "jwlVx8SwfZrq"
      },
      "execution_count": null,
      "outputs": []
    },
    {
      "cell_type": "markdown",
      "source": [
        "Las curvas anteriores muestran que la equivalencia a campos cuadrados para campos rectangulares basada en mantener la relación área perímetro no es válida.\n",
        "\n",
        "Podemos dudar si esto se debe a que el modelo de fuente de perfil gaussiano no describe adecuadamete la fuente real.\n",
        "\n",
        "### Cuestión\n",
        "\n",
        "Utilizar los datos reales medidos en un acelerador Varian True Beam para mostrar que la aproximación no es suficientemente buena.\n",
        "\n",
        "#### Ayuda\n",
        "Crear una función de interpolación de los factores de campo cuadrados para calcular el factor de campo del campo equivalente de cada campo rectangular. Comparar con los valores medidos."
      ],
      "metadata": {
        "id": "MxgrBjvSMfAG"
      }
    },
    {
      "cell_type": "code",
      "source": [
        "# Descargar los datos compartidos de Google Drive\n",
        "url = 'https://docs.google.com/uc?id=1QbmB_WbXYd6QOaaEedfRSQoyp21ZNRf6'\n",
        "#\n",
        "output = './AirOutputFactors.xlsx'\n",
        "gdown.download(url, output, quiet=False, fuzzy=True)"
      ],
      "metadata": {
        "id": "Q7_VzDSV2nZy"
      },
      "execution_count": null,
      "outputs": []
    },
    {
      "cell_type": "code",
      "source": [
        "# Leer los datos de los factores de campo para la energía de 6 MV\n",
        "OF_0_6X_df = pd.read_excel('AirOutputFactors.xlsx', sheet_name='6MV', skiprows=36, engine='openpyxl')\n",
        "# Extraer los factores de campo para campos cuadrados\n",
        "OF_0_6X_sqs = np.diag(OF_0_6X_df[OF_0_6X_df.columns[1:]])\n",
        "# Tamaños de campo cuadrados\n",
        "Xs = np.array(OF_0_6X_df.Y)\n",
        "\n",
        "# Representamos gráficamente\n",
        "fig, ax = plt.subplots(figsize=(4.5, 4.5))\n",
        "ax.plot(Xs, OF_0_6X_sqs, 'k.-')\n",
        "ax.set_xlabel(r'$X$')\n",
        "ax.set_ylabel(r'$OF_0$')\n",
        "\n",
        "plt.show()"
      ],
      "metadata": {
        "id": "M-5UgaYDsIqP"
      },
      "execution_count": null,
      "outputs": []
    },
    {
      "cell_type": "code",
      "source": [
        "# Definimos una función de interpolación para los factores de campo cuadrados\n",
        "\n",
        "# Generamos algunas dimensiones de campo cuadrado equivalente y sus correpondites\n",
        "# factores de campo interpolados\n"
      ],
      "metadata": {
        "id": "WoGEqH7tEoIG"
      },
      "execution_count": null,
      "outputs": []
    },
    {
      "cell_type": "markdown",
      "source": [
        "Representamos gráficamente y comprobamos la equivalencia"
      ],
      "metadata": {
        "id": "9hJQMOff4ncd"
      }
    },
    {
      "cell_type": "markdown",
      "source": [
        "### Cuestión\n",
        "Mostrar que no es posible ajustar las medidas mediante un modelo de una única fuente"
      ],
      "metadata": {
        "id": "BUUujdYFZdmp"
      }
    },
    {
      "cell_type": "code",
      "source": [],
      "metadata": {
        "id": "KZZnf5uQZuH7"
      },
      "execution_count": null,
      "outputs": []
    },
    {
      "cell_type": "markdown",
      "source": [
        "### Cuestión\n",
        "\n",
        "Ajustar las medidas del factor de campo en aire $OF_0$ para campos cuadrados mediante un modelo de doble fuente basado en cuatro parámetros utilizando la aproximación de campos circulares equivalentes\n",
        "\n",
        "$$\n",
        "  OF_0(L) = I_1\\cdot \\left(1-e^{-L^2/b_1}\\right) + I_2\\cdot \\left(1-e^{-L^2/b_2}\\right)\n",
        "$$\n",
        "\n",
        "donde $L$ es el lado del campo cuadrado, $I_1$ la intensidad de la fuente primaria, $b_1$ un parámetro relaccionado con el tamaño de la fuente primaria, $I_2$ la intensidad de la fuente secundaria, $b_2$ un parámetro relaccionado con el tamaño de la fuente secundaria.\n",
        "\n",
        "#### Ayuda\n",
        "\n",
        "Para realizar los ajustes se recomienda utilizar el paquete [lmfit](https://lmfit.github.io/lmfit-py/)\n",
        "(Non-Linear Least-Squares Minimization and Curve-Fitting for Python) una interfaz de alto nivel para resolver problemas de ajuste de curvas y optimización no lineal en python. Su uso básico es relativamente simple. Basta con definir la función de ajuste con sus variables independientes y los parámetros de ajuste también como variables. A partir de esta función se crea un **modelo** de ajuste como una instancia de la clase `Model`. Este objeto tiene todos los métodos para realizar el ajuste y evaluar el resultado. Los parámetros del modelo se pueden introducir directamente o creando una instancia del objeto 'Parameters' si se necesita tener más control sobre ellos."
      ],
      "metadata": {
        "id": "iZJMUFOyZU47"
      }
    },
    {
      "cell_type": "code",
      "source": [
        "from lmfit import Model, Parameters"
      ],
      "metadata": {
        "id": "aVzaC6RiSl_2"
      },
      "execution_count": null,
      "outputs": []
    },
    {
      "cell_type": "markdown",
      "source": [
        "####Modelo de doble fuente"
      ],
      "metadata": {
        "id": "my4qSQOXczGO"
      }
    },
    {
      "cell_type": "code",
      "source": [
        "def OF_0_2src_f(L, I1, b1, I2, b2):\n",
        "  '''\n",
        "  Función que representa el factor de campo en aire para campos cuadrados\n",
        "  L: lado del campo cuadrado\n",
        "  I1: intensidad de la fuente primaria\n",
        "  b1: parámetro relaccionado con el tamaño de la fuente primaria\n",
        "  I2: intensidad de la fuente secundaria\n",
        "  b2: parámetro relaccionado con el tamaño de la fuente secundaria\n",
        "  '''\n",
        "  return I1 * (1 - np.exp(-L**2 / b1)) + I2 * (1 - np.exp(-L**2 / b2))\n",
        "\n",
        "double_source_model = Model(OF_0_2src_f)"
      ],
      "metadata": {
        "id": "OLkRXb3BSs8F"
      },
      "execution_count": null,
      "outputs": []
    },
    {
      "cell_type": "code",
      "source": [
        "# Ajustamos. Introducimos los parámetros directamente dando un valor inicial\n",
        "double_source_result = double_source_model.fit(OF_0_6X_sqs, L=OF_0_6X_df.Y, I1=0.9, b1=2, I2=0.1, b2=20)\n",
        "\n",
        "# Obtenemos la función de ajuste particularizada para nuestros parámetros de ajuste\n",
        "def OF_0_2src_sq_fit(L):\n",
        "  return double_source_model.eval(double_source_result.params, L=L)\n",
        "\n",
        "# Valores de X con mayor densidad para la gráfica del ajuste\n",
        "Xis = np.linspace(Xs[0], Xs[-1], 1000)\n",
        "\n",
        "# Representamos gráficamente\n",
        "fig, ax = plt.subplots(figsize=(4.5, 4.5))\n",
        "ax.plot(Xs, OF_0_6X_sqs, 'k.')\n",
        "ax.plot(Xis, OF_0_2src_sq_fit(L=Xis), 'k-')\n",
        "ax.set_xlabel(r'$X$')\n",
        "ax.set_ylabel(r'$OF_0$')\n",
        "\n",
        "double_source_result\n"
      ],
      "metadata": {
        "id": "QmFmA2CXS3kK"
      },
      "execution_count": null,
      "outputs": []
    },
    {
      "cell_type": "markdown",
      "source": [
        "### Cuestión\n",
        "\n",
        "Estudiar cuál de los siguientes modelos describe mejor los $OF_0$ para campos cuadrados.\n",
        "\n",
        "Para realizar el ajuste utilizar solo los datos de $OF_0$ medidos en 6 MV `OF_0_6X_sqs` de campos cuadrados de lado `Xs`\n",
        "\n",
        "#### Modelo de doble fuente con distinción de $X, Y$\n",
        "\n",
        "$$\n",
        "  OF_0(X,Y,I_1,I_2,s,t,u,v) = I_1\\cdot \\operatorname{erf}\\left(\\frac{X}{s}\\right)\\cdot\\operatorname{erf}\\left(\\frac{Y}{t}\\right) + I_2\\cdot \\operatorname{erf}\\left(\\frac{X}{u}\\right)\\cdot\\operatorname{erf}\\left(\\frac{Y}{v}\\right)\n",
        "$$\n",
        "\n",
        "Este modelo considera dos fuentes gauassianas de distinto tamaño efectivo. Además se considera que el tamño de cada fuente visto desde el punto de medida cambia por la diferente distancia entre cada par de mordazas y la fuente.\n",
        "\n",
        "#### Modelo de doble fuente con distinción de $X, Y$ para la segunda fuente\n",
        "\n",
        "$$\n",
        "  OF_0(X,Y,I_1,I_2,s,t,u) = I_1\\cdot \\operatorname{erf}\\left(\\frac{X}{s}\\right)\\cdot\\operatorname{erf}\\left(\\frac{Y}{s}\\right) + I_2\\cdot \\operatorname{erf}\\left(\\frac{X}{t}\\right)\\cdot\\operatorname{erf}\\left(\\frac{Y}{u}\\right)\n",
        "$$\n",
        "\n",
        "Aquí se consideran dos fuentes gaussianas de diferente tamaño pero el efecto de la distancia a cada par de mordazas solo afecta apreciablemente a la fuente secundaria por ser la que esta más cerca de estas.\n",
        "\n",
        "- Considerando la regularización del modelo, ¿cuál de los dos modelos es más adecuado para el ajuste?\n",
        "- Centrándonos en el modelo más aadecuado, existe algún parámetro que se haya determinado con una incertidumbre inasumible. ¿De dónde proviene esa incertidumbre si aparentemente los resultados del modelo son buenos?\n",
        "- **Avanzado**: Proponer alguna regularización adicional que reduzca la incertidumbre del parámetro."
      ],
      "metadata": {
        "id": "AOSBOOYLYMqW"
      }
    },
    {
      "cell_type": "code",
      "source": [],
      "metadata": {
        "id": "SsL7rNuhe7RZ"
      },
      "execution_count": null,
      "outputs": []
    },
    {
      "cell_type": "markdown",
      "source": [
        "### Cuestión\n",
        "Aplicar el modelo de $OF_0$ ajustado mediante campos cuadrados para predecir el factor de campo para campos rectangulares.\n",
        "\n",
        "Comparar los resultados del modelo con las medidas de campos rectangulares.\n",
        "\n",
        "Analizar si los resultados obtenidos utilizando solo los datos de los campos cuadrados mejorarían si se ajustase el modelo utilizando también los datos de los cammpos rectangulares.\n",
        "\n",
        "Decidir qué procedimiento de ajuste nos produce mejores resultados para poder calcular el factor de campo en campos presentes en el uso clínico del acelerador."
      ],
      "metadata": {
        "id": "KKNL_zUM9S1U"
      }
    },
    {
      "cell_type": "code",
      "source": [],
      "metadata": {
        "id": "SKynH8pa5Ro3"
      },
      "execution_count": null,
      "outputs": []
    },
    {
      "cell_type": "markdown",
      "source": [
        "### Cuestión\n",
        "Aplicar el modelo para analizar la falta de simetría que introduce en  $OF_0$  la diferente distancia de las cámaras monitoras a las mordazas $X$ e $Y$.\n",
        "\n",
        "Emplear el factor de mordaza definido por la expresión\n",
        "\n",
        "$$\n",
        "  JF(X,Y) = \\frac{2\\cdot OF_0(X, Y)}{OF_0(X, Y) + OF_0(Y, X)}\n",
        "$$"
      ],
      "metadata": {
        "id": "QRkV6eqvXC5W"
      }
    },
    {
      "cell_type": "code",
      "source": [
        "# Implementamos la función del factor de mordaza\n",
        "def JF(X, Y):\n",
        "  return 2 * OF_0_2src_rect_fit(X, Y) / (OF_0_2src_rect_fit(X, Y) + OF_0_2src_rect_fit(Y, Y))"
      ],
      "metadata": {
        "id": "7d-tzL09CpW4"
      },
      "execution_count": null,
      "outputs": []
    }
  ]
}