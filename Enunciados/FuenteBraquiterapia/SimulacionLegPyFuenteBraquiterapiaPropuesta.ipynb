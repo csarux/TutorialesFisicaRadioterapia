{
  "cells": [
    {
      "cell_type": "markdown",
      "metadata": {
        "id": "jTr_5sOpFC0s"
      },
      "source": [
        "# Simulación LegPy de una fuente de braquiterapia\n",
        "-----\n",
        "En este cuaderno se estudia la distribución de dosis generada por una semilla para implantes permanentes en la próstata. \n",
        "\n",
        "La distribución de dosis se genera por simulación Montecarlo utilizando LegPy.\n",
        "\n",
        "## Fuente simulada\n",
        "\n",
        "La fuente que se simulará será la **semilla Bebig I25.S06**.\n",
        "\n",
        "## Ejecución del cuaderno\n",
        "\n",
        "El cuaderno proporciona todas las herramientas para realizar la simulación y su validación. Sólo es necesario introducir los valores del espectro del elemento radiactivo contenido en la fuente y su longitud.\n",
        "\n",
        "## Validación de los resultados\n",
        "\n",
        "Para validar la simulación se compara la distribución de dosis calculada con la derivada del formalismo de TG43 AAPM que se ha presentado en clase. La documentación del formalismo se puede consultar en el siguiente enlace\n",
        "\n",
        "https://aapm.onlinelibrary.wiley.com/doi/epdf/10.1118/1.1646040\n",
        "\n",
        "#### Formalismo\n",
        "\n",
        "Dada una fuente y tomando un sistema de coordenadas como el descrito en el siguiente esquema\n",
        "\n",
        "<img src=\"https://raw.githubusercontent.com/csarux/TutorialesFisicaRadioterapia/main/Enunciados/FuenteBraquiterapia/EsquemaCoordenadas.png\" alt=\"Coor definition\" width=\"40%\">\n",
        "\n",
        "la distribución espacial de la dosis se puede describir según dos aproximaciones \n",
        "\n",
        "\n",
        "**Aproximación 2D**\n",
        "\n",
        "\\begin{equation}\n",
        "    \\dot D(r, \\theta) = S_K \\Lambda \\frac{G_L(r, \\theta)}{G_L(r_0, \\theta_0)}g_L(r)F(r, \\theta)\n",
        "\\end{equation}\n",
        "\n",
        "en la que se tiene en cuenta la variación angular de la distribución de dosis alrededor de la fuente $\\theta$ y la distancia a su centro $r$.\n",
        "\n",
        "**Aproximación 1D, distribución isótropa, fuente puntual**\n",
        "\\begin{equation}\n",
        "    \\dot D(r) = S_K \\Lambda \\frac{G_L(r, \\theta_0)}{G_L(r_0, \\theta_0)}g_L(r)\\phi_{an}(r)\n",
        "\\end{equation}\n",
        "\n",
        "en la que la distribución de dosis se promedia angularmente y solo aparece la dependencia con la distancia al centro de la fuente $r$.\n",
        "\n",
        "En ambas aproximaciones \n",
        "\\begin{equation}\n",
        "G_L(r, \\theta)= \\left\\{ \\begin{array}{lcc}\n",
        "                             \\frac{\\beta}{Lr\\sin(\\theta)} & si & \\theta \\neq 0 \\\\\n",
        "                             \\frac{1}{r^2-L^2/4} & si & \\theta = 0 \n",
        "                         \\end{array}\n",
        "               \\right.\n",
        "\\end{equation}\n",
        "\n",
        "Para poder calcular la distribución de tasa de dosis tenemos que calcular $\\beta$ en función de $r$ y $\\theta$, $\\beta = \\beta(r, \\theta)$.\n",
        "\n",
        "Por construcción de triángulos es inmediato ver que $\\beta = \\theta_2 - \\theta_1$ y que se verifican las ecuaciones\n",
        "\n",
        "\\begin{equation}\n",
        "    \\theta_1 = \\arctan\\left( \\frac{r \\sin (\\theta)}{r \\cos (\\theta) + L/2} \\right)\n",
        "\\end{equation}\n",
        "\n",
        "\\begin{equation}\n",
        "\\theta_2 = \\left\\{ \\begin{array}{lcc}\n",
        "                       \\arctan \\left(\\frac{r \\sin(\\theta)}{r \\cos(\\theta)-L/2}\\right) & si & r \\cos(\\theta) > L/2 \\\\\n",
        "                       \\pi/2 & si & r \\cos(\\theta) = L/2 \\\\\n",
        "                       \\pi/2 + \\arctan \\left(\\frac{L/2 + r \\cos(\\theta)}{r \\sin(\\theta)}\\right) & si & r \\cos(\\theta) < L/2 \n",
        "                   \\end{array}\n",
        "           \\right.\n",
        "\\end{equation}\n",
        "\n",
        "De donde obtendríamos $\\beta = \\beta(r, \\theta)$\n",
        "\n",
        "### Convenio de unidades\n",
        "- longitudes en cm \n",
        "- ángulos en grados sexagesimales\n",
        "- Energía en MeV\n",
        "\n",
        "Constante con la longitud efectiva de la fuente. Utilizar la $L$ de la aproximación lineal. Ver la Tabla II del TG43."
      ]
    },
    {
      "cell_type": "code",
      "execution_count": null,
      "metadata": {
        "id": "zCWMu_kEDte7"
      },
      "outputs": [],
      "source": [
        "L = ##- Introducir el valor de la longitud de la fuente - ##"
      ]
    },
    {
      "cell_type": "markdown",
      "metadata": {
        "id": "saLS9QnwC9_d"
      },
      "source": [
        "Constantes con las coordendas del punto de referencia"
      ]
    },
    {
      "cell_type": "code",
      "execution_count": null,
      "metadata": {
        "id": "_ml4_5ZKC9_e"
      },
      "outputs": [],
      "source": [
        "r0, theta0 = 1, 90"
      ]
    },
    {
      "cell_type": "markdown",
      "metadata": {
        "id": "xwFHMkyWv-ID"
      },
      "source": [
        "## Instalación de LegPy\n",
        "\n",
        "Instalamos subversion y descargamos el código del módulo LegPy"
      ]
    },
    {
      "cell_type": "code",
      "execution_count": null,
      "metadata": {
        "id": "11e8_aWdGKfG"
      },
      "outputs": [],
      "source": [
        "!apt install subversion\n",
        "!svn checkout https://github.com/csarux/TutorialesFisicaRadioterapia/trunk/Enunciados/FuenteBraquiterapia/LegPy"
      ]
    },
    {
      "cell_type": "markdown",
      "metadata": {
        "id": "BVMtujvzXDcr"
      },
      "source": [
        "\n",
        "## Montar gDrive\n",
        "\n",
        "Para acceder a los archivos almacenados en nuestro Google Drive desde cuadernos Colab primero es necesario montar el disco.\n",
        "\n",
        "El siguiente código realiza ese proceso. Para completarlo Colab nos pedira autorización para acceder a nuestro disco"
      ]
    },
    {
      "cell_type": "code",
      "execution_count": null,
      "metadata": {
        "id": "7W86C_BKFC0u"
      },
      "outputs": [],
      "source": [
        "# - Importar el módulo para acceder a Drive\n",
        "from google.colab import drive\n",
        "# - Montar el disco\n",
        "drive.mount('/content/gdrive')"
      ]
    },
    {
      "cell_type": "markdown",
      "metadata": {
        "id": "yz1VkPZXv8B-"
      },
      "source": [
        "Cambiamos al directorio de trabajo"
      ]
    },
    {
      "cell_type": "code",
      "execution_count": null,
      "metadata": {
        "id": "EwSqDmXQqhV_"
      },
      "outputs": [],
      "source": [
        "#- Seleccionar la carpeta de gDrive en la que queramos hacer el análisis y cambiar el directorio de trabajo a ella.\n",
        "%cd ###Sustitir aquí la ruta a la carpeta seleccionada para trabajar en ella###"
      ]
    },
    {
      "cell_type": "markdown",
      "metadata": {
        "id": "qVvYyT9kwLv0"
      },
      "source": [
        "Importamos los módulos y funciones que utilizaremos en este cuaderno"
      ]
    },
    {
      "cell_type": "code",
      "execution_count": null,
      "metadata": {
        "id": "jLF-4ovtAYEP"
      },
      "outputs": [],
      "source": [
        "import LegPy as lpy\n",
        "import pandas as pd\n",
        "import numpy as np\n",
        "import matplotlib.pyplot as plt\n",
        "import matplotlib as mpl\n",
        "from scipy.interpolate import interp1d as cspline, interp2d"
      ]
    },
    {
      "cell_type": "markdown",
      "metadata": {
        "id": "_Xnb-PhjR1NI"
      },
      "source": [
        "Definimos la constante de conversion entre grados sexagasimales a radianes"
      ]
    },
    {
      "cell_type": "code",
      "execution_count": null,
      "metadata": {
        "id": "Sl-MlJefR1NI"
      },
      "outputs": [],
      "source": [
        "d_r = np.pi/180"
      ]
    },
    {
      "cell_type": "markdown",
      "metadata": {
        "id": "JKSLuppjCd9Y"
      },
      "source": [
        "### Definir el medio y la geometría"
      ]
    },
    {
      "cell_type": "code",
      "execution_count": null,
      "metadata": {
        "id": "P5S2iJURCd9Y"
      },
      "outputs": [],
      "source": [
        "# tamaño del medio (cilindro)\n",
        "length = 14. # cm\n",
        "width = 14. # cm diametro\n",
        "nz, nr = 112, 56 # intervalos en z y r\n",
        "medium = lpy.Medium(name='Water') # otros medios: 'Bone', 'Tissue', 'Muscle'\n",
        "geometry = lpy.Geometry(name='cylinder', z = length, r = width/2., n_z = nz, n_r = nr) # Cylindrical voxelization"
      ]
    },
    {
      "cell_type": "markdown",
      "metadata": {
        "id": "1t7wVzdjCd9Z"
      },
      "source": [
        "### Espectro de energía de la fuente\n",
        "\n",
        "Definir el espectro del isótopo radiactivo de la semilla. Utilizar los datos recomendados por el TG43. Ver la Tabla XIII.\n",
        "\n",
        "La manera de definir el espectro es mediante el código\n",
        "\n",
        "```\n",
        "E = np.array([[Energía del fotón 1, Número de fotones 1 por desintegracion],  [Energía del fotón 2, Número de fotones 2 por desintegracion], ...])\n",
        "\n",
        "spectrum = lpy.Spectrum(name = 'multi_mono', E_w = E)\n",
        "```\n"
      ]
    },
    {
      "cell_type": "code",
      "execution_count": null,
      "metadata": {
        "id": "XAjTquChLBDN"
      },
      "outputs": [],
      "source": [
        "## Introducir la definición del espectro de la simulación - ##"
      ]
    },
    {
      "cell_type": "markdown",
      "metadata": {
        "id": "a2HsyTcuCd9a"
      },
      "source": [
        "### Geometría de la fuente"
      ]
    },
    {
      "cell_type": "code",
      "execution_count": null,
      "metadata": {
        "id": "IrFclMfECd9a"
      },
      "outputs": [],
      "source": [
        "x, y, z = 0., 0., 7. # cm posición del centro de la fuente\n",
        "s_length = 0.45 # cm longitud de la semilla\n",
        "s_width = 0.05 # cm radio de la semilla\n",
        "beam = lpy.Beam(name = 'isotropic', length = s_length, r_width = s_width, p_in = np.array ([x, y, z]))"
      ]
    },
    {
      "cell_type": "markdown",
      "metadata": {
        "id": "xGhCummKCd9a"
      },
      "source": [
        "### Visualizar algunas trazas"
      ]
    },
    {
      "cell_type": "code",
      "execution_count": null,
      "metadata": {
        "id": "b2ggPu9oCd9b"
      },
      "outputs": [],
      "source": [
        "lpy.Plot_beam(medium, geometry, spectrum, beam)"
      ]
    },
    {
      "cell_type": "markdown",
      "metadata": {
        "id": "lpXHxrNrCd9b"
      },
      "source": [
        "### Realizar la simulación\n",
        "\n",
        "En las máquinas de Google Colab la simulación requiere unos cincuenta minutos para 10 millones de fotones emitidos. \n",
        "\n",
        "El número considerado es adecuado para tener una estadística razonable para poder validar la simulación."
      ]
    },
    {
      "cell_type": "code",
      "execution_count": null,
      "metadata": {
        "id": "kddl8sdICd9b"
      },
      "outputs": [],
      "source": [
        "n_ph = int(1.e7) # números de fotones a simular\n",
        "output = lpy.MC(medium, geometry, spectrum, beam, n_part = n_ph, E_cut = 0.001)"
      ]
    },
    {
      "cell_type": "markdown",
      "metadata": {
        "id": "c8lefT7rCd9d"
      },
      "source": [
        "### Resultado de la simulación "
      ]
    },
    {
      "cell_type": "code",
      "execution_count": null,
      "metadata": {
        "id": "zgBuAzzGCd9d"
      },
      "outputs": [],
      "source": [
        "# Usamos el dataFrame generado en la simulación\n",
        "Ddf = output.Edep_to_df()"
      ]
    },
    {
      "cell_type": "markdown",
      "metadata": {
        "id": "zYUCiLea4hA1"
      },
      "source": [
        "Guardamos los resultados de la simulación en un archivo Excel para evitar tener que esperar el tiempo de cálculo de nuevo."
      ]
    },
    {
      "cell_type": "code",
      "execution_count": null,
      "metadata": {
        "id": "7q2wwz0erhXk"
      },
      "outputs": [],
      "source": [
        "Ddf.to_excel('BebigSimulation_1e7photons.xlsx')"
      ]
    },
    {
      "cell_type": "markdown",
      "metadata": {
        "id": "Ul-tahUUgiCL"
      },
      "source": [
        "Para recuparar los resultados correr el código\n",
        "\n",
        "`Ddf = pd.read_excel('BebigSimulation_1e7photons.xlsx', index_col='z(cm)')`\n",
        "\n",
        "\n",
        "Obtenemos las coordenadas y los valores de deposito de energía.\n",
        "\n",
        "Seleccionar el deposito de energía en función de la distancia radial en el plano perpedicular a la fuente y que la bisecciona."
      ]
    },
    {
      "cell_type": "code",
      "execution_count": null,
      "metadata": {
        "id": "gtNr0ndprZn9"
      },
      "outputs": [],
      "source": [
        "X = np.array(Ddf.columns)\n",
        "Y = np.array(Ddf.index)\n",
        "Z = Ddf.to_numpy()\n",
        "Dr = Z[55]"
      ]
    },
    {
      "cell_type": "markdown",
      "metadata": {
        "id": "GJTdzV3BhAUy"
      },
      "source": [
        "Obtener el factor de normalización del depósito de dosis. De acuerdo al formalismo de la AAPM se normaliza a un 1 cm de la fuente. Las coordenadas más próximas a 1 son"
      ]
    },
    {
      "cell_type": "code",
      "execution_count": null,
      "metadata": {
        "id": "DceMvSuPyBXZ"
      },
      "outputs": [],
      "source": [
        "X[7], X[8]"
      ]
    },
    {
      "cell_type": "markdown",
      "metadata": {
        "id": "vM0GYgywyQPH"
      },
      "source": [
        "Interpolamos para X = 1 cm"
      ]
    },
    {
      "cell_type": "code",
      "execution_count": null,
      "metadata": {
        "id": "dxNGBw7f-8ZW"
      },
      "outputs": [],
      "source": [
        "Drn = Dr[7] + (Dr[8] - Dr[7])/(X[8] - X[7])*(1.-X[7])"
      ]
    },
    {
      "cell_type": "markdown",
      "metadata": {
        "id": "j4H0zcJ6hVyR"
      },
      "source": [
        "### Cálculos TG43 para la fuente Bebig de I125"
      ]
    },
    {
      "cell_type": "markdown",
      "metadata": {
        "id": "G61m_ThvgM-s"
      },
      "source": [
        "Leemos los datos tabulados de la AAPM\n",
        "\n",
        "Función de dosis radial $g_L$, función de anisotropía $\\phi_{an}(r)$ para la aproximación 1D y función $F(r, \\theta)$ para el tratamiento 2D"
      ]
    },
    {
      "cell_type": "code",
      "execution_count": null,
      "metadata": {
        "id": "ICfj2TLq37y1"
      },
      "outputs": [],
      "source": [
        "# Descargar los datos tabulados de la fuente\n",
        "!wget -O FuncionesDosimetricas.xlsx https://raw.githubusercontent.com/csarux/TutorialesFisicaRadioterapia/main/Enunciados/FuenteBraquiterapia/FuncionesDosimetricas.xlsx"
      ]
    },
    {
      "cell_type": "markdown",
      "metadata": {
        "id": "rKjIPKo1148a"
      },
      "source": [
        "Cargamos las tablas de la AAPM"
      ]
    },
    {
      "cell_type": "code",
      "execution_count": null,
      "metadata": {
        "id": "9il387Sc4CgM"
      },
      "outputs": [],
      "source": [
        "gdf = pd.read_excel('FuncionesDosimetricas.xlsx', sheet_name='g')\n",
        "phiandf = pd.read_excel('FuncionesDosimetricas.xlsx', sheet_name='phi_an')\n",
        "Fdf = pd.read_excel('FuncionesDosimetricas.xlsx', sheet_name='F')"
      ]
    },
    {
      "cell_type": "markdown",
      "metadata": {
        "id": "wXo13frBwkuY"
      },
      "source": [
        "## Implementación continua de las tablas de la AAPM\n",
        "El código definido en esta sección implementa funciones que leen los datos de las tablas de la AAPM y mediante interpolación permiten generar datos continuos en el espacio.\n",
        "\n",
        "### Definición de las funciones $\\beta(r, \\theta)$, $G_L(r, \\theta)$, $g_L(r)$, $F(r, \\theta)$ y  $\\phi_{an}(r)$\n",
        "Todas estas funciones se vectorizan. Recordemos que a una función que soporta vectorización se le puede pasar un array y la función se aplicará sobre cada elemento del array sin necesidad de iterar. Por tanto una función vectorizada devuelve un array de las mismas dimensiones que el array de entrada."
      ]
    },
    {
      "cell_type": "code",
      "execution_count": null,
      "metadata": {
        "id": "1xWTB92cwkuY"
      },
      "outputs": [],
      "source": [
        "### - Este código no se tiene que modificar - ###\n",
        "\n",
        "# Definir la función beta\n",
        "def beta(r, theta):\n",
        "    if r * np.cos(theta) > L/2:\n",
        "        return np.arctan(r*np.sin(theta)/(r*np.cos(theta)-L/2)) - np.arctan(r*np.sin(theta)/(r*np.cos(theta)+L/2))\n",
        "    elif r * np.cos(theta) == L/2:\n",
        "        return np.pi/2 - np.arctan(r*np.sin(theta)/(r*np.cos(theta)+L/2))\n",
        "    else:\n",
        "        return (np.pi/2 + np.arctan((L/2-r*np.cos(theta))/r/np.sin(theta)) \n",
        "                - np.arctan(r*np.sin(theta)/(r*np.cos(theta)+L/2)))\n",
        "        \n",
        "# Definir la función G_L\n",
        "def G_L(r, theta):\n",
        "    if theta == 0:\n",
        "        return 1 / (r**2 - L**2/4)\n",
        "    else:\n",
        "        return beta(r, theta)/(L * r * np.sin(theta))\n",
        "# Vectorizarla\n",
        "G_L_v = np.vectorize(G_L)\n",
        "\n",
        "# Definir la función g_L\n",
        "def g_L(r):\n",
        "    return gdf.loc[gdf['r']==r]['Lineal'].values[0]\n",
        "# Vectorizarla\n",
        "g_L_v = np.vectorize(g_L)\n",
        "\n",
        "# Definir la función de anisotropia 1D\n",
        "def phi_an(r):\n",
        "    return phiandf.loc[phiandf['r']==r]['phi'].values[0]\n",
        "# Vectorizarla\n",
        "phi_an_v = np.vectorize(phi_an)\n",
        "\n",
        "# Definir la función de anisotropia 2D\n",
        "def F(r, theta):\n",
        "    theta = abs(theta)\n",
        "    return Fdf.loc[Fdf['theta']==theta][r].values[0]\n",
        "# Vectorizarla\n",
        "F_v = np.vectorize(F)"
      ]
    },
    {
      "cell_type": "markdown",
      "metadata": {
        "id": "PYNB-G98C9_g"
      },
      "source": [
        "Definimos la constante de normalización de la función de geometría $G_L(r_0, \\theta_0)$"
      ]
    },
    {
      "cell_type": "code",
      "execution_count": null,
      "metadata": {
        "id": "XQjIenbhC9_g"
      },
      "outputs": [],
      "source": [
        "G_L_r0_theta0 = G_L(r0, theta0 * d_r)"
      ]
    },
    {
      "cell_type": "markdown",
      "metadata": {
        "id": "N6SbhNXrwkui"
      },
      "source": [
        "Para generar el gráfico con la distribución espacial de la tasa de dosis en una geometría similar a la de la simulación definimos los vectores con el muestreo de $r$ y $\\theta$"
      ]
    },
    {
      "cell_type": "code",
      "execution_count": null,
      "metadata": {
        "id": "rp7ZIujVwkul"
      },
      "outputs": [],
      "source": [
        "### - Este código no se tiene que modificar - ###\n",
        "rv = np.array([0.25, 0.5, 1., 2., 3.,  4., 5., 7.])\n",
        "thetav = Fdf['theta'].values"
      ]
    },
    {
      "cell_type": "markdown",
      "metadata": {
        "id": "QXwrGVHRKpkP"
      },
      "source": [
        "Generamos los mallados de coordenadas"
      ]
    },
    {
      "cell_type": "code",
      "execution_count": null,
      "metadata": {
        "id": "xeScaTw9wkum"
      },
      "outputs": [],
      "source": [
        "### - Este código no se tiene que modificar - ###\n",
        "R, Theta = np.meshgrid(rv, thetav * d_r) # Ángulos en radianes\n",
        "R, ThetaDeg = np.meshgrid(rv, thetav)    # Ángulos en grados sexagesimales"
      ]
    },
    {
      "cell_type": "markdown",
      "metadata": {
        "id": "j_K6gPeSwkun"
      },
      "source": [
        "Definimos las funciones de interpolación para las funciones $g_L$, $F$ y  $\\phi_{an}$ y las vectorizamos"
      ]
    },
    {
      "cell_type": "code",
      "execution_count": null,
      "metadata": {
        "id": "dyQekaWXwkun"
      },
      "outputs": [],
      "source": [
        "### - Este código no se tiene que modificar - ###\n",
        "%%capture --no-display\n",
        "\n",
        "# Definir funciones\n",
        "g_Lf = cspline(rv, g_L_v(rv), kind='cubic', bounds_error=False, fill_value=\"extrapolate\")\n",
        "Ff = interp2d(R, ThetaDeg, F_v(R, ThetaDeg), kind='cubic', bounds_error=False, fill_value=None)\n",
        "phi_anf = cspline(rv, phi_an_v(rv), kind='cubic', bounds_error=False, fill_value=\"extrapolate\")\n",
        "\n",
        "# Vectorizarlas\n",
        "Ffv = np.vectorize(Ff)\n",
        "phi_anfv = np.vectorize(phi_anf)"
      ]
    },
    {
      "cell_type": "markdown",
      "metadata": {
        "id": "UICBQpSwwkup"
      },
      "source": [
        "### Comparación con las aproximaciones 1D y 2D del TG43"
      ]
    },
    {
      "cell_type": "markdown",
      "metadata": {
        "id": "6P1C1O0wwkwD"
      },
      "source": [
        "### Curvas de isovalores, igual tasa de dosis\n",
        "\n",
        "Comparamos la distribución calculada utilizando LegPy con la aproximación 1D de la AAPM.\n",
        "\n",
        "Calculamos primero un valor de renormalización igualando el valor de ambas distribuciones en el punto de referencia"
      ]
    },
    {
      "cell_type": "code",
      "execution_count": null,
      "metadata": {
        "id": "-OZknfV7nQGv"
      },
      "outputs": [],
      "source": [
        "def norm_val(S, Phi, Dr):\n",
        "    Drn = Dr[7] + (Dr[8] - Dr[7])/(X[8] - X[7])*(1.-X[7])\n",
        "    return G_L_v(S, Phi*d_r) / G_L_r0_theta0 * g_Lf(S) * phi_anfv(S)/Drn\n",
        "\n",
        "knorm = norm_val(1, 0, Dr)"
      ]
    },
    {
      "cell_type": "markdown",
      "metadata": {
        "id": "ZDcnBiRAnQGv"
      },
      "source": [
        "Comparación con la aproximación 1D"
      ]
    },
    {
      "cell_type": "code",
      "execution_count": null,
      "metadata": {
        "id": "GVKlablFnQGv"
      },
      "outputs": [],
      "source": [
        "%%capture --no-display\n",
        "# Aproximación 1D\n",
        "# Vectores con las coordenadas radial 's' y angular 'phi'\n",
        "sv, phiv = np.arange(0, 7.05, 0.1), np.arange(0.0, 90.05, 1)\n",
        "# Establecer el mallado de coordenandas necesario para la representación 2D\n",
        "# Coordenadas polares\n",
        "S, Phi = np.meshgrid(sv, phiv)\n",
        "# Coordenadas cartesianas\n",
        "U, V = S * np.sin(Phi*d_r), S * np.cos(Phi*d_r)\n",
        "# Cálculo de la aproximación 1D\n",
        "D_rate_den_1D = G_L_v(S, Phi*d_r) / G_L_r0_theta0 * g_Lf(S) * phi_anfv(S)\n",
        "# Construir la figura\n",
        "fig, ax = plt.subplots(figsize=(5, 10))\n",
        "# Definir los niveles de las isodosis\n",
        "levels = np.geomspace(0.002, 40., 12)\n",
        "# Representar la simulación realizada por LegPy, recentrándola para colocar la fuente en el origen\n",
        "CSL = ax.contour(X, Y - 7, knorm * Z, levels=levels, cmap='summer')\n",
        "ax.clabel(CSL, levels, fmt='%4.3f')\n",
        "# Representar la aproximación 1D\n",
        "CS1D = ax.contour(U, V, D_rate_den_1D, levels=levels, cmap='viridis')\n",
        "ax.clabel(CS1D, levels, fmt='%4.3f')\n",
        "CS1D = ax.contour(U, -V, D_rate_den_1D, levels=levels, cmap='viridis')\n",
        "ax.clabel(CS1D, levels, fmt='%4.3f')\n",
        "# Formato de los ejes\n",
        "ax.set_xlabel('r [cm]')\n",
        "ax.set_ylabel('z [cm]')\n",
        "plt.show()"
      ]
    },
    {
      "cell_type": "markdown",
      "metadata": {
        "id": "WYh9IJZQlGoI"
      },
      "source": [
        "Comparación con la aproximación 2D"
      ]
    },
    {
      "cell_type": "code",
      "execution_count": null,
      "metadata": {
        "id": "vhc3iMCiUdV5"
      },
      "outputs": [],
      "source": [
        "%%capture --no-display\n",
        "# Aproximación 2D\n",
        "# Vectores con las coordenadas radial 's' y angular 'phi'\n",
        "sv, phiv = np.arange(0, 7.05, 0.1), np.arange(-0.0, 90.05, 1)\n",
        "# Establecer el mallado de coordenandas necesario para la representación 2D\n",
        "# Coordenadas polares\n",
        "S, Phi = np.meshgrid(sv, phiv)\n",
        "# Coordenadas cartesianas\n",
        "U, V = S * np.sin(Phi*d_r), S * np.cos(Phi*d_r)\n",
        "# Cálculo de la aproximación 2D\n",
        "D_rate_den_2D = G_L_v(S, Phi*d_r) / G_L_r0_theta0 * g_Lf(S) * Ffv(S, Phi)\n",
        "# Construir la figura\n",
        "fig, ax = plt.subplots(figsize=(5, 10))\n",
        "# Definir los niveles de las isodosis\n",
        "levels = np.geomspace(0.002, 40., 12)\n",
        "# Representar la simulación realizada por LegPy\n",
        "CSL = ax.contour(X, Y - 7, Z * knorm, levels=levels, cmap='summer')\n",
        "ax.clabel(CSL, levels, fmt='%4.3f')\n",
        "# Representar la aproximación 2D\n",
        "CS2D = ax.contour(U, V, D_rate_den_2D, levels=levels)\n",
        "ax.clabel(CS2D, levels, fmt='%4.3f')\n",
        "CS2D = ax.contour(U, -V, D_rate_den_2D, levels=levels)\n",
        "ax.clabel(CS2D, levels, fmt='%4.3f')\n",
        "# Formato de los ejes\n",
        "ax.set_xlabel('r [cm]')\n",
        "ax.set_ylabel('z [cm]')\n",
        "ax.set_xlim(0, 7)\n",
        "ax.set_ylim(-7, 7)\n",
        "plt.show()"
      ]
    },
    {
      "cell_type": "markdown",
      "metadata": {
        "id": "xXV3PV_lz3I_"
      },
      "source": [
        "### Validación a través de la función de dosis radial\n",
        "\n",
        "Calculamos la función $g_L(r)$ a partir del depósito relativo de energía \n",
        "\\begin{equation}\n",
        "  g_L(r) = \\frac{\\dot D(r)}{\\dot D(r_0)}\\frac{G_L(r_0, \\theta_0)}{G_L(r, \\theta_0)}\n",
        "\\end{equation}\n",
        "\n",
        "Donde hemos tenido en cuenta que en la aproximación 2D $F(r, \\theta_0) = 1$ \n",
        "\n",
        "Hacemos una gráfica en la que comparamos la función $g_L$ tabulada según las dos aproximaciones con los datos obetenidos de la simulación"
      ]
    },
    {
      "cell_type": "code",
      "execution_count": null,
      "metadata": {
        "id": "82uBxuqFt7ah"
      },
      "outputs": [],
      "source": [
        "fig, ax = plt.subplots()\n",
        "ax.plot(X, Dr/Drn * G_L_r0_theta0/G_L_v(X, 90*d_r), 'r.')\n",
        "ax.plot(gdf.r, gdf.Lineal, 'b.')\n",
        "ax.plot(gdf.r, gdf.Puntual, 'g.')\n",
        "\n",
        "ax.set_xlabel('r [cm]')\n",
        "ax.set_ylabel('$g_L(r)$')\n",
        "\n",
        "ax.legend(['Simulación', 'TG43 Lineal', 'TG43 Puntual'])\n",
        "plt.show()"
      ]
    },
    {
      "cell_type": "markdown",
      "metadata": {
        "id": "E1fNhdqKMDNh"
      },
      "source": [
        "## Cuestiones\n",
        "\n",
        "Comentar los resultados obtenidos respondiendo las siguientes preguntas\n",
        "\n",
        "- *¿cuál de los dos aproximaciones parece más adecuada para describir la fuente?*\n",
        "\n",
        "- *A la vista de los resultados ¿hay un proceso físico que no se esté teniendo en cuenta en la simulación de la fuente? ¿Por qué es diferente el grado de acuerdo en el eje que contiene la fuente que en la dirección perpendicular?*\n",
        "\n",
        "\n",
        "- *Desde un punto de vista cualitativo ¿cuánto de importante es haber ignorado en la simulación el material de contención del material radiactivo?*\n",
        "\n",
        "\n",
        "- *Sabiendo que el volumen típico de la próstata es de unos 75 centímetros cúbicos y que en un implante se intenta colocar las semillas en un mallado cúbico separadas unas de otras por un un centímetro, realizar una estimación de la incertidumbre en el cálculo de dosis por emplear la aproximación 1D frente a la 2D. (Basta con dar una explicación cualitativa de cómo se haría la estimación)*\n"
      ]
    },
    {
      "cell_type": "code",
      "execution_count": null,
      "metadata": {
        "id": "fUaxmZFBVKZc"
      },
      "outputs": [],
      "source": []
    }
  ],
  "metadata": {
    "colab": {
      "provenance": []
    },
    "kernelspec": {
      "display_name": "Python 3 (ipykernel)",
      "language": "python",
      "name": "python3"
    },
    "language_info": {
      "codemirror_mode": {
        "name": "ipython",
        "version": 3
      },
      "file_extension": ".py",
      "mimetype": "text/x-python",
      "name": "python",
      "nbconvert_exporter": "python",
      "pygments_lexer": "ipython3",
      "version": "3.9.6"
    }
  },
  "nbformat": 4,
  "nbformat_minor": 0
}