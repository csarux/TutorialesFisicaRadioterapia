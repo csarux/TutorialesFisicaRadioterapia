{
  "cells": [
    {
      "attachments": {},
      "cell_type": "markdown",
      "metadata": {
        "id": "jTr_5sOpFC0s"
      },
      "source": [
        "# Tutorial sobre cómo usar LegPy en Física de la Radioterapia\n",
        "-----\n",
        "## Montar gDrive\n",
        "\n",
        "Para acceder a los archivos almacenados en nuestro Google Drive desde cuadernos Colab primero es necesario montar el disco.\n",
        "\n",
        "El siguiente código realiza ese proceso. Para completarlo Colab nos pedira autorización para acceder a nuestro disco"
      ]
    },
    {
      "cell_type": "code",
      "execution_count": 1,
      "metadata": {
        "colab": {
          "base_uri": "https://localhost:8080/"
        },
        "id": "7W86C_BKFC0u",
        "outputId": "de57d9a0-f53e-47e6-b4cc-834df5276dd0"
      },
      "outputs": [
        {
          "name": "stdout",
          "output_type": "stream",
          "text": [
            "Mounted at /content/gdrive\n"
          ]
        }
      ],
      "source": [
        "# - Importar el módulo para acceder a Drive\n",
        "from google.colab import drive\n",
        "# - Montar el disco\n",
        "drive.mount('/content/gdrive')"
      ]
    },
    {
      "cell_type": "code",
      "execution_count": 5,
      "metadata": {
        "colab": {
          "base_uri": "https://localhost:8080/"
        },
        "id": "11e8_aWdGKfG",
        "outputId": "b280de76-dce6-4ef1-c1e8-170e6f313137"
      },
      "outputs": [
        {
          "name": "stdout",
          "output_type": "stream",
          "text": [
            "Reading package lists... Done\n",
            "Building dependency tree       \n",
            "Reading state information... Done\n",
            "The following additional packages will be installed:\n",
            "  libapr1 libaprutil1 libserf-1-1 libsvn1 libutf8proc2\n",
            "Suggested packages:\n",
            "  db5.3-util libapache2-mod-svn subversion-tools\n",
            "The following NEW packages will be installed:\n",
            "  libapr1 libaprutil1 libserf-1-1 libsvn1 libutf8proc2 subversion\n",
            "0 upgraded, 6 newly installed, 0 to remove and 24 not upgraded.\n",
            "Need to get 2,355 kB of archives.\n",
            "After this operation, 10.3 MB of additional disk space will be used.\n",
            "Get:1 http://archive.ubuntu.com/ubuntu focal/main amd64 libapr1 amd64 1.6.5-1ubuntu1 [91.4 kB]\n",
            "Get:2 http://archive.ubuntu.com/ubuntu focal-updates/main amd64 libaprutil1 amd64 1.6.1-4ubuntu2.1 [84.9 kB]\n",
            "Get:3 http://archive.ubuntu.com/ubuntu focal/universe amd64 libserf-1-1 amd64 1.3.9-8build1 [45.2 kB]\n",
            "Get:4 http://archive.ubuntu.com/ubuntu focal/universe amd64 libutf8proc2 amd64 2.5.0-1 [50.0 kB]\n",
            "Get:5 http://archive.ubuntu.com/ubuntu focal-updates/universe amd64 libsvn1 amd64 1.13.0-3ubuntu0.2 [1,260 kB]\n",
            "Get:6 http://archive.ubuntu.com/ubuntu focal-updates/universe amd64 subversion amd64 1.13.0-3ubuntu0.2 [824 kB]\n",
            "Fetched 2,355 kB in 0s (5,650 kB/s)\n",
            "Selecting previously unselected package libapr1:amd64.\n",
            "(Reading database ... 122352 files and directories currently installed.)\n",
            "Preparing to unpack .../0-libapr1_1.6.5-1ubuntu1_amd64.deb ...\n",
            "Unpacking libapr1:amd64 (1.6.5-1ubuntu1) ...\n",
            "Selecting previously unselected package libaprutil1:amd64.\n",
            "Preparing to unpack .../1-libaprutil1_1.6.1-4ubuntu2.1_amd64.deb ...\n",
            "Unpacking libaprutil1:amd64 (1.6.1-4ubuntu2.1) ...\n",
            "Selecting previously unselected package libserf-1-1:amd64.\n",
            "Preparing to unpack .../2-libserf-1-1_1.3.9-8build1_amd64.deb ...\n",
            "Unpacking libserf-1-1:amd64 (1.3.9-8build1) ...\n",
            "Selecting previously unselected package libutf8proc2:amd64.\n",
            "Preparing to unpack .../3-libutf8proc2_2.5.0-1_amd64.deb ...\n",
            "Unpacking libutf8proc2:amd64 (2.5.0-1) ...\n",
            "Selecting previously unselected package libsvn1:amd64.\n",
            "Preparing to unpack .../4-libsvn1_1.13.0-3ubuntu0.2_amd64.deb ...\n",
            "Unpacking libsvn1:amd64 (1.13.0-3ubuntu0.2) ...\n",
            "Selecting previously unselected package subversion.\n",
            "Preparing to unpack .../5-subversion_1.13.0-3ubuntu0.2_amd64.deb ...\n",
            "Unpacking subversion (1.13.0-3ubuntu0.2) ...\n",
            "Setting up libutf8proc2:amd64 (2.5.0-1) ...\n",
            "Setting up libapr1:amd64 (1.6.5-1ubuntu1) ...\n",
            "Setting up libaprutil1:amd64 (1.6.1-4ubuntu2.1) ...\n",
            "Setting up libserf-1-1:amd64 (1.3.9-8build1) ...\n",
            "Setting up libsvn1:amd64 (1.13.0-3ubuntu0.2) ...\n",
            "Setting up subversion (1.13.0-3ubuntu0.2) ...\n",
            "Processing triggers for libc-bin (2.31-0ubuntu9.9) ...\n",
            "Processing triggers for man-db (2.9.1-1) ...\n"
          ]
        }
      ],
      "source": [
        "!apt install subversion"
      ]
    },
    {
      "cell_type": "code",
      "execution_count": 7,
      "metadata": {
        "colab": {
          "base_uri": "https://localhost:8080/"
        },
        "id": "pkOJGq9nGbbF",
        "outputId": "caecf7fe-98fb-4855-9401-9067ad5d342c"
      },
      "outputs": [
        {
          "name": "stdout",
          "output_type": "stream",
          "text": [
            ".ipynb_checkpoints/\n",
            "ArchivosMontarDrive.png\n",
            "ArchivosMontarDriveCelda.png\n",
            "CalibracionModelosParametricosLineales.ipynb\n",
            "CalibracionModelosParametricosNoLineales.ipynb\n",
            "DVHs.xlsx\n",
            "EstructuraCarpetas.png\n",
            "FundamentosColab.ipynb\n",
            "IndiceGammaComparacionDistribuciones.ipynb\n",
            "MontarDriveCargarDatos.ipynb\n",
            "Plan.Sagital.Med.dxf\n",
            "Plan.Sagital.dxf\n",
            "TutorialColabFísicaRadioterapia.ipynb\n",
            "VisualizacionDistribucionesPlanaresDosis.ipynb\n",
            "logo_UCM.png\n"
          ]
        }
      ],
      "source": [
        "!svn ls https://github.com/csarux/TutorialesFisicaRadioterapia/trunk/Colab"
      ]
    },
    {
      "cell_type": "code",
      "execution_count": null,
      "metadata": {
        "id": "yACZvsEwHTo7"
      },
      "outputs": [],
      "source": []
    }
  ],
  "metadata": {
    "colab": {
      "provenance": []
    },
    "kernelspec": {
      "display_name": "Python 3 (ipykernel)",
      "language": "python",
      "name": "python3"
    },
    "language_info": {
      "codemirror_mode": {
        "name": "ipython",
        "version": 3
      },
      "file_extension": ".py",
      "mimetype": "text/x-python",
      "name": "python",
      "nbconvert_exporter": "python",
      "pygments_lexer": "ipython3",
      "version": "3.9.15"
    }
  },
  "nbformat": 4,
  "nbformat_minor": 0
}
