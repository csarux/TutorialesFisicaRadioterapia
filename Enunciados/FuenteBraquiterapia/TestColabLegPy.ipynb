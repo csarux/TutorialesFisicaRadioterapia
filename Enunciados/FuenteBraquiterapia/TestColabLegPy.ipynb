{
  "cells": [
    {
      "cell_type": "markdown",
      "metadata": {
        "id": "jTr_5sOpFC0s"
      },
      "source": [
        "# Tutorial sobre cómo usar LegPy en Física de la Radioterapia\n",
        "-----\n",
        "## Montar gDrive\n",
        "\n",
        "Para acceder a los archivos almacenados en nuestro Google Drive desde cuadernos Colab primero es necesario montar el disco.\n",
        "\n",
        "El siguiente código realiza ese proceso. Para completarlo Colab nos pedira autorización para acceder a nuestro disco"
      ]
    },
    {
      "cell_type": "code",
      "execution_count": null,
      "metadata": {
        "colab": {
          "base_uri": "https://localhost:8080/"
        },
        "id": "7W86C_BKFC0u",
        "outputId": "de57d9a0-f53e-47e6-b4cc-834df5276dd0"
      },
      "outputs": [
        {
          "name": "stdout",
          "output_type": "stream",
          "text": [
            "Mounted at /content/gdrive\n"
          ]
        }
      ],
      "source": [
        "# - Importar el módulo para acceder a Drive\n",
        "from google.colab import drive\n",
        "# - Montar el disco\n",
        "drive.mount('/content/gdrive')"
      ]
    },
    {
      "cell_type": "code",
      "execution_count": 1,
      "metadata": {
        "colab": {
          "base_uri": "https://localhost:8080/"
        },
        "id": "11e8_aWdGKfG",
        "outputId": "8aa9e2a6-3bdd-454d-f56e-379547e68d76"
      },
      "outputs": [
        {
          "output_type": "stream",
          "name": "stdout",
          "text": [
            "Reading package lists... Done\n",
            "Building dependency tree       \n",
            "Reading state information... Done\n",
            "The following additional packages will be installed:\n",
            "  libapr1 libaprutil1 libserf-1-1 libsvn1 libutf8proc2\n",
            "Suggested packages:\n",
            "  db5.3-util libapache2-mod-svn subversion-tools\n",
            "The following NEW packages will be installed:\n",
            "  libapr1 libaprutil1 libserf-1-1 libsvn1 libutf8proc2 subversion\n",
            "0 upgraded, 6 newly installed, 0 to remove and 24 not upgraded.\n",
            "Need to get 2,355 kB of archives.\n",
            "After this operation, 10.3 MB of additional disk space will be used.\n",
            "Get:1 http://archive.ubuntu.com/ubuntu focal/main amd64 libapr1 amd64 1.6.5-1ubuntu1 [91.4 kB]\n",
            "Get:2 http://archive.ubuntu.com/ubuntu focal-updates/main amd64 libaprutil1 amd64 1.6.1-4ubuntu2.1 [84.9 kB]\n",
            "Get:3 http://archive.ubuntu.com/ubuntu focal/universe amd64 libserf-1-1 amd64 1.3.9-8build1 [45.2 kB]\n",
            "Get:4 http://archive.ubuntu.com/ubuntu focal/universe amd64 libutf8proc2 amd64 2.5.0-1 [50.0 kB]\n",
            "Get:5 http://archive.ubuntu.com/ubuntu focal-updates/universe amd64 libsvn1 amd64 1.13.0-3ubuntu0.2 [1,260 kB]\n",
            "Get:6 http://archive.ubuntu.com/ubuntu focal-updates/universe amd64 subversion amd64 1.13.0-3ubuntu0.2 [824 kB]\n",
            "Fetched 2,355 kB in 1s (2,712 kB/s)\n",
            "Selecting previously unselected package libapr1:amd64.\n",
            "(Reading database ... 122352 files and directories currently installed.)\n",
            "Preparing to unpack .../0-libapr1_1.6.5-1ubuntu1_amd64.deb ...\n",
            "Unpacking libapr1:amd64 (1.6.5-1ubuntu1) ...\n",
            "Selecting previously unselected package libaprutil1:amd64.\n",
            "Preparing to unpack .../1-libaprutil1_1.6.1-4ubuntu2.1_amd64.deb ...\n",
            "Unpacking libaprutil1:amd64 (1.6.1-4ubuntu2.1) ...\n",
            "Selecting previously unselected package libserf-1-1:amd64.\n",
            "Preparing to unpack .../2-libserf-1-1_1.3.9-8build1_amd64.deb ...\n",
            "Unpacking libserf-1-1:amd64 (1.3.9-8build1) ...\n",
            "Selecting previously unselected package libutf8proc2:amd64.\n",
            "Preparing to unpack .../3-libutf8proc2_2.5.0-1_amd64.deb ...\n",
            "Unpacking libutf8proc2:amd64 (2.5.0-1) ...\n",
            "Selecting previously unselected package libsvn1:amd64.\n",
            "Preparing to unpack .../4-libsvn1_1.13.0-3ubuntu0.2_amd64.deb ...\n",
            "Unpacking libsvn1:amd64 (1.13.0-3ubuntu0.2) ...\n",
            "Selecting previously unselected package subversion.\n",
            "Preparing to unpack .../5-subversion_1.13.0-3ubuntu0.2_amd64.deb ...\n",
            "Unpacking subversion (1.13.0-3ubuntu0.2) ...\n",
            "Setting up libutf8proc2:amd64 (2.5.0-1) ...\n",
            "Setting up libapr1:amd64 (1.6.5-1ubuntu1) ...\n",
            "Setting up libaprutil1:amd64 (1.6.1-4ubuntu2.1) ...\n",
            "Setting up libserf-1-1:amd64 (1.3.9-8build1) ...\n",
            "Setting up libsvn1:amd64 (1.13.0-3ubuntu0.2) ...\n",
            "Setting up subversion (1.13.0-3ubuntu0.2) ...\n",
            "Processing triggers for libc-bin (2.31-0ubuntu9.9) ...\n",
            "Processing triggers for man-db (2.9.1-1) ...\n"
          ]
        }
      ],
      "source": [
        "!apt install subversion"
      ]
    },
    {
      "cell_type": "code",
      "execution_count": 2,
      "metadata": {
        "colab": {
          "base_uri": "https://localhost:8080/"
        },
        "id": "pkOJGq9nGbbF",
        "outputId": "2810c16d-9d82-4333-f76e-8189ab941ed8"
      },
      "outputs": [
        {
          "output_type": "stream",
          "name": "stdout",
          "text": [
            "MC.py\n",
            "__init__.py\n",
            "__pycache__/\n",
            "analysis_tools.py\n",
            "angles.py\n",
            "beam.py\n",
            "beam_spectra/\n",
            "electron_data/\n",
            "figures.py\n",
            "geometry.py\n",
            "medium.py\n",
            "photon_data/\n",
            "spectrum.py\n"
          ]
        }
      ],
      "source": [
        "!svn ls https://github.com/csarux/TutorialesFisicaRadioterapia/trunk/Enunciados/FuenteBraquiterapia/LegPy"
      ]
    },
    {
      "cell_type": "code",
      "execution_count": 5,
      "metadata": {
        "id": "yACZvsEwHTo7",
        "outputId": "5cb48b54-d6c3-4343-d9e8-93250359b954",
        "colab": {
          "base_uri": "https://localhost:8080/"
        }
      },
      "outputs": [
        {
          "output_type": "stream",
          "name": "stdout",
          "text": [
            "sys.path = [\n",
            "    '/content',\n",
            "    '/env/python',\n",
            "    '/usr/lib/python39.zip',\n",
            "    '/usr/lib/python3.9',\n",
            "    '/usr/lib/python3.9/lib-dynload',\n",
            "    '/usr/local/lib/python3.9/dist-packages',\n",
            "    '/usr/lib/python3/dist-packages',\n",
            "]\n",
            "USER_BASE: '/root/.local' (exists)\n",
            "USER_SITE: '/root/.local/lib/python3.9/site-packages' (doesn't exist)\n",
            "ENABLE_USER_SITE: True\n"
          ]
        }
      ],
      "source": [
        "!python -m site"
      ]
    },
    {
      "cell_type": "code",
      "source": [
        "import LegPy"
      ],
      "metadata": {
        "id": "jLF-4ovtAYEP"
      },
      "execution_count": 9,
      "outputs": []
    },
    {
      "cell_type": "code",
      "source": [
        "!svn checkout https://github.com/csarux/TutorialesFisicaRadioterapia/trunk/Enunciados/FuenteBraquiterapia/LegPy"
      ],
      "metadata": {
        "id": "IiFkW9VTBR8N",
        "outputId": "dc34c457-c34e-45a7-8d49-475e391307a0",
        "colab": {
          "base_uri": "https://localhost:8080/"
        }
      },
      "execution_count": 7,
      "outputs": [
        {
          "output_type": "stream",
          "name": "stdout",
          "text": [
            "A    LegPy/MC.py\n",
            "A    LegPy/__init__.py\n",
            "A    LegPy/__pycache__\n",
            "A    LegPy/__pycache__/MC.cpython-39.pyc\n",
            "A    LegPy/__pycache__/__init__.cpython-39.pyc\n",
            "A    LegPy/__pycache__/analysis_tools.cpython-39.pyc\n",
            "A    LegPy/__pycache__/angles.cpython-39.pyc\n",
            "A    LegPy/__pycache__/beam.cpython-39.pyc\n",
            "A    LegPy/__pycache__/figures.cpython-39.pyc\n",
            "A    LegPy/__pycache__/geometry.cpython-39.pyc\n",
            "A    LegPy/__pycache__/medium.cpython-39.pyc\n",
            "A    LegPy/__pycache__/spectrum.cpython-39.pyc\n",
            "A    LegPy/analysis_tools.py\n",
            "A    LegPy/angles.py\n",
            "A    LegPy/beam.py\n",
            "A    LegPy/beam_spectra\n",
            "A    LegPy/beam_spectra/120KVNu_1.8Al.txt\n",
            "A    LegPy/beam_spectra/60kV_0.2Cu.txt\n",
            "A    LegPy/beam_spectra/6MV.txt\n",
            "A    LegPy/beam_spectra/__init__.py\n",
            "A    LegPy/beam_spectra/__pycache__\n",
            "A    LegPy/beam_spectra/__pycache__/__init__.cpython-39.pyc\n",
            "A    LegPy/beam_spectra/example.txt\n",
            "A    LegPy/electron_data\n",
            "A    LegPy/electron_data/Al.txt\n",
            "A    LegPy/electron_data/Au.txt\n",
            "A    LegPy/electron_data/Bone.txt\n",
            "A    LegPy/electron_data/CsI.txt\n",
            "A    LegPy/electron_data/Ge.txt\n",
            "A    LegPy/electron_data/Muscle.txt\n",
            "A    LegPy/electron_data/NaI.txt\n",
            "A    LegPy/electron_data/Pb.txt\n",
            "A    LegPy/electron_data/Si.txt\n",
            "A    LegPy/electron_data/__init__.py\n",
            "A    LegPy/electron_data/__pycache__\n",
            "A    LegPy/electron_data/__pycache__/__init__.cpython-39.pyc\n",
            "A    LegPy/electron_data/water.txt\n",
            "A    LegPy/figures.py\n",
            "A    LegPy/geometry.py\n",
            "A    LegPy/medium.py\n",
            "A    LegPy/photon_data\n",
            "A    LegPy/photon_data/Ag.txt\n",
            "A    LegPy/photon_data/Al.txt\n",
            "A    LegPy/photon_data/Au.txt\n",
            "A    LegPy/photon_data/Bone.txt\n",
            "A    LegPy/photon_data/C.txt\n",
            "A    LegPy/photon_data/CsI.txt\n",
            "A    LegPy/photon_data/Cu.txt\n",
            "A    LegPy/photon_data/Ge.txt\n",
            "A    LegPy/photon_data/Muscle.txt\n",
            "A    LegPy/photon_data/NaI.txt\n",
            "A    LegPy/photon_data/Pb.txt\n",
            "A    LegPy/photon_data/Si.txt\n",
            "A    LegPy/photon_data/Tissue.txt\n",
            "A    LegPy/photon_data/Water.txt\n",
            "A    LegPy/photon_data/__init__.py\n",
            "A    LegPy/photon_data/__pycache__\n",
            "A    LegPy/photon_data/__pycache__/__init__.cpython-39.pyc\n",
            "A    LegPy/photon_data/phot_cs_param.txt\n",
            "A    LegPy/spectrum.py\n",
            "Checked out revision 33.\n"
          ]
        }
      ]
    },
    {
      "cell_type": "code",
      "source": [
        "%ls"
      ],
      "metadata": {
        "id": "ATQK4KXnBxD1",
        "outputId": "6de915d7-c34c-49cc-bff8-92231224882a",
        "colab": {
          "base_uri": "https://localhost:8080/"
        }
      },
      "execution_count": 8,
      "outputs": [
        {
          "output_type": "stream",
          "name": "stdout",
          "text": [
            "\u001b[0m\u001b[01;34mLegPy\u001b[0m/  \u001b[01;34msample_data\u001b[0m/\n"
          ]
        }
      ]
    },
    {
      "cell_type": "code",
      "source": [],
      "metadata": {
        "id": "Tn0npi0hBzIB"
      },
      "execution_count": null,
      "outputs": []
    }
  ],
  "metadata": {
    "colab": {
      "provenance": []
    },
    "kernelspec": {
      "display_name": "Python 3 (ipykernel)",
      "language": "python",
      "name": "python3"
    },
    "language_info": {
      "codemirror_mode": {
        "name": "ipython",
        "version": 3
      },
      "file_extension": ".py",
      "mimetype": "text/x-python",
      "name": "python",
      "nbconvert_exporter": "python",
      "pygments_lexer": "ipython3",
      "version": "3.9.15"
    }
  },
  "nbformat": 4,
  "nbformat_minor": 0
}