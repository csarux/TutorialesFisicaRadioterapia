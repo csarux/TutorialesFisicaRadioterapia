{
 "cells": [
  {
   "cell_type": "markdown",
   "id": "bed28c1d-6cf8-4edf-a73b-19b94666d0fa",
   "metadata": {},
   "source": [
    "#### Física de la Radioterapia. Master de Física Biomédica. Universidad Complutense de Madrid\n",
    "# Calibración del acelerador lineal\n",
    "## Haces de fotones medidos en condiciones de referencia\n",
    "-----\n",
    "\n",
    "**Objetivos**: \n",
    "Determinar la dosis absorbida producida por un campo de radiación en condiciones estándar de calibración utilizando una cámara de ionización tipo Farmer y aplicando el [protocolo de dosimetría de la IAEA TRS398](https://www-pub.iaea.org/MTCD/publications/PDF/TRS_398s_Web.pdf). Se recomienda leer al menos el epígrafe **3. FORMALISMO BASADO EN** $N_{D,w}$ del protocolo.\n",
    "\n",
    "**Antecendentes**: De acuerdo al TRS398 la magnitud $D_{w, Q}$, dosis en agua para la calidad de la radiación $Q$, se puede determinar mediante la expresión\n",
    "\n",
    "\\begin{equation}\n",
    "    D_{w, Q} = M_Q\\;N_{D, w, Q_0}\\;k_{Q, Q_0}\\;k_{sat}\\;k_{pol}.\n",
    "\\end{equation}\n",
    "\n",
    "donde:\n",
    "- $M_Q$ es la lectura neta del electrómetro expresado en condiciones normales\n",
    "- $N_{D, w, Q_0}$ es el valor del factor de calibración de la cámara en condiciones de referencia\n",
    "- $k_{Q, Q_0}$ es el factor de corrección por la calidad del haz del factor de calibración\n",
    "- $k_{sat}$ es el factor de corrección por saturación de la cámara\n",
    "- $k_{pol}$ es factor de corrección por dependencia de la lectura de la cámara con la polarización de sus electrodos\n",
    "\n",
    "**Datos**:\n",
    "Los datos de la cámara empleada están recogidos en su [certificado de calibración](https://raw.githubusercontent.com/csarux/TutorialesFisicaRadioterapia/main/Enunciados/CalibracionAcelerador/docs/CamaraFarmer10820.pdf)\n",
    "\n",
    "Previamente se ha determinado que para esta cámara los factores de corrección por saturación $k_{sat}$ y por polarización $k_{pol}$ son ambos igual a uno en las condiciones de medida consideradas.\n",
    "\n",
    "La energía del haz empleado corresponde a una razón TPR${}_{20, 10} = 0.694$.\n",
    "\n",
    "Para recolectar la carga producida en la cámara se utiliza un electrómetro con una resolución de $0.001$ nC.\n",
    "\n",
    "## Cuestión\n",
    "1. Obtener de los datos del TRS398 el factor de corrección de la calibración de la cámara por la energía para el haz utilizado.\n",
    "\n",
    "**Ayuda**: Consultar el CUADRO 14 página 85."
   ]
  },
  {
   "cell_type": "markdown",
   "id": "86d9ba25-e6ee-49f3-97bb-1a294f4ab55b",
   "metadata": {},
   "source": [
    "## Módulo `simcaliblinac`\n",
    "Este cuaderno simula las condiciones variables de la medida mediante generadores aleatorios que siguen distribuciones realistas. Para realizar el ejercicio cada alumno generará y recogerá tanto las medidas como las condiciones en las que las ha realizado.\n",
    "\n",
    "El módulo `simcaliblinac` contiene las funciones para realizar esta simulación.\n",
    "\n",
    "```\n",
    "Nota: El código de este modulo se considera aún en desarrollo.\n",
    "Si al instalar el código aparecen mensajes de error o no es posible localizarlo escribir a cesaro02@ucm.es  \n",
    "```\n",
    "\n",
    "En la siguiente celda instalamos el paquete e importamos el módulo"
   ]
  },
  {
   "cell_type": "code",
   "execution_count": null,
   "id": "cd59117b-bf7d-4624-b94c-6c37101269cb",
   "metadata": {},
   "outputs": [],
   "source": [
    "%pip install --index-url https://test.pypi.org/simple/ simcaliblinac\n",
    "import simcaliblinac.simcaliblinac as scl"
   ]
  },
  {
   "cell_type": "markdown",
   "id": "6890dc73-9349-4c09-a313-cb8e85d447f6",
   "metadata": {},
   "source": [
    "Tomar los valores de la presión atmosférica indicada por el barómetro del Servicio y de la temperatura medida por la sonda del termómetro que introducimos en el agua. \n",
    "\n",
    "Las unidades de las medidas son presión en hPa y temperatura en grados centígrados."
   ]
  },
  {
   "cell_type": "code",
   "execution_count": null,
   "id": "4899f0fb-7bf8-4079-a86d-c7b6e0ab3722",
   "metadata": {},
   "outputs": [],
   "source": [
    "presion, temperatura = scl.presion_temperatura_medida()\n",
    "presion, temperatura"
   ]
  },
  {
   "cell_type": "markdown",
   "id": "9ffd66da-3e0b-4271-b676-3053be4c577f",
   "metadata": {},
   "source": [
    "El módulo `simcaliblinac` ofrece una función para calcular la corrección por presión y temperatura $\\phi$pT"
   ]
  },
  {
   "cell_type": "code",
   "execution_count": null,
   "id": "b3e265e5-4726-4986-a03d-ef5d1ef93c22",
   "metadata": {},
   "outputs": [],
   "source": [
    "ϕpT = scl.ϕpTf(presion, temperatura)\n",
    "ϕpT"
   ]
  },
  {
   "cell_type": "markdown",
   "id": "def44dca-3da2-41cb-8a2f-3faaf709aeda",
   "metadata": {},
   "source": [
    "Una vez montados los equipos, fijadas las condiciones experimentales y con todas las conexiones realizadas, comenzamos por medir la lecutra del electrómetro cuando no hay radiación. En Radioterapia a este valor lo denominamos *corriente de fugas*. Es el equivalente a una lectura de un valor de fondo pero de origen diferente.\n",
    "\n",
    "Las fugas son de naturaleza aleatoria. Su valor medio se estima integrando durante un tiempo dado suficientemente largo como para promediar variaciones instantáneas. \n",
    "\n",
    "El módulo `simcaliblinac` expone un método para obtener una muestra de las fugas recolectadas durante un tiempo dado"
   ]
  },
  {
   "cell_type": "code",
   "execution_count": null,
   "id": "4ef0ccd2-0378-40b4-849a-7206c4ddded0",
   "metadata": {},
   "outputs": [],
   "source": [
    "fugas = scl.fugas(minutos=2)\n",
    "fugas # en nanoCulombios"
   ]
  },
  {
   "cell_type": "markdown",
   "id": "ea526f99-92c3-4eec-98c4-0addd277da5c",
   "metadata": {},
   "source": [
    "Para hacer las medidas en el acelerador tenemos que fijar un número de unidades monitor nominales."
   ]
  },
  {
   "cell_type": "code",
   "execution_count": null,
   "id": "f334c0d1-cd90-4e97-954a-bc1b09dfd48e",
   "metadata": {},
   "outputs": [],
   "source": [
    "UM_nominales = 200"
   ]
  },
  {
   "cell_type": "markdown",
   "id": "85549a42-8f1e-4aef-81db-b4bca8974fd2",
   "metadata": {},
   "source": [
    "El módulo `simcaliblinac` expone un método para obtener una muestra de **n** medidas con las unidades monitor fijadas. La tasa de UM fijada en el acelerador es de 600 UM/min. Usualmente se toma una muestra de tamaño tres, porque es la menor muestra que permite tomar una decisión sobre la coherencia de las medidas. Tres medidas permiten asegurar que no ha ocurrido nada anómalo al tomar los datos si ningún valor discrepa mucho de los otros dos."
   ]
  },
  {
   "cell_type": "code",
   "execution_count": null,
   "id": "d991ccc1-dcf2-4b65-9abd-d2e73e6b9bd6",
   "metadata": {},
   "outputs": [],
   "source": [
    "lecturas = scl.lectura_medida_f(UM=UM_nominales, n=3)\n",
    "lecturas # en nanoCulombios"
   ]
  },
  {
   "cell_type": "markdown",
   "id": "8ba66946-0fb0-4029-ba47-c178c22a03d6",
   "metadata": {},
   "source": [
    "Para calibrar el acelerador expresamos la medida de dosis en términos relativos a las unidades monitor, es decir, queremos saber cuánta dosis damos por unidad monitor. Por una decisión complemtamente arbitraria se suele ajustar la calibración para que en condiciones estándar una UM coincida con un centiGray. Este ajuste se realiza variando la ganancia de la cámaras monitoras. El cambio de la ganancia permite variar la lectura de la cámara aún recibiendo la misma dosis.\n",
    "\n",
    "## Cuestiones\n",
    "2. Determinar la dosis absorbida suministrada por el acelerador y el output.\n",
    "1. Hacer una estimación de la incertidumbre en la medida de la dosis absorbida y en la medida del output"
   ]
  },
  {
   "cell_type": "markdown",
   "id": "aa40aa91-ecbf-4921-9487-5fec693916eb",
   "metadata": {},
   "source": [
    "## Comprobaciones y simulaciones estadísticas"
   ]
  },
  {
   "cell_type": "markdown",
   "id": "02ba8dd5-7226-4bdb-ae95-1266b9dddea7",
   "metadata": {},
   "source": [
    "En el Servicio de Radioterapia en el que estamos realizando estas medidas se tiene el criterio de recalibrar el acelerador, ajustar de nuevo las ganancias de las cámaras, si la variación del output respecto al valor nominal de 1 es mayor del 1.5%.\n",
    "\n",
    "En la teoría del control de calidad se distinguen dos conceptos: *tolerancia* e *incertidumbre*.\n",
    "- **Tolerancia**: Rango de la variable de control que daría lugar a resultados aceptables. Por ejemplo se consideran tolerables variaciones en la dosis final que reciben los pacientes inferiores al 5% porque no ha sido posible detectar diferencias clínicas en los resultados de tratamientos realizados con esas variaciones.\n",
    "\n",
    "- **Incertidumbre**: Rango en el que se espera se encuentre el valor *real* de una magnitud medida.\n",
    "\n",
    "En general se requiere que la variable de control se mida con una incertidumbre inferior a la tolerancia, idealmente incluso despreciable.\n",
    "\n",
    "El tratamiento combinado de  la tolerancia y la incertidumbre lleva al concepto de *nivel de acción*, como el umbral para el resultado del control que indica la necesidad de realizar alguna corrección.\n",
    "\n",
    "Dependiendo cuánto de crítico sea el resultado de nuestro control se definen dos posibles formas de situar el nivel de acción:\n",
    "- **Nivel de acción mayor que la tolerancia**: Se aumenta la tolerancia con la incertidumbre. Expandimos la tolerancia porque aceptamos que los resultados puedan salirse de tolerancia si hay una cierta probabilidad de que estén dentro de tolerancia por su incertidumbre. Por ejemplo si los radares de la DGT miden la velocidad con una incertidumbre del 4% (k=3) solo nos multan si miden que nuestra velocidad supera el límite señalado en más de un 4%. En un tramo a  120 km/h multan si miden más de 124.8 km/h porque de esa manera el 99% de los multados realmente iban a más de 120. Solo hay un 1% de probabilidad de recibir una multa injusta.\n",
    "- **Nivel de acción inferior la tolerancia**: Se reduce la tolerancia con la incertidumbre. Disminuimos la tolerancia porque no aceptamos los resultados que aunque se encuentren dentro de tolerancia tienen una cierta probabilidad de indicar un resultado fuera de tolerancia si se considera su incertidumbre. Por ejemplo si lo que medimos es la resistencia de una viga no podemos permitir medidas dudosas, aquí lo que hacemos es rechazar *de más*, queremos reducir la probabilidad de *falsos aceptados*.\n",
    "\n",
    "## Cuestiones\n",
    "4. Sabiendo que en el Servicio de Radioterapia considerado se ha tomado el criterio de definir el nivel de acción mayor que la tolerancia responder razonadamente si es necesario ajustar las ganancias o no a la vista de los resultados obtenidos.\n",
    "\n",
    "*Nota*: En esta cuestión se valorará positivamente que cada alumno compare sus resultados con otros compañeros de clase (idealmente con todos) y que discutan qué decisión toman sobre las ganancias.\n",
    "\n",
    "5. Comparar las desviaciones estándar de nuestras medidas con la estimación de incertidumbres realizada en la cuestión 3. Si son diferentes comentar cómo se justifican esas diferencias.\n",
    "\n",
    "### Simulaciones\n",
    "\n",
    "#### Teorema del límite central\n",
    "Las funciones del módulo `simcaliblinac` están preparadas para cambiar el tamaño de la muestra de medidas y repetir la toma de muestras tantas veces como queramos. El tamaño de la muestra se indica pasando el parámetro **n** y el número de experimentos pasando el parámetro **trials**.\n",
    "\n",
    "Ejecutando la siguiente celda obtenemos treinta muestras diferentes de cinco medidas cada una cuando fijamos 200 UM y lo almacenamos en el array de numpy muestras. Como resultado de la celda mostramos las dimensiones del array."
   ]
  },
  {
   "cell_type": "code",
   "execution_count": null,
   "id": "227d3d17-adce-40b3-8423-c00028e8cef0",
   "metadata": {},
   "outputs": [],
   "source": [
    "sample_size=5\n",
    "trial_number=30\n",
    "muestras = scl.lectura_medida_f(UM=UM_nominales, n=sample_size, trials=trial_number)\n",
    "muestras.shape"
   ]
  },
  {
   "cell_type": "markdown",
   "id": "b65d555e-f6d4-44ef-9fd3-242cf10b54bf",
   "metadata": {},
   "source": [
    "Si queremos mostrar el contenido de muestras ejecutamos esta celda"
   ]
  },
  {
   "cell_type": "code",
   "execution_count": null,
   "id": "7b54d4db-ba63-4c0f-8523-9a61caace881",
   "metadata": {},
   "outputs": [],
   "source": [
    "muestras"
   ]
  },
  {
   "cell_type": "markdown",
   "id": "d8cb73b2-a944-45a2-8a07-07d6413271d6",
   "metadata": {},
   "source": [
    "Podemos calcular estádisticas del total de la muestra"
   ]
  },
  {
   "cell_type": "code",
   "execution_count": null,
   "id": "cfb59ec0-8919-4d2e-963b-6adcd89462f5",
   "metadata": {},
   "outputs": [],
   "source": [
    "muestras.mean(), muestras.std()"
   ]
  },
  {
   "cell_type": "markdown",
   "id": "3094ac21-b26c-47d4-8433-379618f11a95",
   "metadata": {},
   "source": [
    "Podemos construir una colección con las medias y desviaciones estándar de cada experimento"
   ]
  },
  {
   "cell_type": "code",
   "execution_count": null,
   "id": "a9f876bb-7cd5-4748-8400-2e20f874e15c",
   "metadata": {},
   "outputs": [],
   "source": [
    "muestras_distribucion_medias = muestras.mean(axis=1) \n",
    "muestras_distribucion_sigmas = muestras.std(axis=1, ddof=1)\n",
    "\n",
    "# Mostrar las muestras de ambas ditribuciones\n",
    "muestras_distribucion_medias, muestras_distribucion_sigmas"
   ]
  },
  {
   "cell_type": "markdown",
   "id": "728d1859-84ce-4c8d-8546-09c137d7ed6a",
   "metadata": {},
   "source": [
    "## Cuestión\n",
    "6. Mostrar numéricamente que se verifica el teorema del límite central, es decir, que la media de las muestras de la distribución de medias es la misma que la media de todas las medidas y que dentro de incertidumbres muestrales el valor esperado de la sigma de la distribución de medias es la sigma de la distrubución total dividida por la raíz cuadrada del tamaño de la muestra"
   ]
  },
  {
   "cell_type": "markdown",
   "id": "ac701a73-49b5-4632-9f02-6ea4f90bcdbb",
   "metadata": {},
   "source": [
    "## Cuestiones\n",
    "\n",
    "7. Hacer una gráfica de la razón entre la desviación estándar de la distribución de medias y la sigma de la distrubución total en función del número de experimientos. Discutir si tiene un comportamiento asintótico y en su caso indicar a qué valor tiende.\n",
    "\n",
    "**Sugerencia**: Juntar el código mostrado en las celdas anteriores para definir una función dependiente del número de experimentos que devuelva la razón entre la media de la distrubución de sigmas y la sigma de la distrubución total. Generar un rango de número de experimentos, pasárselo a la función y hacer la gráfica.\n",
    "\n",
    "8. Hacer una gráfica de la razón entre la media de la distrubución de sigmas y la sigma de la distrubución total en función del tamaño de la muestra. Analizar la importancia del parametro `ddof` para evitar el sesgo por el tamaño de la muestra. Ver la documentación de la función [numpy.std](https://numpy.org/doc/stable/reference/generated/numpy.std.html)\n",
    "\n",
    "**Sugerencia**: Juntar el código mostrado en las celdas anteriores para definir una función dependiente del tamaño de la muestra que devuelva la razón pedida."
   ]
  },
  {
   "cell_type": "markdown",
   "id": "fbf1c3a4-034f-445a-9ca0-bb677ebc5ae6",
   "metadata": {},
   "source": [
    "### Cálculo de incertidumbre\n",
    "Una estimación realista de incertidumbres necesita en general incorporar el conocimiento del experimentador sobre la reproducibilidad de sus aparatos de medida. Son lo que se conoce como **incertidumbres de tipo B** que permiten estimar las sigmas de las distribuciones que siguen los elementos que participan en la medida.\n",
    "\n",
    "La propagación de estas incertidumbres se puede hacer mediante aproximaciones analíticas, pero en casos complejos estos cálculos se pueden ver limitados por emplear solo aproximaciones de primer orden y por ignorar las covarianzas entre variables.\n",
    "\n",
    "Una alternativa es emplear técnicas de Monte Carlo. Se pueden muestrear los valores de los elementos que intervienen en la medida si se conocen las distribuciones que siguen y se estiman sus sigmas. Combinando estos valores muestreados mediante la expresión física de la magnitud medida obtenemos una muestra de medidas cuya sigma es la incertidumbre que queremos determinar.\n",
    "\n",
    "## Cuestión.\n",
    "\n",
    "9. Hacer una estimación de incertidumbres mediante técnicas de Monte Carlo\n",
    "\n",
    "**Sugerencia**:  Utilizar las funciones del módulo `simcaliblinac` para hacer experimentos de calibración en los que se obtiene en cada uno de ellos una medida de fugas, una medida de presión y temperatura y la correspondiente muestra de lecturas en el acelerador."
   ]
  },
  {
   "cell_type": "code",
   "execution_count": null,
   "id": "17e4d96b-c06e-49f1-a41d-d698c92a42e0",
   "metadata": {},
   "outputs": [],
   "source": []
  }
 ],
 "metadata": {
  "kernelspec": {
   "display_name": "Python 3 (ipykernel)",
   "language": "python",
   "name": "python3"
  },
  "language_info": {
   "codemirror_mode": {
    "name": "ipython",
    "version": 3
   },
   "file_extension": ".py",
   "mimetype": "text/x-python",
   "name": "python",
   "nbconvert_exporter": "python",
   "pygments_lexer": "ipython3",
   "version": "3.9.7"
  }
 },
 "nbformat": 4,
 "nbformat_minor": 5
}
