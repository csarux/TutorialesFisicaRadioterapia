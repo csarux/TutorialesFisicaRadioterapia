{
 "cells": [
  {
   "cell_type": "markdown",
   "id": "bed28c1d-6cf8-4edf-a73b-19b94666d0fa",
   "metadata": {},
   "source": [
    "#### Física de la Radioterapia. Master de Física Biomédica. Universidad Complutense de Madrid\n",
    "# Calibración del acelerador lineal\n",
    "## Haces de fotones medidos en condiciones de referencia\n",
    "-----\n",
    "\n",
    "**Objetivos**: \n",
    "Determinar la dosis absorbida producida por un campo de radiación en condiciones estándar de calibración utilizando una cámara de ionización tipo Farmer y aplicando el [protocolo de dosimetría de la IAEA TRS398](https://www-pub.iaea.org/MTCD/publications/PDF/TRS_398s_Web.pdf). Se recomienda leer al menos el epígrafe **3. FORMALISMO BASADO EN** $N_{D,w}$.\n",
    "\n",
    "**Antecendentes**: De acuerdo al TRS398 la magnitud $D_{w, Q}$, dosis en agua para la calidad de la radiación $Q$, se puede determinar mediante la expresión\n",
    "\n",
    "\\begin{equation}\n",
    "    D_{w, Q} = M_Q\\;N_{D, w, Q_0}\\;k_{Q, Q_0}\\;k_{sat}\\;k_{pol}.\n",
    "\\end{equation}\n",
    "\n",
    "donde:\n",
    "- $M_Q$ es la lectura neta del electrómetro expresado en condiciones normales\n",
    "- $N_{D, w, Q_0}$ es el valor del factor de calibración de la cámara en condiciones de referencia\n",
    "- $k_{Q, Q_0}$ es el factor de corrección por la calidad del haz del factor de calibración\n",
    "- $k_{sat}$ es el factor de corrección por saturación de la cámara\n",
    "- $k_{pol}$ es factor de corrección por dependencia de la lectura de la cámara con la polarización de sus electrodos\n",
    "\n",
    "**Datos**:\n",
    "Los datos de la cámara empleada están recogidos en su [certificado de calibración](../docs/CamaraFarmer10820.pdf)\n",
    "\n",
    "Previamente se ha determinado que para esta cámara los factores de corrección por saturación $k_{sat}$ y por polarización $k_{pol}$ son ambos igual a uno en las condiciones de medida consideradas.\n",
    "\n",
    "La energía del haz empleado corresponde a una razón TPR${}_{20, 10} = 0.694$.\n",
    "\n",
    "Para recolectar la carga producida en la cámara se utiliza un electrómetro con una resolución de $0.001$ nC.\n",
    "\n",
    "## Cuestión\n",
    "1. Obtener de los datos del TRS398 el factor de corrección de la calibración de la cámara por la energía para el haz utilizado.\n",
    "\n",
    "**Ayuda**: Consultar el CUADRO 14 página 85.\n",
    "\n",
    "\n",
    "## Módulo `simcaliblinac`\n",
    "Este cuaderno simula las condiciones variables de la medida mediante generadores aleatorios que siguen distribuciones realistas. Para realizar el ejercicio cada alumno generará y recogerá tanto las medidas como las condiciones en las que las ha realizado.\n",
    "\n",
    "El módulo `simcaliblinac` contiene las funciones para realizar esta simulación.\n",
    "\n",
    "En la siguiente celda importamos el módulo"
   ]
  },
  {
   "cell_type": "code",
   "execution_count": 1,
   "id": "2d19cc45-8b84-4e82-bf4d-d35e5854a9df",
   "metadata": {},
   "outputs": [],
   "source": [
    "import simcaliblinac as scl"
   ]
  },
  {
   "cell_type": "markdown",
   "id": "6890dc73-9349-4c09-a313-cb8e85d447f6",
   "metadata": {},
   "source": [
    "Tomar los valores de la presión atmosférica indicada por el barómetro del Servicio y de la temperatura medida por la sonda del termómetro que introducimos en el agua. \n",
    "\n",
    "Las unidades de las medidas son presión en hPa y temperatura en grados centígrados."
   ]
  },
  {
   "cell_type": "code",
   "execution_count": 2,
   "id": "4899f0fb-7bf8-4079-a86d-c7b6e0ab3722",
   "metadata": {},
   "outputs": [
    {
     "data": {
      "text/plain": [
       "(array([947.25546126]), array([[20.37662419]]))"
      ]
     },
     "execution_count": 2,
     "metadata": {},
     "output_type": "execute_result"
    }
   ],
   "source": [
    "presion, temperatura = scl.presion_temperatura_medida()\n",
    "presion, temperatura"
   ]
  },
  {
   "cell_type": "markdown",
   "id": "9ffd66da-3e0b-4271-b676-3053be4c577f",
   "metadata": {},
   "source": [
    "El módulo `simcaliblinac` ofrece una función para calcular la corrección por presión y temperatura $\\phi$pT"
   ]
  },
  {
   "cell_type": "code",
   "execution_count": 3,
   "id": "b3e265e5-4726-4986-a03d-ef5d1ef93c22",
   "metadata": {},
   "outputs": [
    {
     "data": {
      "text/plain": [
       "array([[1.07077874]])"
      ]
     },
     "execution_count": 3,
     "metadata": {},
     "output_type": "execute_result"
    }
   ],
   "source": [
    "ϕpT = scl.ϕpTf(presion, temperatura)\n",
    "ϕpT"
   ]
  },
  {
   "cell_type": "markdown",
   "id": "def44dca-3da2-41cb-8a2f-3faaf709aeda",
   "metadata": {},
   "source": [
    "Una vez montados los equipos, fijadas las condiciones experimentales y con todas las conexiones realizadas, comenzamos por medir la lecutra del electrómetro cuando no hay radiación. En Radioterapia a este valor lo denominamos *corriente de fugas*. Es el equivalente a una lectura de un valor de fondo pero de origen diferente.\n",
    "\n",
    "Las fugas son de naturaleza aleatoria. Su valor medio se estima integrando durante un tiempo dado suficiente como para promediar variaciones instantáneas. \n",
    "\n",
    "El módulo `simcaliblinac` expone un método para obtener una muestra de las fugas recolectadas durante un tiempo dado"
   ]
  },
  {
   "cell_type": "code",
   "execution_count": 4,
   "id": "4ef0ccd2-0378-40b4-849a-7206c4ddded0",
   "metadata": {},
   "outputs": [
    {
     "data": {
      "text/plain": [
       "array([[0.16707123]])"
      ]
     },
     "execution_count": 4,
     "metadata": {},
     "output_type": "execute_result"
    }
   ],
   "source": [
    "fugas = scl.fugas(minutos=2)\n",
    "fugas # en nanoCulombios"
   ]
  },
  {
   "cell_type": "markdown",
   "id": "ea526f99-92c3-4eec-98c4-0addd277da5c",
   "metadata": {},
   "source": [
    "Para hacer las medidas en el acelerador tenemos que fijar un número de unidades monitor nominales."
   ]
  },
  {
   "cell_type": "code",
   "execution_count": 5,
   "id": "f334c0d1-cd90-4e97-954a-bc1b09dfd48e",
   "metadata": {},
   "outputs": [],
   "source": [
    "UM_nominales = 200"
   ]
  },
  {
   "cell_type": "markdown",
   "id": "85549a42-8f1e-4aef-81db-b4bca8974fd2",
   "metadata": {},
   "source": [
    "El módulo `simcaliblinac` expone un método para obtener una muestra de **n** medidas con las unidades monitor fijadas"
   ]
  },
  {
   "cell_type": "code",
   "execution_count": 6,
   "id": "d991ccc1-dcf2-4b65-9abd-d2e73e6b9bd6",
   "metadata": {},
   "outputs": [
    {
     "data": {
      "text/plain": [
       "array([[35.54802083, 35.55559551, 35.51982875]])"
      ]
     },
     "execution_count": 6,
     "metadata": {},
     "output_type": "execute_result"
    }
   ],
   "source": [
    "lecturas = scl.lectura_medida_f(UM=UM_nominales, n=3)\n",
    "lecturas # en nanoCulombios"
   ]
  },
  {
   "cell_type": "markdown",
   "id": "a0d86590-4334-4f2e-a36d-03127cd39404",
   "metadata": {},
   "source": [
    "Internamente el módulo nos permite saber cual es el valor esperado actual de la lectura"
   ]
  },
  {
   "cell_type": "code",
   "execution_count": 7,
   "id": "9900254a-6c4b-4deb-a6f5-2f892c85ba44",
   "metadata": {},
   "outputs": [
    {
     "data": {
      "text/plain": [
       "35.54076016016185"
      ]
     },
     "execution_count": 7,
     "metadata": {},
     "output_type": "execute_result"
    }
   ],
   "source": [
    "scl._lectura_actual_f(UM=UM_nominales)"
   ]
  },
  {
   "cell_type": "markdown",
   "id": "d37d3ec5-cb81-4dfd-8c7e-395b1f5c9c13",
   "metadata": {},
   "source": [
    "El módulo simcaliblinac expone métodos para calular la dosis para el número de unidades monitor fijado y el output del acelerador (dosis en Gy por cada 100 UM), una vez que se han determinado las constantes de la cámara de acuerdo al TRS398."
   ]
  },
  {
   "cell_type": "code",
   "execution_count": 8,
   "id": "5815de1a-379b-4faf-9f77-49113be6c33b",
   "metadata": {},
   "outputs": [],
   "source": [
    "# Constantes de la cámara. El alumno las tiene que obtener del TRS398\n",
    "NDwQ0 = 0.05396\n",
    "kQ = 0.989"
   ]
  },
  {
   "cell_type": "markdown",
   "id": "d1c26c56-8549-45d8-b232-9fc1ece0a3cc",
   "metadata": {},
   "source": [
    "Dosis medidas"
   ]
  },
  {
   "cell_type": "code",
   "execution_count": 9,
   "id": "6f7de83d-a93c-4c84-91a5-f6b9d3cbbd4d",
   "metadata": {},
   "outputs": [
    {
     "data": {
      "text/plain": [
       "array([[2.02975246, 2.0301853 , 2.02814146]])"
      ]
     },
     "execution_count": 9,
     "metadata": {},
     "output_type": "execute_result"
    }
   ],
   "source": [
    "D_meds = scl.dosis_f(lecturas, UM=UM_nominales, ϕpT=ϕpT, fugas=fugas/2, NDwQ0=NDwQ0, kQ=kQ)\n",
    "D_meds"
   ]
  },
  {
   "cell_type": "markdown",
   "id": "8ba66946-0fb0-4029-ba47-c178c22a03d6",
   "metadata": {},
   "source": [
    "Output medidos"
   ]
  },
  {
   "cell_type": "code",
   "execution_count": 10,
   "id": "e425b9a0-9283-471a-8f6d-564ba6ef32d2",
   "metadata": {},
   "outputs": [
    {
     "data": {
      "text/plain": [
       "array([[1.01487623, 1.01509265, 1.01407073]])"
      ]
     },
     "execution_count": 10,
     "metadata": {},
     "output_type": "execute_result"
    }
   ],
   "source": [
    "output_meds = scl.output_f(lecturas, UM=UM_nominales, ϕpT=ϕpT, fugas=fugas/2, NDwQ0=NDwQ0, kQ=kQ)\n",
    "output_meds"
   ]
  },
  {
   "cell_type": "markdown",
   "id": "68fa5d1b-c773-40e9-a574-a32981f5ff10",
   "metadata": {},
   "source": [
    "## Cuestión\n",
    "2. Determinar la dosis absorbida suministrada por el acelerador\n",
    "1. Hacer una estimación de la incertidumbre en la medida de la dosis absorbida"
   ]
  },
  {
   "cell_type": "markdown",
   "id": "8a7d316a-fe63-41c2-a6b3-25b0d2059914",
   "metadata": {},
   "source": [
    "## Linealidad\n",
    "\n",
    "El número de UM empleado para los tratamientos se encuentra en un amplio rango que va desde unas pocas UM hasta varios miles. Para comprobar el funcionamiento de las cámaras en ese rango se realizan medidas de linealidad, en las que se comprueba la proporcinalidad del cambio de la respuesta con el cambio de UM."
   ]
  },
  {
   "cell_type": "code",
   "execution_count": 11,
   "id": "e11cb9c6-9074-45e8-b7a7-82c66e98c557",
   "metadata": {},
   "outputs": [],
   "source": [
    "import numpy as np\n",
    "import matplotlib.pyplot as plt"
   ]
  },
  {
   "cell_type": "code",
   "execution_count": 12,
   "id": "6d58b835-7c6d-4ba9-9bce-cc2a89a3384d",
   "metadata": {},
   "outputs": [],
   "source": [
    "UMs = np.array([100, 200, 500, 1000, 1500, 3000])"
   ]
  },
  {
   "cell_type": "code",
   "execution_count": 13,
   "id": "7d0f5d73-d95b-4386-97f6-dd12a1973397",
   "metadata": {},
   "outputs": [
    {
     "data": {
      "text/plain": [
       "array([ 100,  200,  500, 1000, 1500, 3000])"
      ]
     },
     "execution_count": 13,
     "metadata": {},
     "output_type": "execute_result"
    }
   ],
   "source": [
    "UMs"
   ]
  },
  {
   "cell_type": "code",
   "execution_count": 19,
   "id": "2db93de2-2587-4725-bba9-618929f99e16",
   "metadata": {},
   "outputs": [
    {
     "data": {
      "text/plain": [
       "array([[[ 17.77225752,  17.79112825],\n",
       "        [ 17.77472205,  17.73808454],\n",
       "        [ 17.75364101,  17.77418945]],\n",
       "\n",
       "       [[ 35.54641811,  35.53081603],\n",
       "        [ 35.60788923,  35.5436979 ],\n",
       "        [ 35.5257728 ,  35.55877813]],\n",
       "\n",
       "       [[ 89.06975725,  88.81749047],\n",
       "        [ 88.77597751,  88.84027939],\n",
       "        [ 88.99864828,  88.89466504]],\n",
       "\n",
       "       [[177.97214027, 177.4796838 ],\n",
       "        [177.73795146, 177.6323499 ],\n",
       "        [177.94424204, 177.28296276]],\n",
       "\n",
       "       [[266.97075033, 266.55063572],\n",
       "        [266.21184014, 266.52724616],\n",
       "        [266.86944968, 267.16228847]],\n",
       "\n",
       "       [[532.18754442, 532.19787165],\n",
       "        [532.81054184, 533.95400527],\n",
       "        [532.51566483, 533.58854514]]])"
      ]
     },
     "execution_count": 19,
     "metadata": {},
     "output_type": "execute_result"
    }
   ],
   "source": [
    "scl.lectura_medida_f(UMs, n=2, trials=3)"
   ]
  },
  {
   "cell_type": "code",
   "execution_count": null,
   "id": "468a4954-ed39-46a0-b94e-c2eefb5b5410",
   "metadata": {},
   "outputs": [],
   "source": []
  }
 ],
 "metadata": {
  "kernelspec": {
   "display_name": "Python 3 (ipykernel)",
   "language": "python",
   "name": "python3"
  },
  "language_info": {
   "codemirror_mode": {
    "name": "ipython",
    "version": 3
   },
   "file_extension": ".py",
   "mimetype": "text/x-python",
   "name": "python",
   "nbconvert_exporter": "python",
   "pygments_lexer": "ipython3",
   "version": "3.9.7"
  }
 },
 "nbformat": 4,
 "nbformat_minor": 5
}
