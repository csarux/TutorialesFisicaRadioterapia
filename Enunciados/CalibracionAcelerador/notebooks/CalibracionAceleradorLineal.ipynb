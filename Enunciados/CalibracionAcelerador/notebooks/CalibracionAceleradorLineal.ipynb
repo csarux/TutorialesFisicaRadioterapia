{
 "cells": [
  {
   "cell_type": "markdown",
   "id": "bed28c1d-6cf8-4edf-a73b-19b94666d0fa",
   "metadata": {},
   "source": [
    "#### Física de la Radioterapia. Master de Física Biomédica. Universidad Complutense de Madrid\n",
    "# Calibración del acelerador lineal\n",
    "## Haces de fotones medidos en condiciones de referencia\n",
    "-----\n",
    "\n",
    "**Objetivos**: \n",
    "Determinar la dosis absorbida producida por un campo de radiación en condiciones estándar de calibración utilizando una cámara de ionización tipo Farmer y aplicando el [protocolo de dosimetría de la IAEA TRS398](https://www-pub.iaea.org/MTCD/publications/PDF/TRS_398s_Web.pdf). Se recomienda leer al menos el epígrafe **3. FORMALISMO BASADO EN** $N_{D,w}$.\n",
    "\n",
    "**Antecendentes**: De acuerdo al TRS398 la magnitud $D_{w, Q}$, dosis en agua para la calidad de la radiación $Q$, se puede determinar mediante la expresión\n",
    "\n",
    "\\begin{equation}\n",
    "    D_{w, Q} = M_Q\\;N_{D, w, Q_0}\\;k_{Q, Q_0}\\;k_{sat}\\;k_{pol}.\n",
    "\\end{equation}\n",
    "\n",
    "donde:\n",
    "- $M_Q$ es la lectura neta del electrómetro expresado en condiciones normales\n",
    "- $N_{D, w, Q_0}$ es el valor del factor de calibración de la cámara en condiciones de referencia\n",
    "- $k_{Q, Q_0}$ es el factor de corrección por la calidad del haz del factor de calibración\n",
    "- $k_{sat}$ es el factor de corrección por saturación de la cámara\n",
    "- $k_{pol}$ es factor de corrección por dependencia de la lectura de la cámara con la polarización de sus electrodos\n",
    "\n",
    "**Datos**:\n",
    "Los datos de la cámara empleada están recogidos en su [certificado de calibración](../docs/CamaraFarmer10820.pdf)\n",
    "\n",
    "Previamente se ha determinado que para esta cámara los factores de corrección por saturación $k_{sat}$ y por polarización $k_{pol}$ son ambos igual a uno en las condiciones de medida consideradas.\n",
    "\n",
    "La energía del haz empleado corresponde a una razón TPR${}_{20, 10} = 0.694$.\n",
    "\n",
    "Para recolectar la carga producida en la cámara se utiliza un electrómetro con una resolución de $0.001$ nC.\n",
    "\n",
    "## Cuestión\n",
    "1. Obtener de los datos del TRS398 el factor de corrección de la calibración de la cámara por la energía para el haz utilizado.\n",
    "\n",
    "**Ayuda**: Consultar el CUADRO 14 página 85.\n",
    "\n",
    "\n",
    "## Módulo `simcaliblinac`\n",
    "Este cuaderno simula las condiciones variables de la medida mediante generadores aleatorios que siguen distribuciones realistas. Para realizar el ejercicio cada alumno generará y recogerá tanto las medidas como las condiciones en las que las ha realizado.\n",
    "\n",
    "El módulo `simcaliblinac` contiene las funciones para realizar esta simulación.\n",
    "\n",
    "En la siguiente celda importamos el módulo"
   ]
  },
  {
   "cell_type": "code",
   "execution_count": 1,
   "id": "2d19cc45-8b84-4e82-bf4d-d35e5854a9df",
   "metadata": {},
   "outputs": [],
   "source": [
    "import simcaliblinac as scl"
   ]
  },
  {
   "cell_type": "markdown",
   "id": "6890dc73-9349-4c09-a313-cb8e85d447f6",
   "metadata": {},
   "source": [
    "Tomar los valores de la presión atmosférica indicada por el barómetro del Servicio y de la temperatura medida por la sonda del termómetro que introducimos en el agua. \n",
    "\n",
    "Las unidades de las medidas son presión en hPa y temperatura en grados centígrados."
   ]
  },
  {
   "cell_type": "code",
   "execution_count": 2,
   "id": "4899f0fb-7bf8-4079-a86d-c7b6e0ab3722",
   "metadata": {},
   "outputs": [
    {
     "data": {
      "text/plain": [
       "(array([956.16734029]), array([[18.90030438]]))"
      ]
     },
     "execution_count": 2,
     "metadata": {},
     "output_type": "execute_result"
    }
   ],
   "source": [
    "presion, temperatura = scl.presion_temperatura_medida()\n",
    "presion, temperatura"
   ]
  },
  {
   "cell_type": "markdown",
   "id": "9ffd66da-3e0b-4271-b676-3053be4c577f",
   "metadata": {},
   "source": [
    "El módulo `simcaliblinac` ofrece una función para calcular la corrección por presión y temperatura $\\phi$pT"
   ]
  },
  {
   "cell_type": "code",
   "execution_count": 3,
   "id": "b3e265e5-4726-4986-a03d-ef5d1ef93c22",
   "metadata": {},
   "outputs": [
    {
     "data": {
      "text/plain": [
       "array([[1.05546506]])"
      ]
     },
     "execution_count": 3,
     "metadata": {},
     "output_type": "execute_result"
    }
   ],
   "source": [
    "ϕpT = scl.ϕpTf(presion, temperatura)\n",
    "ϕpT"
   ]
  },
  {
   "cell_type": "markdown",
   "id": "def44dca-3da2-41cb-8a2f-3faaf709aeda",
   "metadata": {},
   "source": [
    "Una vez montados los equipos, fijadas las condiciones experimentales y con todas las conexiones realizadas, comenzamos por medir la lecutra del electrómetro cuando no hay radiación. En Radioterapia a este valor lo denominamos *corriente de fugas*. Es el equivalente a una lectura de un valor de fondo pero de origen diferente.\n",
    "\n",
    "Las fugas son de naturaleza aleatoria. Su valor medio se estima integrando durante un tiempo dado suficiente como para promediar variaciones instantáneas. \n",
    "\n",
    "El módulo `simcaliblinac` expone un método para obtener una muestra de las fugas recolectadas durante un tiempo dado"
   ]
  },
  {
   "cell_type": "code",
   "execution_count": 4,
   "id": "4ef0ccd2-0378-40b4-849a-7206c4ddded0",
   "metadata": {},
   "outputs": [
    {
     "data": {
      "text/plain": [
       "array([[0.15777697]])"
      ]
     },
     "execution_count": 4,
     "metadata": {},
     "output_type": "execute_result"
    }
   ],
   "source": [
    "fugas = scl.fugas(minutos=2)\n",
    "fugas # en nanoCulombios"
   ]
  },
  {
   "cell_type": "markdown",
   "id": "ea526f99-92c3-4eec-98c4-0addd277da5c",
   "metadata": {},
   "source": [
    "Para hacer las medidas en el acelerador tenemos que fijar un número de unidades monitor nominales."
   ]
  },
  {
   "cell_type": "code",
   "execution_count": 5,
   "id": "f334c0d1-cd90-4e97-954a-bc1b09dfd48e",
   "metadata": {},
   "outputs": [],
   "source": [
    "UM_nominales = 200"
   ]
  },
  {
   "cell_type": "markdown",
   "id": "85549a42-8f1e-4aef-81db-b4bca8974fd2",
   "metadata": {},
   "source": [
    "El módulo `simcaliblinac` expone un método para obtener una muestra de **n** medidas con las unidades monitor fijadas. Usualmente se toma una muestra de tamaño tres, porque es la menor muestra que permite tomar una decisión sobre la coherencia de las medidas. Tres medidas permiten asegurar que no ha ocurrido nada anómalo al tomar los datos si ningún valor discrepa mucho de los otros dos."
   ]
  },
  {
   "cell_type": "code",
   "execution_count": 6,
   "id": "d991ccc1-dcf2-4b65-9abd-d2e73e6b9bd6",
   "metadata": {},
   "outputs": [
    {
     "data": {
      "text/plain": [
       "array([[37.11277601, 37.13662684, 37.1783804 ]])"
      ]
     },
     "execution_count": 6,
     "metadata": {},
     "output_type": "execute_result"
    }
   ],
   "source": [
    "lecturas = scl.lectura_medida_f(UM=UM_nominales, n=3)\n",
    "lecturas # en nanoCulombios"
   ]
  },
  {
   "cell_type": "markdown",
   "id": "8ba66946-0fb0-4029-ba47-c178c22a03d6",
   "metadata": {},
   "source": [
    "Para calibrar el acelerador expresamos la medida de dosis en términos relativos a las unidades monitor, es decir, queremos saber cuánta dosis damos por unidad monitor. Por una decisión complemtamente arbitraria se suele ajustar la calibración para que en condiciones estándar una UM coincida con un centiGray. Este ajuste se realiza variando la ganancia de la cámaras monitoras. El cambio de la ganancia permite variar la lectura de la cámara aún recibiendo la misma dosis.\n",
    "\n",
    "## Cuestiones\n",
    "2. Determinar la dosis absorbida suministrada por el acelerador y el output.\n",
    "1. Hacer una estimación de la incertidumbre en la medida de la dosis absorbida y en la medida del output"
   ]
  },
  {
   "cell_type": "markdown",
   "id": "68fa5d1b-c773-40e9-a574-a32981f5ff10",
   "metadata": {},
   "source": []
  },
  {
   "cell_type": "markdown",
   "id": "aa40aa91-ecbf-4921-9487-5fec693916eb",
   "metadata": {},
   "source": [
    "## Comprobaciones y simulaciones estadísticas\n",
    "\n",
    "Internamente el módulo nos permite saber cuál es el valor esperado actual de la lectura, el valor que hubiéramos obtenido de haber realizado la medida infitas veces en las mismas condiciones y sin incertidumbres en la medida de todas las variables."
   ]
  },
  {
   "cell_type": "code",
   "execution_count": 7,
   "id": "9900254a-6c4b-4deb-a6f5-2f892c85ba44",
   "metadata": {},
   "outputs": [
    {
     "data": {
      "text/plain": [
       "37.167201637764066"
      ]
     },
     "execution_count": 7,
     "metadata": {},
     "output_type": "execute_result"
    }
   ],
   "source": [
    "scl._lectura_actual_f(UM=UM_nominales)"
   ]
  },
  {
   "cell_type": "markdown",
   "id": "6c72fd9e-fab6-4601-8bc8-62d48114a083",
   "metadata": {},
   "source": [
    "El módulo `simcaliblinac` expone métodos para calcular la dosis para el número de unidades monitor fijado. Si hemos extraído correctamente la información del TRS398 las dosis que hemos calculado en las cuestiones anteriores deberían coincidir, salvo errores de redondeo, con las dosis calculadas por estas funciones.\n",
    "\n",
    "Al ejecutar la siguiente celda obtenemos las dosis medidas calculadas mediante el módulo `simcaliblinac`"
   ]
  },
  {
   "cell_type": "code",
   "execution_count": 8,
   "id": "6f7de83d-a93c-4c84-91a5-f6b9d3cbbd4d",
   "metadata": {},
   "outputs": [
    {
     "data": {
      "text/plain": [
       "array([[2.08810351, 2.08944639, 2.09179727]])"
      ]
     },
     "execution_count": 8,
     "metadata": {},
     "output_type": "execute_result"
    }
   ],
   "source": [
    "D_meds = scl.dosis_f(lecturas, UM=UM_nominales, ϕpT=ϕpT, fugas=fugas/2)\n",
    "D_meds"
   ]
  },
  {
   "cell_type": "markdown",
   "id": "e53e430d-b0d4-4f4b-b3c3-2d87fac42d54",
   "metadata": {},
   "source": [
    "El módulo `simcaliblinac` expone también métodos para calcular el output del acelerador (dosis en Gy por cada 100 UM)\n",
    "\n",
    "Output medidos"
   ]
  },
  {
   "cell_type": "code",
   "execution_count": 9,
   "id": "e425b9a0-9283-471a-8f6d-564ba6ef32d2",
   "metadata": {},
   "outputs": [
    {
     "data": {
      "text/plain": [
       "array([[1.04405175, 1.0447232 , 1.04589864]])"
      ]
     },
     "execution_count": 9,
     "metadata": {},
     "output_type": "execute_result"
    }
   ],
   "source": [
    "output_meds = scl.output_f(lecturas, UM=UM_nominales, ϕpT=ϕpT, fugas=fugas/2)\n",
    "output_meds"
   ]
  },
  {
   "cell_type": "markdown",
   "id": "1fb91ce5-2356-4bf3-b51d-ce3286030be4",
   "metadata": {},
   "source": [
    "Como estas funciones devuelven sus valores de dosis y output en objetos de tipo array podemos hacer facilmente estadísticas: media y desviación estándar."
   ]
  },
  {
   "cell_type": "code",
   "execution_count": 10,
   "id": "fbe6dd21-5ae5-47ed-b2f8-de1e375754a6",
   "metadata": {},
   "outputs": [
    {
     "data": {
      "text/plain": [
       "(2.0897823906846242,\n",
       " 0.0015265747666413918,\n",
       " 1.0448911953423121,\n",
       " 0.0007632873833206959)"
      ]
     },
     "execution_count": 10,
     "metadata": {},
     "output_type": "execute_result"
    }
   ],
   "source": [
    "D_meds.mean(), D_meds.std(), output_meds.mean(), output_meds.std()"
   ]
  },
  {
   "cell_type": "markdown",
   "id": "02ba8dd5-7226-4bdb-ae95-1266b9dddea7",
   "metadata": {},
   "source": [
    "En el Servicio de Radioterapia en el que estamos realizando estas medidas se tiene el criterio de recalibrar el acelerador, ajustar de nuevo las ganancias de las cámaras, si la variación del output repecto al valor nominal de 1 es mayor del 1.5%.\n",
    "\n",
    "En la teoría del control de calidad se distinguen dos conceptos: *tolerancia* e *incertidumbre*.\n",
    "- **Tolerancia**: Rango de la variable de control que daría lugar a resultados aceptables. Por ejemplo se consideran tolerables variaciones en la dosis final que reciben los pacientes inferiores al 5% porque no ha sido posible detectar diferencias clínicas en los resultados de tratamientos realizados con esas variaciones.\n",
    "\n",
    "- **Incertidumbre**: Rango en el que se espera se encuentre el valor *real* de una magnitud medida.\n",
    "\n",
    "En general se requiere que la variable de control se mida con una incertidumbre inferior a la tolerancia, idealmente incluso despreciable.\n",
    "\n",
    "El tratamiento combinado de  la tolerancia y la incertidumbre lleva al concepto de *nivel de acción*, como el umbral para el resultado del control que indica la necesidad de realizar alguna corrección.\n",
    "\n",
    "Dependiendo cuánto de crítico sea el resultado de nuestro control se definen dos posibles formas de situar el nivel de acción:\n",
    "- **Nivel de acción mayor que la tolerancia**: Se aumenta la tolerancia con la incertidumbre. Expandimos la tolerancia porque aceptamos que los resultados puedan salirse de tolerancia si hay una cierta probabilidad de que estén dentro de tolerancia por su incertidumbre. Por ejemplo si los radares de la DCT miden la velocidad con una incertidumbre del 4% (k=3) solo nos multa si miden que nuestra velocidad supera el límite señalado en más de un 4%. En un tramo a  120 km/h multan si miden más de 124.8 km/h porque de esa manera el 99% de los multados realmente iban a más de 120. Solo hay un 1% de probabilidad de recibir una multa injusta.\n",
    "- **Nivel de acción inferior la tolerancia**: Se reduce la tolerancia con la incertidumbre. Disminuimos la tolerancia porque no aceptamos los resultados que aunque se encuentren dentro de tolerancia tienen una cierta probabilidad de indicar un resultado fuera de tolerancia si se considera su incertidumbre. Por ejemplo si lo que medimos es la resistencia de una viga no podemos permitir medidas dudosas, aquí lo que hacemos es rechazar *de más*, queremos reducir la probabilidad de *falsos aceptados*.\n",
    "\n",
    "## Cuestiones\n",
    "4. Sabiendo que en el Servicio de Radioterapia considerado se ha tomado el criterio de definir el nivel de acción mayor que la tolerancia responder razonadamente si es necesario ajustar las ganancias o no a la vista de los resultados obtenidos.\n",
    "\n",
    "*Nota*: En esta cuestión se valorará positivamente que cada alumno compare sus resultados con otros compañeros de clase (idealmente con todos) y que discutan qué decisión toman sobre las ganancias.\n",
    "\n",
    "5. Comparar las desviaciones estándar de nuestras medidas con la estimación de incertidumbres realizada en el cuestión 3. Si son diferentes comentar cómo se justifican esas diferencias.\n",
    "\n",
    "### Simulaciones\n",
    "\n",
    "#### Teorema del límite central\n",
    "Las funciones del módulo `simcaliblinac` están preparadas para cambiar el tamaño de la muestra de medidas y repetir la toma de muestras tantas veces como queramos. El tamaño de la muestra se indica pasando el parámetro **n** y el número de experimentos pasando el parámetro **trials**.\n",
    "\n",
    "Ejecutando la siguiente celda obtenemos treinta muestras diferentes de cinco medidas cada una cuando fijamos 200 UM y lo almacenamos en el array de numpy muestras. Como resultado de la celda mostramos las dimensiones del array."
   ]
  },
  {
   "cell_type": "code",
   "execution_count": 21,
   "id": "227d3d17-adce-40b3-8423-c00028e8cef0",
   "metadata": {},
   "outputs": [
    {
     "data": {
      "text/plain": [
       "(30, 5)"
      ]
     },
     "execution_count": 21,
     "metadata": {},
     "output_type": "execute_result"
    }
   ],
   "source": [
    "muestras = scl.lectura_medida_f(UM=UM_nominales, n=5, trials=30)\n",
    "muestras.shape"
   ]
  },
  {
   "cell_type": "markdown",
   "id": "b65d555e-f6d4-44ef-9fd3-242cf10b54bf",
   "metadata": {},
   "source": [
    "Si queremos mostrar el contenido de muestras ejecutamos esta celda"
   ]
  },
  {
   "cell_type": "code",
   "execution_count": 22,
   "id": "7b54d4db-ba63-4c0f-8523-9a61caace881",
   "metadata": {},
   "outputs": [
    {
     "data": {
      "text/plain": [
       "array([[37.18133393, 37.14057716, 37.1042374 , 37.11347065, 37.13238135],\n",
       "       [37.18470195, 37.15456152, 37.2183811 , 37.14406881, 37.15483067],\n",
       "       [37.19078686, 37.1945568 , 37.21295145, 37.22129306, 37.18832633],\n",
       "       [37.16692694, 37.15272731, 37.20103583, 37.18089409, 37.09964949],\n",
       "       [37.15174146, 37.13472815, 37.15785985, 37.10559049, 37.21655636],\n",
       "       [37.10143847, 37.20052247, 37.12543682, 37.15533669, 37.15119421],\n",
       "       [37.18956187, 37.12608683, 37.20523014, 37.1927747 , 37.18254355],\n",
       "       [37.12421327, 37.15103119, 37.12167308, 37.15473961, 37.18755398],\n",
       "       [37.18754337, 37.18487914, 37.1915024 , 37.19136284, 37.20545937],\n",
       "       [37.13197817, 37.18811253, 37.17939605, 37.09035369, 37.17759441],\n",
       "       [37.15673959, 37.18131409, 37.15302986, 37.19071699, 37.16516762],\n",
       "       [37.16700793, 37.18071646, 37.16414074, 37.21406125, 37.16113257],\n",
       "       [37.17485813, 37.17769234, 37.25658416, 37.15287931, 37.17150099],\n",
       "       [37.20074257, 37.19471286, 37.19909304, 37.1437566 , 37.1235767 ],\n",
       "       [37.17873369, 37.13262009, 37.2100106 , 37.14982489, 37.16636109],\n",
       "       [37.11862563, 37.19008364, 37.0994889 , 37.13400286, 37.23840767],\n",
       "       [37.1679394 , 37.09510067, 37.1755695 , 37.10325092, 37.22933774],\n",
       "       [37.14070231, 37.12648328, 37.26836443, 37.20466346, 37.16112253],\n",
       "       [37.22016467, 37.25955676, 37.15763354, 37.16134556, 37.19363693],\n",
       "       [37.1041052 , 37.14848886, 37.18079741, 37.15202101, 37.14985974],\n",
       "       [37.24364926, 37.09933829, 37.14404167, 37.17916093, 37.17610696],\n",
       "       [37.17421867, 37.17820196, 37.17625925, 37.2246013 , 37.09983631],\n",
       "       [37.16844308, 37.15753331, 37.22759924, 37.16214113, 37.16186118],\n",
       "       [37.1359482 , 37.12325213, 37.17958301, 37.17177356, 37.13288837],\n",
       "       [37.17481828, 37.23881661, 37.14671474, 37.25059244, 37.12208109],\n",
       "       [37.17867356, 37.11068084, 37.15912502, 37.17141124, 37.16344414],\n",
       "       [37.22883847, 37.18197375, 37.18631526, 37.15008503, 37.23217228],\n",
       "       [37.23365808, 37.17489486, 37.13581186, 37.22382295, 37.18813273],\n",
       "       [37.1811026 , 37.20658216, 37.19143692, 37.17654497, 37.15307305],\n",
       "       [37.16284417, 37.13907536, 37.14817486, 37.17047182, 37.15906675]])"
      ]
     },
     "execution_count": 22,
     "metadata": {},
     "output_type": "execute_result"
    }
   ],
   "source": [
    "muestras"
   ]
  },
  {
   "cell_type": "markdown",
   "id": "d8cb73b2-a944-45a2-8a07-07d6413271d6",
   "metadata": {},
   "source": [
    "Podemos calcular estádisticas del total de la muestra"
   ]
  },
  {
   "cell_type": "code",
   "execution_count": 23,
   "id": "cfb59ec0-8919-4d2e-963b-6adcd89462f5",
   "metadata": {},
   "outputs": [
    {
     "data": {
      "text/plain": [
       "(37.16937525575367, 0.03711359503130244)"
      ]
     },
     "execution_count": 23,
     "metadata": {},
     "output_type": "execute_result"
    }
   ],
   "source": [
    "muestras.mean(), muestras.std()"
   ]
  },
  {
   "cell_type": "markdown",
   "id": "3094ac21-b26c-47d4-8433-379618f11a95",
   "metadata": {},
   "source": [
    "Podemos construir una colección con las medias y desviaciones estándar de cada experimento"
   ]
  },
  {
   "cell_type": "code",
   "execution_count": 29,
   "id": "a9f876bb-7cd5-4748-8400-2e20f874e15c",
   "metadata": {},
   "outputs": [
    {
     "data": {
      "text/plain": [
       "(array([37.1344001 , 37.17130881, 37.2015829 , 37.16024673, 37.15329526,\n",
       "        37.14678573, 37.17923942, 37.14784223, 37.19214942, 37.15348697,\n",
       "        37.16939363, 37.17741179, 37.18670299, 37.17237635, 37.16751007,\n",
       "        37.15612174, 37.15423965, 37.1802672 , 37.19846749, 37.14705444,\n",
       "        37.16845942, 37.1706235 , 37.17551559, 37.14868905, 37.18660463,\n",
       "        37.15666696, 37.19587696, 37.1912641 , 37.18174794, 37.15592659]),\n",
       " array([0.02680614, 0.02716319, 0.01311024, 0.034244  , 0.03645737,\n",
       "        0.03314315, 0.02757314, 0.02399133, 0.00710302, 0.03714786,\n",
       "        0.01443981, 0.01951142, 0.03600004, 0.0323043 , 0.02631981,\n",
       "        0.05104286, 0.04975869, 0.05134376, 0.03813515, 0.02456754,\n",
       "        0.04732964, 0.04006632, 0.02627321, 0.02256705, 0.05042606,\n",
       "        0.02395153, 0.03093683, 0.03524213, 0.01766551, 0.01107547]))"
      ]
     },
     "execution_count": 29,
     "metadata": {},
     "output_type": "execute_result"
    }
   ],
   "source": [
    "muestras_distribucion_medias = muestras.mean(axis=1) \n",
    "muestras_distribucion_sigmas = muestras.std(axis=1)\n",
    "\n",
    "# Mostrar las muestras de ambas ditribuciones\n",
    "muestras_distribucion_medias, muestras_distribucion_sigmas"
   ]
  },
  {
   "cell_type": "markdown",
   "id": "728d1859-84ce-4c8d-8546-09c137d7ed6a",
   "metadata": {},
   "source": [
    "## Cuestión\n",
    "6. Mostrar que dentro de incertidumbres muestrales se verifica el teorema del límite central, es decir, que la media de las muestras de la distribución de medias es la misma que la media de todas las medidas y que el valor esperado de la distrubución de la distrubución de sigmas es la sigma de la distrubución total dividida por la raíz del tamaño de la muestra"
   ]
  },
  {
   "cell_type": "code",
   "execution_count": 31,
   "id": "12e65143-e19a-409e-a639-1521edadadde",
   "metadata": {},
   "outputs": [
    {
     "data": {
      "text/plain": [
       "1.0"
      ]
     },
     "execution_count": 31,
     "metadata": {},
     "output_type": "execute_result"
    }
   ],
   "source": [
    "muestras_distribucion_medias.mean() / muestras.mean()"
   ]
  },
  {
   "cell_type": "code",
   "execution_count": 32,
   "id": "98089c5e-da97-4116-9d90-385f521f971c",
   "metadata": {},
   "outputs": [
    {
     "data": {
      "text/plain": [
       "1.0513831754469956"
      ]
     },
     "execution_count": 32,
     "metadata": {},
     "output_type": "execute_result"
    }
   ],
   "source": [
    "muestras_distribucion_medias.std() / muestras.std() * np.sqrt(5)"
   ]
  },
  {
   "cell_type": "markdown",
   "id": "8a7d316a-fe63-41c2-a6b3-25b0d2059914",
   "metadata": {},
   "source": [
    "## Linealidad\n",
    "\n",
    "El número de UM empleado para los tratamientos se encuentra en un amplio rango que va desde unas pocas UM hasta varios miles. Para comprobar el funcionamiento de las cámaras en ese rango se realizan medidas de linealidad, en las que se comprueba la proporcionalidad entre el cambio de la respuesta y el cambio de UM."
   ]
  },
  {
   "cell_type": "code",
   "execution_count": 11,
   "id": "e11cb9c6-9074-45e8-b7a7-82c66e98c557",
   "metadata": {},
   "outputs": [],
   "source": [
    "import numpy as np\n",
    "import matplotlib.pyplot as plt"
   ]
  },
  {
   "cell_type": "code",
   "execution_count": 12,
   "id": "6d58b835-7c6d-4ba9-9bce-cc2a89a3384d",
   "metadata": {},
   "outputs": [],
   "source": [
    "UMs = np.array([100, 200, 500, 1000, 1500, 3000])"
   ]
  },
  {
   "cell_type": "code",
   "execution_count": 13,
   "id": "7d0f5d73-d95b-4386-97f6-dd12a1973397",
   "metadata": {},
   "outputs": [
    {
     "data": {
      "text/plain": [
       "array([ 100,  200,  500, 1000, 1500, 3000])"
      ]
     },
     "execution_count": 13,
     "metadata": {},
     "output_type": "execute_result"
    }
   ],
   "source": [
    "UMs"
   ]
  },
  {
   "cell_type": "code",
   "execution_count": 14,
   "id": "2db93de2-2587-4725-bba9-618929f99e16",
   "metadata": {},
   "outputs": [],
   "source": [
    "lins = scl.lectura_medida_f(UMs)"
   ]
  },
  {
   "cell_type": "code",
   "execution_count": 15,
   "id": "468a4954-ed39-46a0-b94e-c2eefb5b5410",
   "metadata": {},
   "outputs": [
    {
     "data": {
      "text/plain": [
       "array([ 18.5974148 ,  37.1593145 ,  92.75039842, 186.10009541,\n",
       "       278.47901664, 557.99454891])"
      ]
     },
     "execution_count": 15,
     "metadata": {},
     "output_type": "execute_result"
    }
   ],
   "source": [
    "lins = lins.flatten()\n",
    "lins"
   ]
  },
  {
   "cell_type": "code",
   "execution_count": 16,
   "id": "c03ee56b-7da2-42e2-887d-8845220aecd2",
   "metadata": {},
   "outputs": [
    {
     "data": {
      "text/plain": [
       "[<matplotlib.lines.Line2D at 0x7f97b5d54e80>]"
      ]
     },
     "execution_count": 16,
     "metadata": {},
     "output_type": "execute_result"
    },
    {
     "data": {
      "image/png": "[encoded data removed]",
      "text/plain": [
       "<Figure size 432x288 with 1 Axes>"
      ]
     },
     "metadata": {
      "needs_background": "light"
     },
     "output_type": "display_data"
    }
   ],
   "source": [
    "plt.plot(UMs, lins, '.')"
   ]
  },
  {
   "cell_type": "code",
   "execution_count": null,
   "id": "6209ec59-61e0-49cf-8a10-948220f8bcf6",
   "metadata": {},
   "outputs": [],
   "source": []
  }
 ],
 "metadata": {
  "kernelspec": {
   "display_name": "Python 3 (ipykernel)",
   "language": "python",
   "name": "python3"
  },
  "language_info": {
   "codemirror_mode": {
    "name": "ipython",
    "version": 3
   },
   "file_extension": ".py",
   "mimetype": "text/x-python",
   "name": "python",
   "nbconvert_exporter": "python",
   "pygments_lexer": "ipython3",
   "version": "3.9.7"
  }
 },
 "nbformat": 4,
 "nbformat_minor": 5
}
