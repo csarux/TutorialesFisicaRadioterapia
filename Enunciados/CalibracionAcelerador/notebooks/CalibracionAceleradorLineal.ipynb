{
 "cells": [
  {
   "cell_type": "markdown",
   "id": "bed28c1d-6cf8-4edf-a73b-19b94666d0fa",
   "metadata": {},
   "source": [
    "#### Física de la Radioterapia. Master de Física Biomédica. Universidad Complutense de Madrid\n",
    "# Calibración del acelerador lineal\n",
    "## Haces de fotones medidos en condiciones de referencia\n",
    "-----\n",
    "\n",
    "**Objetivos**: \n",
    "Determinar la dosis absorbida producida por un campo de radiación en condiciones estándar de calibración utilizando una cámara de ionización tipo Farmer y aplicando el [protocolo de dosimetría de la IAEA TRS398](https://www-pub.iaea.org/MTCD/publications/PDF/TRS_398s_Web.pdf). Se recomienda leer al menos el epígrafe **3. FORMALISMO BASADO EN** $N_{D,w}$ del protocolo.\n",
    "\n",
    "**Antecendentes**: De acuerdo al TRS398 la magnitud $D_{w, Q}$, dosis en agua para la calidad de la radiación $Q$, se puede determinar mediante la expresión\n",
    "\n",
    "\\begin{equation}\n",
    "    D_{w, Q} = M_Q\\;N_{D, w, Q_0}\\;k_{Q, Q_0}\\;k_{sat}\\;k_{pol}.\n",
    "\\end{equation}\n",
    "\n",
    "donde:\n",
    "- $M_Q$ es la lectura neta del electrómetro expresado en condiciones normales\n",
    "- $N_{D, w, Q_0}$ es el valor del factor de calibración de la cámara en condiciones de referencia\n",
    "- $k_{Q, Q_0}$ es el factor de corrección por la calidad del haz del factor de calibración\n",
    "- $k_{sat}$ es el factor de corrección por saturación de la cámara\n",
    "- $k_{pol}$ es factor de corrección por dependencia de la lectura de la cámara con la polarización de sus electrodos\n",
    "\n",
    "**Datos**:\n",
    "Los datos de la cámara empleada están recogidos en su [certificado de calibración](../docs/CamaraFarmer10820.pdf)\n",
    "\n",
    "Previamente se ha determinado que para esta cámara los factores de corrección por saturación $k_{sat}$ y por polarización $k_{pol}$ son ambos igual a uno en las condiciones de medida consideradas.\n",
    "\n",
    "La energía del haz empleado corresponde a una razón TPR${}_{20, 10} = 0.694$.\n",
    "\n",
    "Para recolectar la carga producida en la cámara se utiliza un electrómetro con una resolución de $0.001$ nC.\n",
    "\n",
    "## Cuestión\n",
    "1. Obtener de los datos del TRS398 el factor de corrección de la calibración de la cámara por la energía para el haz utilizado.\n",
    "\n",
    "**Ayuda**: Consultar el CUADRO 14 página 85."
   ]
  },
  {
   "cell_type": "markdown",
   "id": "3b3e3ece-391f-4074-9b15-5b3dedea8d98",
   "metadata": {},
   "source": [
    "Como en el certificado de calibración de la cámara la calidad del haz de referencia corresponde al ${}^{60}$Co, según el protocolo TRS398 podemos denotar el factor de corrección de la calibración por la energía $k_{Q, Q_0}$ como $k_Q$.\n",
    "        \n",
    "El $k_Q$ se obtiene interpolando en la tabla correspondiente al modelo de cámara PTW 30013, página 85 CUADRO 14, usando el valor dado para el TPR${}_{20,10}$.\n",
    "        \n",
    "\n",
    "| TPR${}_{20,10}$ | $k_Q$ |\n",
    "|-----------------|-------|\n",
    "|  0.700  | 0.988 |\n",
    "|  0.680  | 0.990 |\n",
    "| **0.694**|**0.9886**|\n"
   ]
  },
  {
   "cell_type": "markdown",
   "id": "86d9ba25-e6ee-49f3-97bb-1a294f4ab55b",
   "metadata": {},
   "source": [
    "## Módulo `simcaliblinac`\n",
    "Este cuaderno simula las condiciones variables de la medida mediante generadores aleatorios que siguen distribuciones realistas. Para realizar el ejercicio cada alumno generará y recogerá tanto las medidas como las condiciones en las que las ha realizado.\n",
    "\n",
    "El módulo `simcaliblinac` contiene las funciones para realizar esta simulación.\n",
    "\n",
    "En la siguiente celda importamos el módulo"
   ]
  },
  {
   "cell_type": "code",
   "execution_count": 1,
   "id": "2d19cc45-8b84-4e82-bf4d-d35e5854a9df",
   "metadata": {},
   "outputs": [],
   "source": [
    "import simcaliblinac as scl"
   ]
  },
  {
   "cell_type": "markdown",
   "id": "6890dc73-9349-4c09-a313-cb8e85d447f6",
   "metadata": {},
   "source": [
    "Tomar los valores de la presión atmosférica indicada por el barómetro del Servicio y de la temperatura medida por la sonda del termómetro que introducimos en el agua. \n",
    "\n",
    "Las unidades de las medidas son presión en hPa y temperatura en grados centígrados."
   ]
  },
  {
   "cell_type": "code",
   "execution_count": 2,
   "id": "4899f0fb-7bf8-4079-a86d-c7b6e0ab3722",
   "metadata": {},
   "outputs": [
    {
     "data": {
      "text/plain": [
       "(array([946.1]), array([17.6]))"
      ]
     },
     "execution_count": 2,
     "metadata": {},
     "output_type": "execute_result"
    }
   ],
   "source": [
    "presion, temperatura = scl.presion_temperatura_medida()\n",
    "presion, temperatura"
   ]
  },
  {
   "cell_type": "markdown",
   "id": "9ffd66da-3e0b-4271-b676-3053be4c577f",
   "metadata": {},
   "source": [
    "El módulo `simcaliblinac` ofrece una función para calcular la corrección por presión y temperatura $\\phi$pT"
   ]
  },
  {
   "cell_type": "code",
   "execution_count": 3,
   "id": "b3e265e5-4726-4986-a03d-ef5d1ef93c22",
   "metadata": {},
   "outputs": [
    {
     "data": {
      "text/plain": [
       "array([1.06194849])"
      ]
     },
     "execution_count": 3,
     "metadata": {},
     "output_type": "execute_result"
    }
   ],
   "source": [
    "ϕpT = scl.ϕpTf(presion, temperatura)\n",
    "ϕpT"
   ]
  },
  {
   "cell_type": "markdown",
   "id": "def44dca-3da2-41cb-8a2f-3faaf709aeda",
   "metadata": {},
   "source": [
    "Una vez montados los equipos, fijadas las condiciones experimentales y con todas las conexiones realizadas, comenzamos por medir la lecutra del electrómetro cuando no hay radiación. En Radioterapia a este valor lo denominamos *corriente de fugas*. Es el equivalente a una lectura de un valor de fondo pero de origen diferente.\n",
    "\n",
    "Las fugas son de naturaleza aleatoria. Su valor medio se estima integrando durante un tiempo dado suficientemente largo como para promediar variaciones instantáneas. \n",
    "\n",
    "El módulo `simcaliblinac` expone un método para obtener una muestra de las fugas recolectadas durante un tiempo dado"
   ]
  },
  {
   "cell_type": "code",
   "execution_count": 4,
   "id": "4ef0ccd2-0378-40b4-849a-7206c4ddded0",
   "metadata": {},
   "outputs": [
    {
     "data": {
      "text/plain": [
       "array([[0.157]])"
      ]
     },
     "execution_count": 4,
     "metadata": {},
     "output_type": "execute_result"
    }
   ],
   "source": [
    "fugas = scl.fugas(minutos=2)\n",
    "fugas # en nanoCulombios"
   ]
  },
  {
   "cell_type": "markdown",
   "id": "ea526f99-92c3-4eec-98c4-0addd277da5c",
   "metadata": {},
   "source": [
    "Para hacer las medidas en el acelerador tenemos que fijar un número de unidades monitor nominales."
   ]
  },
  {
   "cell_type": "code",
   "execution_count": 5,
   "id": "f334c0d1-cd90-4e97-954a-bc1b09dfd48e",
   "metadata": {},
   "outputs": [],
   "source": [
    "UM_nominales = 200"
   ]
  },
  {
   "cell_type": "markdown",
   "id": "85549a42-8f1e-4aef-81db-b4bca8974fd2",
   "metadata": {},
   "source": [
    "El módulo `simcaliblinac` expone un método para obtener una muestra de **n** medidas con las unidades monitor fijadas. Usualmente se toma una muestra de tamaño tres, porque es la menor muestra que permite tomar una decisión sobre la coherencia de las medidas. Tres medidas permiten asegurar que no ha ocurrido nada anómalo al tomar los datos si ningún valor discrepa mucho de los otros dos."
   ]
  },
  {
   "cell_type": "code",
   "execution_count": 6,
   "id": "d991ccc1-dcf2-4b65-9abd-d2e73e6b9bd6",
   "metadata": {},
   "outputs": [
    {
     "data": {
      "text/plain": [
       "array([[35.578, 35.618, 35.619]])"
      ]
     },
     "execution_count": 6,
     "metadata": {},
     "output_type": "execute_result"
    }
   ],
   "source": [
    "lecturas = scl.lectura_medida_f(UM=UM_nominales, n=3)\n",
    "lecturas # en nanoCulombios"
   ]
  },
  {
   "cell_type": "markdown",
   "id": "8ba66946-0fb0-4029-ba47-c178c22a03d6",
   "metadata": {},
   "source": [
    "Para calibrar el acelerador expresamos la medida de dosis en términos relativos a las unidades monitor, es decir, queremos saber cuánta dosis damos por unidad monitor. Por una decisión complemtamente arbitraria se suele ajustar la calibración para que en condiciones estándar una UM coincida con un centiGray. Este ajuste se realiza variando la ganancia de la cámaras monitoras. El cambio de la ganancia permite variar la lectura de la cámara aún recibiendo la misma dosis.\n",
    "\n",
    "## Cuestiones\n",
    "2. Determinar la dosis absorbida suministrada por el acelerador y el output.\n",
    "1. Hacer una estimación de la incertidumbre en la medida de la dosis absorbida y en la medida del output"
   ]
  },
  {
   "cell_type": "markdown",
   "id": "926682e9-25a9-4d14-9069-0a5ec4513cd5",
   "metadata": {},
   "source": [
    "Para generar la respuesta hemos incluido en el módulo `simcalblinac` una función que calcula la dosis para las lecturas en el electrómetro, las condiciones de medida y los parámetros de la cámara."
   ]
  },
  {
   "cell_type": "code",
   "execution_count": 7,
   "id": "2fdd8bb7-70d6-4d39-b1e3-3c10a7d9ff54",
   "metadata": {},
   "outputs": [
    {
     "data": {
      "text/plain": [
       "array([[2.01251087, 2.01477685, 2.0148335 ]])"
      ]
     },
     "execution_count": 7,
     "metadata": {},
     "output_type": "execute_result"
    }
   ],
   "source": [
    "dosis_medidas = scl.dosis_f(lecturas, UM=UM_nominales, ϕpT=ϕpT, fugas=fugas)\n",
    "dosis_medidas"
   ]
  },
  {
   "cell_type": "markdown",
   "id": "51bbef68-5c0e-474c-9c09-0c55a57aa679",
   "metadata": {},
   "source": [
    "Para hacer la estimación de las incertidumbres de la dosis tenemos que calcular primero la desviación estándar de la distribución de medias muestrales"
   ]
  },
  {
   "cell_type": "code",
   "execution_count": 8,
   "id": "14c69007-d4c1-4a36-b947-ab7d8c2655d0",
   "metadata": {},
   "outputs": [],
   "source": [
    "import numpy as np"
   ]
  },
  {
   "cell_type": "code",
   "execution_count": 9,
   "id": "3e1e82a5-17c8-4ab8-b300-4b39820f760f",
   "metadata": {},
   "outputs": [
    {
     "data": {
      "text/plain": [
       "0.014"
      ]
     },
     "execution_count": 9,
     "metadata": {},
     "output_type": "execute_result"
    }
   ],
   "source": [
    "sigma_media_lecturas = np.round(lecturas.std(ddof=1)/np.sqrt(3), decimals=scl._resolucion_electrometro)\n",
    "sigma_media_lecturas"
   ]
  },
  {
   "cell_type": "markdown",
   "id": "b5e9da41-45f8-4de2-b406-3dc8990659e9",
   "metadata": {},
   "source": [
    "Expresada en terminos relativos"
   ]
  },
  {
   "cell_type": "code",
   "execution_count": 11,
   "id": "eb96dae3-ec9a-4242-b0b8-dfa233e97b88",
   "metadata": {},
   "outputs": [
    {
     "data": {
      "text/plain": [
       "0.0003932032017975004"
      ]
     },
     "execution_count": 11,
     "metadata": {},
     "output_type": "execute_result"
    }
   ],
   "source": [
    "sigma_relativa_media_lecturas = sigma_media_lecturas / lecturas.mean()\n",
    "sigma_relativa_media_lecturas"
   ]
  },
  {
   "cell_type": "markdown",
   "id": "31bea8a0-d534-4586-afc0-5fe8bd5e5b94",
   "metadata": {},
   "source": [
    "Inferior al uno por mil, que es una incertidumbre ridículamente pequeña. Esto es porque solo hemos tenido en cuenta la repetibilidad del acelerador.\n",
    "\n",
    "En la incertidumbre de la medida de la dosis tenemos que combinar las incertidumbres siguientes:\n",
    "\n",
    "- Fugas: si solo tenemos una medida la estimamos con la resolución del electrómetro. $\\sigma_{\\text{fugas}}=\\pm 0.001$\n",
    "- Temperatura: si solo tenemos una medida la estimamos con la resolución del termómetro. $\\sigma_{\\text{temperatura}}=\\pm 0.1$\n",
    "- Presión: si solo tenemos una medida la estimamos con la resolución del barómetro. $\\sigma_{\\text{barometro}}=\\pm 0.1$\n",
    "- Incertidumbre del certificado de calibración: $\\sigma_{N_{D, w, Q_0}}=\\pm0.55\\%$ (k=1), fijémonos que la incertidumbre del certificado está dada con factor de cobertura k=2.\n",
    "- Incertidumbre de lectura: es la combinación de la resolución del electrómetro y la incertidumbre estadística de la lectura que la estimamos por la desviación estándar de la distribución de medias muestrales.\n",
    "\n",
    "\\begin{equation}\n",
    "I_{\\text{Lectura}}^2 = 0.001^2+\\sigma_{\\text{Media Lectura}}^2\n",
    "\\end{equation}\n",
    "\n",
    "Para calcular las incertidumbres, combinarlas y propagarlas nos podemos ayudar con el módulo `uncertainties`"
   ]
  },
  {
   "cell_type": "code",
   "execution_count": 12,
   "id": "132ad7ff-ac75-450e-9061-6f925672bb11",
   "metadata": {},
   "outputs": [],
   "source": [
    "from uncertainties import ufloat, unumpy"
   ]
  },
  {
   "cell_type": "code",
   "execution_count": 13,
   "id": "0a0d3271-08a9-4819-9c24-a34429dcfb6e",
   "metadata": {},
   "outputs": [
    {
     "data": {
      "text/plain": [
       "2.014040402191485+/-0.011129197442249498"
      ]
     },
     "execution_count": 13,
     "metadata": {},
     "output_type": "execute_result"
    }
   ],
   "source": [
    "# Magnitudes con incertidumbres\n",
    "presion_unc = ufloat(presion, 10**-scl._resolucion_barometro)\n",
    "temperatura_unc = ufloat(temperatura, 10**-scl._resolucion_termometro)\n",
    "fugas_unc = ufloat(fugas, 10**-scl._resolucion_electrometro)\n",
    "ϕpT_unc = scl.ϕpTf(p=presion_unc, T=temperatura_unc)\n",
    "NDwQ0_unc = ufloat(scl._NDwQ0, scl._NDwQ0*scl._rel_unc_NDwQ0)\n",
    "lectura_media_unc=ufloat(lecturas.mean(), \n",
    "                         np.sqrt(10**-scl._resolucion_electrometro**2 +\n",
    "                                 sigma_media_lecturas**2))\n",
    "\n",
    "# Dosis con incertidumbres\n",
    "dosis_unc = scl.dosis_f(lecturas=lectura_media_unc,\n",
    "                        UM=UM_nominales, \n",
    "                        ϕpT=ϕpT_unc, \n",
    "                        fugas=fugas_unc,\n",
    "                        NDwQ0=NDwQ0_unc)\n",
    "dosis_unc"
   ]
  },
  {
   "cell_type": "markdown",
   "id": "f4e1e05b-f677-44e6-b4f2-11e2a6b9bf55",
   "metadata": {},
   "source": [
    "El cálculo de la incertidumbre del output es el mismo salvo que no incluye la incertidumbre del certificado de calibración. Estamos en condiciones de repetibilidad no de reproducibilidad, nos estamos comparando con nosotros mismos. En la determinación de la variación del output comparamos una calibración previa con otra posterior y en amabas hemos utilizado el mismo certificado de calibración."
   ]
  },
  {
   "cell_type": "code",
   "execution_count": 14,
   "id": "a7bc3dd2-0d71-44be-ae9a-72712e998855",
   "metadata": {},
   "outputs": [
    {
     "data": {
      "text/plain": [
       "1.0070202010957425+/-0.000537164726450061"
      ]
     },
     "execution_count": 14,
     "metadata": {},
     "output_type": "execute_result"
    }
   ],
   "source": [
    "output_unc = scl.output_f(lecturas=lectura_media_unc, \n",
    "                          UM=UM_nominales, \n",
    "                          ϕpT=ϕpT_unc, \n",
    "                          fugas=fugas_unc) \n",
    "output_unc"
   ]
  },
  {
   "cell_type": "code",
   "execution_count": 21,
   "id": "887cea0f-2ef2-4eb0-bd45-40958dd2e656",
   "metadata": {},
   "outputs": [
    {
     "data": {
      "text/plain": [
       "array([[1.010271180923502+/-0.0005102912566675325]], dtype=object)"
      ]
     },
     "execution_count": 21,
     "metadata": {},
     "output_type": "execute_result"
    }
   ],
   "source": [
    "output_unc_short = scl.output_f(lecturas=lectura_media_unc, \n",
    "                                UM=UM_nominales,\n",
    "                                ϕpT=ϕpT, \n",
    "                                fugas=fugas) \n",
    "output_unc_short"
   ]
  },
  {
   "cell_type": "markdown",
   "id": "aa40aa91-ecbf-4921-9487-5fec693916eb",
   "metadata": {},
   "source": [
    "## Comprobaciones y simulaciones estadísticas\n",
    "\n",
    "Internamente el módulo `simcaliblinac` nos permite saber cuál es el valor esperado actual de la lectura, el valor que hubiéramos obtenido de haber realizado la medida infitas veces en las mismas condiciones y sin incertidumbres en la medida de todas las variables."
   ]
  },
  {
   "cell_type": "code",
   "execution_count": 15,
   "id": "9900254a-6c4b-4deb-a6f5-2f892c85ba44",
   "metadata": {},
   "outputs": [
    {
     "data": {
      "text/plain": [
       "35.642"
      ]
     },
     "execution_count": 15,
     "metadata": {},
     "output_type": "execute_result"
    }
   ],
   "source": [
    "scl._lectura_actual_f(UM=UM_nominales)"
   ]
  },
  {
   "cell_type": "markdown",
   "id": "6c72fd9e-fab6-4601-8bc8-62d48114a083",
   "metadata": {},
   "source": [
    "El módulo `simcaliblinac` expone métodos para calcular la dosis para el número de unidades monitor fijado. Si hemos extraído correctamente la información del TRS398 las dosis que hemos calculado en las cuestiones anteriores deberían coincidir, salvo errores de redondeo, con las dosis calculadas por estas funciones.\n",
    "\n",
    "Al ejecutar la siguiente celda obtenemos las dosis medidas calculadas mediante el módulo `simcaliblinac`"
   ]
  },
  {
   "cell_type": "code",
   "execution_count": 16,
   "id": "6f7de83d-a93c-4c84-91a5-f6b9d3cbbd4d",
   "metadata": {},
   "outputs": [
    {
     "data": {
      "text/plain": [
       "array([[2.01399319, 2.01625917, 2.01631582]])"
      ]
     },
     "execution_count": 16,
     "metadata": {},
     "output_type": "execute_result"
    }
   ],
   "source": [
    "D_meds = scl.dosis_f(lecturas, UM=UM_nominales, ϕpT=ϕpT, fugas=fugas/2)\n",
    "D_meds"
   ]
  },
  {
   "cell_type": "markdown",
   "id": "e53e430d-b0d4-4f4b-b3c3-2d87fac42d54",
   "metadata": {},
   "source": [
    "El módulo `simcaliblinac` expone también métodos para calcular el output del acelerador (dosis en Gy por cada 100 UM)\n",
    "\n",
    "Output medidos"
   ]
  },
  {
   "cell_type": "code",
   "execution_count": 17,
   "id": "e425b9a0-9283-471a-8f6d-564ba6ef32d2",
   "metadata": {},
   "outputs": [
    {
     "data": {
      "text/plain": [
       "array([[1.0069966 , 1.00812959, 1.00815791]])"
      ]
     },
     "execution_count": 17,
     "metadata": {},
     "output_type": "execute_result"
    }
   ],
   "source": [
    "output_meds = scl.output_f(lecturas, UM=UM_nominales, ϕpT=ϕpT, fugas=fugas/2)\n",
    "output_meds"
   ]
  },
  {
   "cell_type": "markdown",
   "id": "1fb91ce5-2356-4bf3-b51d-ce3286030be4",
   "metadata": {},
   "source": [
    "Como estas funciones devuelven sus valores de dosis y output en objetos de tipo array podemos hacer facilmente estadísticas: media y desviación estándar."
   ]
  },
  {
   "cell_type": "code",
   "execution_count": 18,
   "id": "fbe6dd21-5ae5-47ed-b2f8-de1e375754a6",
   "metadata": {},
   "outputs": [
    {
     "data": {
      "text/plain": [
       "(2.0155227304891468,\n",
       " 0.0010817926614304955,\n",
       " 1.0077613652445734,\n",
       " 0.0005408963307152477)"
      ]
     },
     "execution_count": 18,
     "metadata": {},
     "output_type": "execute_result"
    }
   ],
   "source": [
    "D_meds.mean(), D_meds.std(), output_meds.mean(), output_meds.std()"
   ]
  },
  {
   "cell_type": "markdown",
   "id": "02ba8dd5-7226-4bdb-ae95-1266b9dddea7",
   "metadata": {},
   "source": [
    "En el Servicio de Radioterapia en el que estamos realizando estas medidas se tiene el criterio de recalibrar el acelerador, ajustar de nuevo las ganancias de las cámaras, si la variación del output respecto al valor nominal de 1 es mayor del 1.5%.\n",
    "\n",
    "En la teoría del control de calidad se distinguen dos conceptos: *tolerancia* e *incertidumbre*.\n",
    "- **Tolerancia**: Rango de la variable de control que daría lugar a resultados aceptables. Por ejemplo se consideran tolerables variaciones en la dosis final que reciben los pacientes inferiores al 5% porque no ha sido posible detectar diferencias clínicas en los resultados de tratamientos realizados con esas variaciones.\n",
    "\n",
    "- **Incertidumbre**: Rango en el que se espera se encuentre el valor *real* de una magnitud medida.\n",
    "\n",
    "En general se requiere que la variable de control se mida con una incertidumbre inferior a la tolerancia, idealmente incluso despreciable.\n",
    "\n",
    "El tratamiento combinado de  la tolerancia y la incertidumbre lleva al concepto de *nivel de acción*, como el umbral para el resultado del control que indica la necesidad de realizar alguna corrección.\n",
    "\n",
    "Dependiendo cuánto de crítico sea el resultado de nuestro control se definen dos posibles formas de situar el nivel de acción:\n",
    "- **Nivel de acción mayor que la tolerancia**: Se aumenta la tolerancia con la incertidumbre. Expandimos la tolerancia porque aceptamos que los resultados puedan salirse de tolerancia si hay una cierta probabilidad de que estén dentro de tolerancia por su incertidumbre. Por ejemplo si los radares de la DGT miden la velocidad con una incertidumbre del 4% (k=3) solo nos multan si miden que nuestra velocidad supera el límite señalado en más de un 4%. En un tramo a  120 km/h multan si miden más de 124.8 km/h porque de esa manera el 99% de los multados realmente iban a más de 120. Solo hay un 1% de probabilidad de recibir una multa injusta.\n",
    "- **Nivel de acción inferior la tolerancia**: Se reduce la tolerancia con la incertidumbre. Disminuimos la tolerancia porque no aceptamos los resultados que aunque se encuentren dentro de tolerancia tienen una cierta probabilidad de indicar un resultado fuera de tolerancia si se considera su incertidumbre. Por ejemplo si lo que medimos es la resistencia de una viga no podemos permitir medidas dudosas, aquí lo que hacemos es rechazar *de más*, queremos reducir la probabilidad de *falsos aceptados*.\n",
    "\n",
    "## Cuestiones\n",
    "4. Sabiendo que en el Servicio de Radioterapia considerado se ha tomado el criterio de definir el nivel de acción mayor que la tolerancia responder razonadamente si es necesario ajustar las ganancias o no a la vista de los resultados obtenidos.\n",
    "\n",
    "*Nota*: En esta cuestión se valorará positivamente que cada alumno compare sus resultados con otros compañeros de clase (idealmente con todos) y que discutan qué decisión toman sobre las ganancias.\n",
    "\n",
    "5. Comparar las desviaciones estándar de nuestras medidas con la estimación de incertidumbres realizada en la cuestión 3. Si son diferentes comentar cómo se justifican esas diferencias.\n",
    "\n",
    "### Simulaciones\n",
    "\n",
    "#### Teorema del límite central\n",
    "Las funciones del módulo `simcaliblinac` están preparadas para cambiar el tamaño de la muestra de medidas y repetir la toma de muestras tantas veces como queramos. El tamaño de la muestra se indica pasando el parámetro **n** y el número de experimentos pasando el parámetro **trials**.\n",
    "\n",
    "Ejecutando la siguiente celda obtenemos treinta muestras diferentes de cinco medidas cada una cuando fijamos 200 UM y lo almacenamos en el array de numpy muestras. Como resultado de la celda mostramos las dimensiones del array."
   ]
  },
  {
   "cell_type": "code",
   "execution_count": 21,
   "id": "227d3d17-adce-40b3-8423-c00028e8cef0",
   "metadata": {},
   "outputs": [
    {
     "data": {
      "text/plain": [
       "(30, 5)"
      ]
     },
     "execution_count": 21,
     "metadata": {},
     "output_type": "execute_result"
    }
   ],
   "source": [
    "sample_size=5\n",
    "trial_number=30\n",
    "muestras = scl.lectura_medida_f(UM=UM_nominales, n=sample_size, trials=trial_number)\n",
    "muestras.shape"
   ]
  },
  {
   "cell_type": "markdown",
   "id": "b65d555e-f6d4-44ef-9fd3-242cf10b54bf",
   "metadata": {},
   "source": [
    "Si queremos mostrar el contenido de muestras ejecutamos esta celda"
   ]
  },
  {
   "cell_type": "code",
   "execution_count": 22,
   "id": "7b54d4db-ba63-4c0f-8523-9a61caace881",
   "metadata": {},
   "outputs": [
    {
     "data": {
      "text/plain": [
       "array([[35.617, 35.685, 35.66 , 35.654, 35.677],\n",
       "       [35.587, 35.702, 35.653, 35.659, 35.657],\n",
       "       [35.647, 35.635, 35.66 , 35.628, 35.68 ],\n",
       "       [35.59 , 35.659, 35.604, 35.631, 35.608],\n",
       "       [35.664, 35.678, 35.646, 35.632, 35.691],\n",
       "       [35.647, 35.595, 35.604, 35.595, 35.646],\n",
       "       [35.593, 35.682, 35.683, 35.632, 35.671],\n",
       "       [35.667, 35.656, 35.609, 35.676, 35.637],\n",
       "       [35.634, 35.618, 35.604, 35.619, 35.594],\n",
       "       [35.634, 35.638, 35.707, 35.604, 35.666],\n",
       "       [35.635, 35.65 , 35.672, 35.636, 35.583],\n",
       "       [35.686, 35.62 , 35.7  , 35.62 , 35.611],\n",
       "       [35.649, 35.617, 35.658, 35.688, 35.601],\n",
       "       [35.638, 35.635, 35.614, 35.696, 35.645],\n",
       "       [35.71 , 35.704, 35.641, 35.598, 35.682],\n",
       "       [35.673, 35.671, 35.682, 35.698, 35.618],\n",
       "       [35.639, 35.608, 35.655, 35.649, 35.662],\n",
       "       [35.614, 35.695, 35.636, 35.626, 35.629],\n",
       "       [35.655, 35.686, 35.629, 35.614, 35.698],\n",
       "       [35.567, 35.639, 35.671, 35.674, 35.641],\n",
       "       [35.697, 35.607, 35.53 , 35.611, 35.617],\n",
       "       [35.568, 35.599, 35.553, 35.596, 35.653],\n",
       "       [35.675, 35.623, 35.606, 35.605, 35.655],\n",
       "       [35.653, 35.703, 35.566, 35.648, 35.687],\n",
       "       [35.65 , 35.648, 35.698, 35.655, 35.679],\n",
       "       [35.621, 35.599, 35.604, 35.651, 35.632],\n",
       "       [35.705, 35.673, 35.688, 35.626, 35.602],\n",
       "       [35.673, 35.654, 35.621, 35.588, 35.57 ],\n",
       "       [35.664, 35.657, 35.617, 35.643, 35.636],\n",
       "       [35.659, 35.644, 35.714, 35.674, 35.657]])"
      ]
     },
     "execution_count": 22,
     "metadata": {},
     "output_type": "execute_result"
    }
   ],
   "source": [
    "muestras"
   ]
  },
  {
   "cell_type": "markdown",
   "id": "d8cb73b2-a944-45a2-8a07-07d6413271d6",
   "metadata": {},
   "source": [
    "Podemos calcular estádisticas del total de la muestra"
   ]
  },
  {
   "cell_type": "code",
   "execution_count": 23,
   "id": "cfb59ec0-8919-4d2e-963b-6adcd89462f5",
   "metadata": {},
   "outputs": [
    {
     "data": {
      "text/plain": [
       "(35.642579999999995, 0.03618052330559489)"
      ]
     },
     "execution_count": 23,
     "metadata": {},
     "output_type": "execute_result"
    }
   ],
   "source": [
    "muestras.mean(), muestras.std()"
   ]
  },
  {
   "cell_type": "markdown",
   "id": "3094ac21-b26c-47d4-8433-379618f11a95",
   "metadata": {},
   "source": [
    "Podemos construir una colección con las medias y desviaciones estándar de cada experimento"
   ]
  },
  {
   "cell_type": "code",
   "execution_count": 24,
   "id": "a9f876bb-7cd5-4748-8400-2e20f874e15c",
   "metadata": {},
   "outputs": [
    {
     "data": {
      "text/plain": [
       "(array([35.6586, 35.6516, 35.65  , 35.6184, 35.6622, 35.6174, 35.6522,\n",
       "        35.649 , 35.6138, 35.6498, 35.6352, 35.6474, 35.6426, 35.6456,\n",
       "        35.667 , 35.6684, 35.6426, 35.64  , 35.6564, 35.6384, 35.6124,\n",
       "        35.5938, 35.6328, 35.6514, 35.666 , 35.6214, 35.6588, 35.6212,\n",
       "        35.6434, 35.6696]),\n",
       " array([0.02640644, 0.04122863, 0.02072438, 0.02706104, 0.02375289,\n",
       "        0.02681977, 0.03906021, 0.02667396, 0.01533623, 0.03879691,\n",
       "        0.03278262, 0.04208087, 0.03437005, 0.0304516 , 0.04711688,\n",
       "        0.03012142, 0.02110213, 0.03175689, 0.03590682, 0.0431138 ,\n",
       "        0.05915911, 0.03829752, 0.03106767, 0.05300283, 0.02176006,\n",
       "        0.0211731 , 0.0432747 , 0.04325159, 0.01844722, 0.02700555]))"
      ]
     },
     "execution_count": 24,
     "metadata": {},
     "output_type": "execute_result"
    }
   ],
   "source": [
    "muestras_distribucion_medias = muestras.mean(axis=1) \n",
    "muestras_distribucion_sigmas = muestras.std(axis=1, ddof=1)\n",
    "\n",
    "# Mostrar las muestras de ambas ditribuciones\n",
    "muestras_distribucion_medias, muestras_distribucion_sigmas"
   ]
  },
  {
   "cell_type": "markdown",
   "id": "728d1859-84ce-4c8d-8546-09c137d7ed6a",
   "metadata": {},
   "source": [
    "## Cuestión\n",
    "6. Mostrar numéricamente que se verifica el teorema del límite central, es decir, que la media de las muestras de la distribución de medias es la misma que la media de todas las medidas y que dentro de incertidumbres muestrales el valor esperado de la distrubución de sigmas es la sigma de la distrubución total dividida por la raíz cuadrada del tamaño de la muestra"
   ]
  },
  {
   "cell_type": "code",
   "execution_count": 25,
   "id": "12e65143-e19a-409e-a639-1521edadadde",
   "metadata": {},
   "outputs": [
    {
     "data": {
      "text/plain": [
       "1.0"
      ]
     },
     "execution_count": 25,
     "metadata": {},
     "output_type": "execute_result"
    }
   ],
   "source": [
    "muestras_distribucion_medias.mean() / muestras.mean()"
   ]
  },
  {
   "cell_type": "code",
   "execution_count": 26,
   "id": "98089c5e-da97-4116-9d90-385f521f971c",
   "metadata": {},
   "outputs": [
    {
     "data": {
      "text/plain": [
       "1.1713786414951168"
      ]
     },
     "execution_count": 26,
     "metadata": {},
     "output_type": "execute_result"
    }
   ],
   "source": [
    "muestras_distribucion_medias.std(ddof=1) / muestras.std(ddof=1) * np.sqrt(sample_size)"
   ]
  },
  {
   "cell_type": "markdown",
   "id": "ac701a73-49b5-4632-9f02-6ea4f90bcdbb",
   "metadata": {},
   "source": [
    "## Cuestiones\n",
    "\n",
    "7. Hacer una gráfica de la razón entre la media de la distrubución de sigmas y la sigma de la distrubución total en función del número de experimientos. Discutir si tiene un comportamiento asintótico y en su caso indicar a qué valor tiende.\n",
    "\n",
    "**Sugerencia**: Juntar el código mostrado en las celdas anteriores para definir una función dependiente del número de experimentos que devuelva razón entre la media de la distrubución de sigmas y la sigma de la distrubución total. Generar un rango de número de experimentos, pasárselo a la función y hacer la gráfica.\n",
    "\n",
    "8. Hacer una gráfica de la razón entre la media de la distrubución de sigmas y la sigma de la distrubución total en función del tamaño de la muestra. Analizar la importancia del parametro `ddof` para evitar el sesgo por el tamaño de la muestra. Ver la documentación de numpy\n",
    "\n",
    "**Sugerencia**: Juntar el código mostrado en las celdas anteriores para definir una función dependiente del tamaño de la muestra que devuelva la diferencia relativa "
   ]
  },
  {
   "cell_type": "code",
   "execution_count": 27,
   "id": "dbf03e4a-8b8d-4fd2-a08c-79766599f9a1",
   "metadata": {},
   "outputs": [],
   "source": [
    "import matplotlib.pyplot as plt"
   ]
  },
  {
   "cell_type": "code",
   "execution_count": 28,
   "id": "e6f2e383-b523-47ef-b010-b60dc1440fe3",
   "metadata": {},
   "outputs": [
    {
     "data": {
      "image/png": "[encoded data removed]",
      "text/plain": [
       "<Figure size 432x288 with 1 Axes>"
      ]
     },
     "metadata": {
      "needs_background": "light"
     },
     "output_type": "display_data"
    }
   ],
   "source": [
    "def sigmas_f_numero_experimentos(trials):\n",
    "    muestras = scl.lectura_medida_f(UM=UM_nominales, n=sample_size, trials=trials)\n",
    "    muestras_distribucion_medias = muestras.mean(axis=1)\n",
    "    diferencia_relativa_numero_experimentos = muestras_distribucion_medias.std() / muestras.std()\n",
    "    return diferencia_relativa_numero_experimentos\n",
    "\n",
    "trial_number_list = np.geomspace(1e1, 1e5, 10, dtype=int)\n",
    "diferencia_relativa_numero_experimentos_list =  [sigmas_f_numero_experimentos(trial_number) for trial_number in trial_number_list]\n",
    "fig, ax = plt.subplots()\n",
    "ax.plot(trial_number_list, diferencia_relativa_numero_experimentos_list, 'r.')\n",
    "ax.plot([1e1, 1e5], [np.sqrt(sample_size)**-1,np.sqrt(sample_size)**-1], 'b--')\n",
    "ax.set_xscale('log')\n",
    "ax.set_xlabel('Número experimentos')\n",
    "ax.set_ylabel('Diferencia rel sigmas')\n",
    "plt.show()"
   ]
  },
  {
   "cell_type": "code",
   "execution_count": 37,
   "id": "8d016ab4-c90c-4115-8bac-d3b5f4eb61be",
   "metadata": {},
   "outputs": [
    {
     "data": {
      "image/png": "[encoded data removed]",
      "text/plain": [
       "<Figure size 432x288 with 1 Axes>"
      ]
     },
     "metadata": {
      "needs_background": "light"
     },
     "output_type": "display_data"
    }
   ],
   "source": [
    "def sigmas_f_sample_size(n):\n",
    "    muestras = scl.lectura_medida_f(UM=UM_nominales, n=n, trials=int(1e4))\n",
    "    muestras_distribucion_sigmas = muestras.std(axis=1, ddof=1)\n",
    "    muestras_distribucion_sesgada_sigmas = muestras.std(axis=1)\n",
    "    razon_sample_size = muestras_distribucion_sigmas.mean() / muestras.std()\n",
    "    razon_sesgada_sample_size = muestras_distribucion_sesgada_sigmas.mean() / muestras.std()\n",
    "    return razon_sample_size, razon_sesgada_sample_size\n",
    "\n",
    "sample_size_list = np.linspace(3, 100, 98, dtype=int)\n",
    "razon_sample_size_list =  [sigmas_f_sample_size(n)[0] for n in sample_size_list]\n",
    "razon_sesgada_sample_size_list =  [sigmas_f_sample_size(n)[1] for n in sample_size_list]\n",
    "fig, ax = plt.subplots()\n",
    "ax.plot(sample_size_list, razon_sample_size_list, 'r.', label='Con corrección por grados de libertad')\n",
    "ax.plot(sample_size_list, razon_sesgada_sample_size_list, 'b.', label='Sin corrección por grados de libertad')\n",
    "ax.plot([3, 100], [1, 1], 'b--')\n",
    "ax.set_xlabel('Tamaño de la muestra')\n",
    "ax.set_ylabel('Diferencia rel sigmas')\n",
    "ax.legend()\n",
    "plt.show()"
   ]
  },
  {
   "cell_type": "code",
   "execution_count": 38,
   "id": "6209ec59-61e0-49cf-8a10-948220f8bcf6",
   "metadata": {},
   "outputs": [],
   "source": [
    "numero_trials=50"
   ]
  },
  {
   "cell_type": "code",
   "execution_count": 39,
   "id": "471867e5-a629-4a27-84f3-ee659c48d963",
   "metadata": {},
   "outputs": [],
   "source": [
    "muestras_lecturas = scl.lectura_medida_f(UM=UM_nominales, n=3, trials=numero_trials)\n",
    "muestras_presion, muestras_temperatura = scl.presion_temperatura_medida(trials=numero_trials)\n",
    "muestras_ϕpT = scl.ϕpTf(muestras_presion, muestras_temperatura)\n",
    "muestras_fugas = scl.fugas(trials=numero_trials)"
   ]
  },
  {
   "cell_type": "code",
   "execution_count": 40,
   "id": "ff770f37-b003-40ec-b8c1-41bb2a52433a",
   "metadata": {},
   "outputs": [],
   "source": [
    "muestras_outputs = scl.output_f(lecturas=muestras_lecturas.mean(axis=1),\n",
    "                                UM=UM_nominales,\n",
    "                                ϕpT=muestras_ϕpT,\n",
    "                                fugas=muestras_fugas)"
   ]
  },
  {
   "cell_type": "code",
   "execution_count": 41,
   "id": "fca383d7-f608-4d17-b059-4aaea0d94d68",
   "metadata": {},
   "outputs": [
    {
     "data": {
      "text/plain": [
       "1.0127402675675838+/-0.0030682401109176746"
      ]
     },
     "execution_count": 41,
     "metadata": {},
     "output_type": "execute_result"
    }
   ],
   "source": [
    "outputs_unc = ufloat(muestras_outputs.mean(), muestras_outputs.std())\n",
    "outputs_unc"
   ]
  },
  {
   "cell_type": "code",
   "execution_count": null,
   "id": "0ae443e8-e110-4bc8-a742-c39413dbc9fa",
   "metadata": {},
   "outputs": [],
   "source": []
  }
 ],
 "metadata": {
  "kernelspec": {
   "display_name": "Python 3 (ipykernel)",
   "language": "python",
   "name": "python3"
  },
  "language_info": {
   "codemirror_mode": {
    "name": "ipython",
    "version": 3
   },
   "file_extension": ".py",
   "mimetype": "text/x-python",
   "name": "python",
   "nbconvert_exporter": "python",
   "pygments_lexer": "ipython3",
   "version": "3.9.18"
  }
 },
 "nbformat": 4,
 "nbformat_minor": 5
}
