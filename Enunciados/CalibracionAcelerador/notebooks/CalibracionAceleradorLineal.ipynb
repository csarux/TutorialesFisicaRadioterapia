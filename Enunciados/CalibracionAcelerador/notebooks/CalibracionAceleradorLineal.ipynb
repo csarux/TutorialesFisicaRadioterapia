{
 "cells": [
  {
   "cell_type": "markdown",
   "id": "bed28c1d-6cf8-4edf-a73b-19b94666d0fa",
   "metadata": {},
   "source": [
    "#### Física de la Radioterapia. Master de Física Biomédica. Universidad Complutense de Madrid\n",
    "# Calibración del acelerador lineal\n",
    "## Haces de fotones medidos en condiciones de referencia\n",
    "-----\n",
    "\n",
    "**Objetivos**: \n",
    "Determinar la dosis absorbida producida por un campo de radiación en condiciones estándar de calibración utilizando una cámara de ionización tipo Farmer y aplicando el [protocolo de dosimetría de la IAEA TRS398](https://www-pub.iaea.org/MTCD/publications/PDF/TRS_398s_Web.pdf). Se recomienda leer al menos el epígrafe **3. FORMALISMO BASADO EN** $N_{D,w}$ del protocolo.\n",
    "\n",
    "**Antecendentes**: De acuerdo al TRS398 la magnitud $D_{w, Q}$, dosis en agua para la calidad de la radiación $Q$, se puede determinar mediante la expresión\n",
    "\n",
    "\\begin{equation}\n",
    "    D_{w, Q} = M_Q\\;N_{D, w, Q_0}\\;k_{Q, Q_0}\\;k_{sat}\\;k_{pol}.\n",
    "\\end{equation}\n",
    "\n",
    "donde:\n",
    "- $M_Q$ es la lectura neta del electrómetro expresado en condiciones normales\n",
    "- $N_{D, w, Q_0}$ es el valor del factor de calibración de la cámara en condiciones de referencia\n",
    "- $k_{Q, Q_0}$ es el factor de corrección por la calidad del haz del factor de calibración\n",
    "- $k_{sat}$ es el factor de corrección por saturación de la cámara\n",
    "- $k_{pol}$ es factor de corrección por dependencia de la lectura de la cámara con la polarización de sus electrodos\n",
    "\n",
    "**Datos**:\n",
    "Los datos de la cámara empleada están recogidos en su [certificado de calibración](https://raw.githubusercontent.com/csarux/TutorialesFisicaRadioterapia/main/Enunciados/CalibracionAcelerador/docs/CamaraFarmer10820.pdf)\n",
    "\n",
    "Previamente se ha determinado que para esta cámara los factores de corrección por saturación $k_{sat}$ y por polarización $k_{pol}$ son ambos igual a uno en las condiciones de medida consideradas.\n",
    "\n",
    "La energía del haz empleado corresponde a una razón TPR${}_{20, 10} = 0.694$.\n",
    "\n",
    "Para recolectar la carga producida en la cámara se utiliza un electrómetro con una resolución de $0.001$ nC.\n",
    "\n",
    "## Cuestión\n",
    "1. Obtener de los datos del TRS398 el factor de corrección de la calibración de la cámara por la energía para el haz utilizado.\n",
    "\n",
    "**Ayuda**: Consultar el CUADRO 14 página 85."
   ]
  },
  {
   "cell_type": "markdown",
   "id": "3b3e3ece-391f-4074-9b15-5b3dedea8d98",
   "metadata": {},
   "source": [
    "Como en el certificado de calibración de la cámara la calidad del haz de referencia corresponde al ${}^{60}$Co, según el protocolo TRS398 podemos denotar el factor de corrección de la calibración por la energía $k_{Q, Q_0}$ como $k_Q$.\n",
    "        \n",
    "El $k_Q$ se obtiene interpolando en la tabla correspondiente al modelo de cámara PTW 30013, página 85 CUADRO 14, usando el valor dado para el TPR${}_{20,10}$.\n",
    "        \n",
    "\n",
    "| TPR${}_{20,10}$ | $k_Q$ |\n",
    "|-----------------|-------|\n",
    "|  0.700  | 0.988 |\n",
    "|  0.680  | 0.990 |\n",
    "| **0.694**|**0.9886**|\n"
   ]
  },
  {
   "cell_type": "markdown",
   "id": "86d9ba25-e6ee-49f3-97bb-1a294f4ab55b",
   "metadata": {},
   "source": [
    "## Módulo `simcaliblinac`\n",
    "Este cuaderno simula las condiciones variables de la medida mediante generadores aleatorios que siguen distribuciones realistas. Para realizar el ejercicio cada alumno generará y recogerá tanto las medidas como las condiciones en las que las ha realizado.\n",
    "\n",
    "El módulo `simcaliblinac` contiene las funciones para realizar esta simulación.\n",
    "\n",
    "```\n",
    "Nota: El código de este modulo se considera aún en desarrollo.\n",
    "Si al instalar el código aparecen mensajes de error o no es posible locallizarlo escribir a cesaro02@ucm.es  \n",
    "```\n",
    "\n",
    "En la siguiente celda instalamos el paquete e importamos el módulo"
   ]
  },
  {
   "cell_type": "code",
   "execution_count": null,
   "id": "cd59117b-bf7d-4624-b94c-6c37101269cb",
   "metadata": {},
   "outputs": [],
   "source": [
    "%pip install --index-url https://test.pypi.org/simple/ simcaliblinac\n",
    "import simcaliblinac.simcaliblinac as scl"
   ]
  },
  {
   "cell_type": "markdown",
   "id": "6890dc73-9349-4c09-a313-cb8e85d447f6",
   "metadata": {},
   "source": [
    "Tomar los valores de la presión atmosférica indicada por el barómetro del Servicio y de la temperatura medida por la sonda del termómetro que introducimos en el agua. \n",
    "\n",
    "Las unidades de las medidas son presión en hPa y temperatura en grados centígrados."
   ]
  },
  {
   "cell_type": "code",
   "execution_count": 2,
   "id": "4899f0fb-7bf8-4079-a86d-c7b6e0ab3722",
   "metadata": {},
   "outputs": [
    {
     "data": {
      "text/plain": [
       "(array([948.3]), array([22.5]))"
      ]
     },
     "execution_count": 2,
     "metadata": {},
     "output_type": "execute_result"
    }
   ],
   "source": [
    "presion, temperatura = scl.presion_temperatura_medida()\n",
    "presion, temperatura"
   ]
  },
  {
   "cell_type": "markdown",
   "id": "9ffd66da-3e0b-4271-b676-3053be4c577f",
   "metadata": {},
   "source": [
    "El módulo `simcaliblinac` ofrece una función para calcular la corrección por presión y temperatura $\\phi$pT"
   ]
  },
  {
   "cell_type": "code",
   "execution_count": 3,
   "id": "b3e265e5-4726-4986-a03d-ef5d1ef93c22",
   "metadata": {},
   "outputs": [
    {
     "data": {
      "text/plain": [
       "array([1.07733415])"
      ]
     },
     "execution_count": 3,
     "metadata": {},
     "output_type": "execute_result"
    }
   ],
   "source": [
    "ϕpT = scl.ϕpTf(presion, temperatura)\n",
    "ϕpT"
   ]
  },
  {
   "cell_type": "markdown",
   "id": "def44dca-3da2-41cb-8a2f-3faaf709aeda",
   "metadata": {},
   "source": [
    "Una vez montados los equipos, fijadas las condiciones experimentales y con todas las conexiones realizadas, comenzamos por medir la lecutra del electrómetro cuando no hay radiación. En Radioterapia a este valor lo denominamos *corriente de fugas*. Es el equivalente a una lectura de un valor de fondo pero de origen diferente.\n",
    "\n",
    "Las fugas son de naturaleza aleatoria. Su valor medio se estima integrando durante un tiempo dado suficientemente largo como para promediar variaciones instantáneas. \n",
    "\n",
    "El módulo `simcaliblinac` expone un método para obtener una muestra de las fugas recolectadas durante un tiempo dado"
   ]
  },
  {
   "cell_type": "code",
   "execution_count": 4,
   "id": "4ef0ccd2-0378-40b4-849a-7206c4ddded0",
   "metadata": {},
   "outputs": [
    {
     "data": {
      "text/plain": [
       "array([[0.144]])"
      ]
     },
     "execution_count": 4,
     "metadata": {},
     "output_type": "execute_result"
    }
   ],
   "source": [
    "fugas = scl.fugas(minutos=2)\n",
    "fugas # en nanoCulombios"
   ]
  },
  {
   "cell_type": "markdown",
   "id": "ea526f99-92c3-4eec-98c4-0addd277da5c",
   "metadata": {},
   "source": [
    "Para hacer las medidas en el acelerador tenemos que fijar un número de unidades monitor nominales."
   ]
  },
  {
   "cell_type": "code",
   "execution_count": 5,
   "id": "f334c0d1-cd90-4e97-954a-bc1b09dfd48e",
   "metadata": {},
   "outputs": [],
   "source": [
    "UM_nominales = 200"
   ]
  },
  {
   "cell_type": "markdown",
   "id": "85549a42-8f1e-4aef-81db-b4bca8974fd2",
   "metadata": {},
   "source": [
    "El módulo `simcaliblinac` expone un método para obtener una muestra de **n** medidas con las unidades monitor fijadas. La tasa de UM fijada en el acelerador es de 600 UM/min. Usualmente se toma una muestra de tamaño tres, porque es la menor muestra que permite tomar una decisión sobre la coherencia de las medidas. Tres medidas permiten asegurar que no ha ocurrido nada anómalo al tomar los datos si ningún valor discrepa mucho de los otros dos."
   ]
  },
  {
   "cell_type": "code",
   "execution_count": 6,
   "id": "d991ccc1-dcf2-4b65-9abd-d2e73e6b9bd6",
   "metadata": {},
   "outputs": [
    {
     "data": {
      "text/plain": [
       "array([[35.434, 35.384, 35.372]])"
      ]
     },
     "execution_count": 6,
     "metadata": {},
     "output_type": "execute_result"
    }
   ],
   "source": [
    "lecturas = scl.lectura_medida_f(UM=UM_nominales, n=3)\n",
    "lecturas # en nanoCulombios"
   ]
  },
  {
   "cell_type": "markdown",
   "id": "8ba66946-0fb0-4029-ba47-c178c22a03d6",
   "metadata": {},
   "source": [
    "Para calibrar el acelerador expresamos la medida de dosis en términos relativos a las unidades monitor, es decir, queremos saber cuánta dosis damos por unidad monitor. Por una decisión complemtamente arbitraria se suele ajustar la calibración para que en condiciones estándar una UM coincida con un centiGray. Este ajuste se realiza variando la ganancia de la cámaras monitoras. El cambio de la ganancia permite variar la lectura de la cámara aún recibiendo la misma dosis.\n",
    "\n",
    "## Cuestiones\n",
    "2. Determinar la dosis absorbida suministrada por el acelerador y el output.\n",
    "1. Hacer una estimación de la incertidumbre en la medida de la dosis absorbida y en la medida del output"
   ]
  },
  {
   "cell_type": "markdown",
   "id": "926682e9-25a9-4d14-9069-0a5ec4513cd5",
   "metadata": {},
   "source": [
    "Para generar la respuesta hemos incluido en el módulo `simcalblinac` una función que calcula la dosis para las lecturas en el electrómetro, las condiciones de medida y los parámetros de la cámara."
   ]
  },
  {
   "cell_type": "code",
   "execution_count": 7,
   "id": "2fdd8bb7-70d6-4d39-b1e3-3c10a7d9ff54",
   "metadata": {},
   "outputs": [
    {
     "data": {
      "text/plain": [
       "array([[2.03364174, 2.03076823, 2.03007859]])"
      ]
     },
     "execution_count": 7,
     "metadata": {},
     "output_type": "execute_result"
    }
   ],
   "source": [
    "dosis_medidas = scl.dosis_f(lecturas, UM=UM_nominales, ϕpT=ϕpT, fugas=fugas)\n",
    "dosis_medidas"
   ]
  },
  {
   "cell_type": "markdown",
   "id": "51bbef68-5c0e-474c-9c09-0c55a57aa679",
   "metadata": {},
   "source": [
    "Para hacer la estimación de las incertidumbres de la dosis tenemos que calcular primero la desviación estándar de la distribución de medias muestrales.\n",
    "\n",
    "Como la muestra es de tamaño pequeño para no introducir errores de sesgo al utilizar la función que calcula la desviación estándar utilizamos el parámetro `ddof` con valor igual a 1. Además lo que estamos estimando es la incertidumbre de la distribución de medias de muestras de tamaño tres, dividimos por tanto por `np.sqrt(3)`. Expresamos los resultados redondeados a la resolución del electrómetro."
   ]
  },
  {
   "cell_type": "code",
   "execution_count": 8,
   "id": "14c69007-d4c1-4a36-b947-ab7d8c2655d0",
   "metadata": {},
   "outputs": [],
   "source": [
    "import numpy as np"
   ]
  },
  {
   "cell_type": "code",
   "execution_count": 9,
   "id": "3e1e82a5-17c8-4ab8-b300-4b39820f760f",
   "metadata": {},
   "outputs": [
    {
     "data": {
      "text/plain": [
       "0.019"
      ]
     },
     "execution_count": 9,
     "metadata": {},
     "output_type": "execute_result"
    }
   ],
   "source": [
    "sigma_media_lecturas = np.round(lecturas.std(ddof=1)/np.sqrt(3), decimals=scl._resolucion_electrometro)\n",
    "sigma_media_lecturas"
   ]
  },
  {
   "cell_type": "markdown",
   "id": "b5e9da41-45f8-4de2-b406-3dc8990659e9",
   "metadata": {},
   "source": [
    "Expresada en terminos relativos"
   ]
  },
  {
   "cell_type": "code",
   "execution_count": 10,
   "id": "eb96dae3-ec9a-4242-b0b8-dfa233e97b88",
   "metadata": {},
   "outputs": [
    {
     "data": {
      "text/plain": [
       "0.0005367737075054148"
      ]
     },
     "execution_count": 10,
     "metadata": {},
     "output_type": "execute_result"
    }
   ],
   "source": [
    "sigma_relativa_media_lecturas = sigma_media_lecturas / lecturas.mean()\n",
    "sigma_relativa_media_lecturas"
   ]
  },
  {
   "cell_type": "markdown",
   "id": "31bea8a0-d534-4586-afc0-5fe8bd5e5b94",
   "metadata": {},
   "source": [
    "Inferior al uno por mil, una incertidumbre relativamente pequeña. En realidad esta incertidumbre solo tiene en cuenta la repetibilidad del acelerador.\n",
    "\n",
    "En la incertidumbre de la medida de la dosis tenemos que combinar las incertidumbres siguientes:\n",
    "\n",
    "- Fugas: si solo tenemos una medida la estimamos con la resolución del electrómetro. $\\sigma_{\\text{fugas}}=\\pm 0.001$\n",
    "- Temperatura: si solo tenemos una medida la estimamos con la resolución del termómetro. $\\sigma_{\\text{temperatura}}=\\pm 0.1$\n",
    "- Presión: si solo tenemos una medida la estimamos con la resolución del barómetro. $\\sigma_{\\text{barometro}}=\\pm 0.1$\n",
    "- Incertidumbre del certificado de calibración: $\\sigma_{N_{D, w, Q_0}}=\\pm0.55\\%$ (k=1), fijémonos que la incertidumbre del certificado está dada con factor de cobertura k=2.\n",
    "- Incertidumbre de lectura: es la combinación de la resolución del electrómetro y la incertidumbre estadística de la lectura que la estimamos por la desviación estándar de la distribución de medias muestrales.\n",
    "\n",
    "\\begin{equation}\n",
    "I_{\\text{Lectura}}^2 = 0.001^2+\\sigma_{\\text{Media Lectura}}^2\n",
    "\\end{equation}\n",
    "\n",
    "Para calcular las incertidumbres, combinarlas y propagarlas nos podemos ayudar con el módulo `uncertainties`"
   ]
  },
  {
   "cell_type": "code",
   "execution_count": 11,
   "id": "132ad7ff-ac75-450e-9061-6f925672bb11",
   "metadata": {},
   "outputs": [],
   "source": [
    "from uncertainties import ufloat, unumpy"
   ]
  },
  {
   "cell_type": "code",
   "execution_count": 12,
   "id": "0a0d3271-08a9-4819-9c24-a34429dcfb6e",
   "metadata": {},
   "outputs": [
    {
     "data": {
      "text/plain": [
       "2.0314961870002257+/-0.011249509196756843"
      ]
     },
     "execution_count": 12,
     "metadata": {},
     "output_type": "execute_result"
    }
   ],
   "source": [
    "# Magnitudes con incertidumbres\n",
    "presion_unc = ufloat(presion, 10**-scl._resolucion_barometro)\n",
    "temperatura_unc = ufloat(temperatura, 10**-scl._resolucion_termometro)\n",
    "fugas_unc = ufloat(fugas, 10**-scl._resolucion_electrometro)\n",
    "ϕpT_unc = scl.ϕpTf(p=presion_unc, T=temperatura_unc)\n",
    "NDwQ0_unc = ufloat(scl._NDwQ0, scl._NDwQ0*scl._rel_unc_NDwQ0)\n",
    "lectura_media_unc=ufloat(lecturas.mean(), \n",
    "                         np.sqrt(10**-scl._resolucion_electrometro**2 +\n",
    "                                 sigma_media_lecturas**2))\n",
    "\n",
    "# Dosis con incertidumbres\n",
    "dosis_unc = scl.dosis_f(lecturas=lectura_media_unc,\n",
    "                        UM=UM_nominales, \n",
    "                        ϕpT=ϕpT_unc, \n",
    "                        fugas=fugas_unc,\n",
    "                        NDwQ0=NDwQ0_unc)\n",
    "dosis_unc"
   ]
  },
  {
   "cell_type": "markdown",
   "id": "f4e1e05b-f677-44e6-b4f2-11e2a6b9bf55",
   "metadata": {},
   "source": [
    "El cálculo de la incertidumbre del output es el mismo salvo que no incluye la incertidumbre del certificado de calibración. Estamos en condiciones de repetibilidad no de reproducibilidad, nos estamos comparando con nosotros mismos. En la determinación de la variación del output comparamos una calibración previa con otra posterior y en amabas hemos utilizado el mismo certificado de calibración."
   ]
  },
  {
   "cell_type": "code",
   "execution_count": 13,
   "id": "a7bc3dd2-0d71-44be-ae9a-72712e998855",
   "metadata": {},
   "outputs": [
    {
     "data": {
      "text/plain": [
       "1.0157480935001129+/-0.0006539132672942973"
      ]
     },
     "execution_count": 13,
     "metadata": {},
     "output_type": "execute_result"
    }
   ],
   "source": [
    "output_unc = scl.output_f(lecturas=lectura_media_unc, \n",
    "                          UM=UM_nominales, \n",
    "                          ϕpT=ϕpT_unc, \n",
    "                          fugas=fugas_unc) \n",
    "output_unc"
   ]
  },
  {
   "cell_type": "markdown",
   "id": "02ba8dd5-7226-4bdb-ae95-1266b9dddea7",
   "metadata": {},
   "source": [
    "## Comprobaciones y simulaciones estadísticas\n",
    "\n",
    "En el Servicio de Radioterapia en el que estamos realizando estas medidas se tiene el criterio de recalibrar el acelerador, ajustar de nuevo las ganancias de las cámaras, si la variación del output respecto al valor nominal de 1 es mayor del 1.5%.\n",
    "\n",
    "En la teoría del control de calidad se distinguen dos conceptos: *tolerancia* e *incertidumbre*.\n",
    "- **Tolerancia**: Rango de la variable de control que daría lugar a resultados aceptables. Por ejemplo se consideran tolerables variaciones en la dosis final que reciben los pacientes inferiores al 5% porque no ha sido posible detectar diferencias clínicas en los resultados de tratamientos realizados con esas variaciones.\n",
    "\n",
    "- **Incertidumbre**: Rango en el que se espera se encuentre el valor *real* de una magnitud medida.\n",
    "\n",
    "En general se requiere que la variable de control se mida con una incertidumbre inferior a la tolerancia, idealmente incluso despreciable.\n",
    "\n",
    "El tratamiento combinado de  la tolerancia y la incertidumbre lleva al concepto de *nivel de acción*, como el umbral para el resultado del control que indica la necesidad de realizar alguna corrección.\n",
    "\n",
    "Dependiendo cuánto de crítico sea el resultado de nuestro control se definen dos posibles formas de situar el nivel de acción:\n",
    "- **Nivel de acción mayor que la tolerancia**: Se aumenta la tolerancia con la incertidumbre. Expandimos la tolerancia porque aceptamos que los resultados puedan salirse de tolerancia si hay una cierta probabilidad de que estén dentro de tolerancia por su incertidumbre. Por ejemplo si los radares de la DGT miden la velocidad con una incertidumbre del 4% (k=3) solo nos multan si miden que nuestra velocidad supera el límite señalado en más de un 4%. En un tramo a  120 km/h multan si miden más de 124.8 km/h porque de esa manera el 99% de los multados realmente iban a más de 120. Solo hay un 1% de probabilidad de recibir una multa injusta.\n",
    "- **Nivel de acción inferior la tolerancia**: Se reduce la tolerancia con la incertidumbre. Disminuimos la tolerancia porque no aceptamos los resultados que aunque se encuentren dentro de tolerancia tienen una cierta probabilidad de indicar un resultado fuera de tolerancia si se considera su incertidumbre. Por ejemplo si lo que medimos es la resistencia de una viga no podemos permitir medidas dudosas, aquí lo que hacemos es rechazar *de más*, queremos reducir la probabilidad de *falsos aceptados*.\n",
    "\n",
    "## Cuestiones\n",
    "4. Sabiendo que en el Servicio de Radioterapia considerado se ha tomado el criterio de definir el nivel de acción mayor que la tolerancia responder razonadamente si es necesario ajustar las ganancias o no a la vista de los resultados obtenidos.\n",
    "\n",
    "*Nota*: En esta cuestión se valorará positivamente que cada alumno compare sus resultados con otros compañeros de clase (idealmente con todos) y que discutan qué decisión toman sobre las ganancias.\n",
    "\n",
    "Aprovechando los resultados de todos los miembros de la clase podemos generar el siguientre array de resultados y calular su media y la desviación estándar de la distribución de medias. Expresamos los resultados redondeaddos a la resolución del electrómetro"
   ]
  },
  {
   "cell_type": "code",
   "execution_count": 14,
   "id": "b548fb63-b6fa-4574-b783-225130be71c9",
   "metadata": {},
   "outputs": [
    {
     "data": {
      "text/plain": [
       "(1.015, 0.001)"
      ]
     },
     "execution_count": 14,
     "metadata": {},
     "output_type": "execute_result"
    }
   ],
   "source": [
    "outputs = np.array([\n",
    "    1.01008,\n",
    "    1.0195,\n",
    "    1.01302,\n",
    "    1.01802,\n",
    "    1.02148,\n",
    "    1.0236,\n",
    "    1.018,\n",
    "    1.0107,\n",
    "    1.0088,\n",
    "    1.012,\n",
    "    1.0142,\n",
    "    1.01465,\n",
    "    1.01,\n",
    "    1.0061,\n",
    "    1.01852,\n",
    "    1.019,\n",
    "    1.0133,\n",
    "    1.01339,\n",
    "    1.0148,\n",
    "    1.01,\n",
    "    1.0198,\n",
    "    1.0157])\n",
    "(np.round(outputs.mean(), decimals=scl._resolucion_electrometro), \n",
    "    np.round(outputs.std(ddof=1)/np.sqrt(len(outputs)), decimals=scl._resolucion_electrometro))"
   ]
  },
  {
   "cell_type": "markdown",
   "id": "1257e1eb-e25f-43df-ab14-d7977d1dead7",
   "metadata": {},
   "source": [
    "Sobre estos resultados podemos hacer varios análisis.\n",
    "\n",
    "Hemos estimado una incertidumbre del orden de $0.2\\%$ con factor de cobertura $k=2$ en la medida del output. Por tanto expandiendo la tolerancia ese $0.2\\%$ no deberíamos recalibar si la medida del output es inferiorr a $1.017$. Algunos alumnos a la vista de sus resultados habrían decidido coherentemente recalibrar el acelerador.\n",
    "\n",
    "Utilizando el promedio de todos los resultados de los miembros de clase tenemos una muy buena estimación del estado real del acelerador. En el módulo `simcaliblinac` el output *real* del acelerador está fijado en $1.016$. El resultado determinado entre todos es compatible dentro de incertidumbres con el valor *real*. Con esta mejor estimación del output *real* del acelerador lo más adecuado es **no recalibrar** aún. \n",
    "\n",
    "Obviamente la estimación del output mejora con el incremento del número de medidas proveniente de combinar los resultados de todos. En el mundo real no siempre nos es posible aumentar la estadística de forma directa. En esos casos resulta conveniente utilizar otras agrupaciones de resultados, por ejemplo analizando la evolución del acelerador en el tiempo."
   ]
  },
  {
   "cell_type": "markdown",
   "id": "de4301e7-8fdf-4d9d-83f3-7d2ea5492f83",
   "metadata": {},
   "source": [
    "5. Comparar las desviaciones estándar de nuestras medidas con la estimación de incertidumbres realizada en la cuestión 3. Si son diferentes comentar cómo se justifican esas diferencias.\n",
    "\n",
    "La desviación estándar de las medidas es inferior a la estimación de incertidumbres porque la segunda incluye contribuciones (fugas, factor de presión y temperatura) que no están incluidas en la variaciones de las medidas. \n",
    "\n",
    "Por otra parte si comparamos las estimaciones de incertidumbres con el rango de variación de las medidas de todos los miembros de clase parece que nuestra estimación ha sido demasiado optimista. Esto indica que tiene que haber otras contribuciones que se han pasado por alto, variaciones no contempladas. Es aquí donde aparecen las incertidumbres de tipo B que solo podemos estimar por medio de la experiencia. \n",
    "\n",
    "### Simulaciones\n",
    "\n",
    "#### Teorema del límite central\n",
    "Las funciones del módulo `simcaliblinac` están preparadas para cambiar el tamaño de la muestra de medidas y repetir la toma de muestras tantas veces como queramos. El tamaño de la muestra se indica pasando el parámetro **n** y el número de experimentos pasando el parámetro **trials**.\n",
    "\n",
    "Ejecutando la siguiente celda obtenemos treinta muestras diferentes de cinco medidas cada una cuando fijamos 200 UM y lo almacenamos en el array de numpy muestras. Como resultado de la celda mostramos las dimensiones del array."
   ]
  },
  {
   "cell_type": "code",
   "execution_count": 15,
   "id": "227d3d17-adce-40b3-8423-c00028e8cef0",
   "metadata": {},
   "outputs": [
    {
     "data": {
      "text/plain": [
       "(30, 5)"
      ]
     },
     "execution_count": 15,
     "metadata": {},
     "output_type": "execute_result"
    }
   ],
   "source": [
    "sample_size=5\n",
    "trial_number=30\n",
    "muestras = scl.lectura_medida_f(UM=UM_nominales, n=sample_size, trials=trial_number)\n",
    "muestras.shape"
   ]
  },
  {
   "cell_type": "markdown",
   "id": "b65d555e-f6d4-44ef-9fd3-242cf10b54bf",
   "metadata": {},
   "source": [
    "Si queremos mostrar el contenido de muestras ejecutamos esta celda"
   ]
  },
  {
   "cell_type": "code",
   "execution_count": 16,
   "id": "7b54d4db-ba63-4c0f-8523-9a61caace881",
   "metadata": {},
   "outputs": [
    {
     "data": {
      "text/plain": [
       "array([[35.449, 35.435, 35.313, 35.382, 35.364],\n",
       "       [35.388, 35.455, 35.42 , 35.412, 35.424],\n",
       "       [35.399, 35.378, 35.401, 35.383, 35.405],\n",
       "       [35.39 , 35.418, 35.347, 35.434, 35.359],\n",
       "       [35.411, 35.402, 35.346, 35.356, 35.364],\n",
       "       [35.467, 35.401, 35.403, 35.415, 35.362],\n",
       "       [35.418, 35.392, 35.407, 35.389, 35.302],\n",
       "       [35.378, 35.363, 35.408, 35.344, 35.414],\n",
       "       [35.364, 35.41 , 35.409, 35.392, 35.395],\n",
       "       [35.438, 35.348, 35.391, 35.394, 35.392],\n",
       "       [35.425, 35.418, 35.382, 35.443, 35.393],\n",
       "       [35.372, 35.406, 35.421, 35.395, 35.341],\n",
       "       [35.385, 35.353, 35.397, 35.416, 35.426],\n",
       "       [35.404, 35.389, 35.459, 35.425, 35.393],\n",
       "       [35.459, 35.385, 35.357, 35.338, 35.4  ],\n",
       "       [35.407, 35.423, 35.359, 35.339, 35.346],\n",
       "       [35.295, 35.385, 35.437, 35.386, 35.363],\n",
       "       [35.389, 35.349, 35.392, 35.414, 35.428],\n",
       "       [35.325, 35.44 , 35.405, 35.408, 35.357],\n",
       "       [35.388, 35.362, 35.446, 35.412, 35.445],\n",
       "       [35.362, 35.375, 35.429, 35.358, 35.319],\n",
       "       [35.396, 35.364, 35.413, 35.387, 35.401],\n",
       "       [35.399, 35.384, 35.294, 35.412, 35.347],\n",
       "       [35.393, 35.461, 35.379, 35.434, 35.385],\n",
       "       [35.397, 35.358, 35.385, 35.338, 35.401],\n",
       "       [35.439, 35.41 , 35.416, 35.434, 35.365],\n",
       "       [35.38 , 35.379, 35.389, 35.435, 35.405],\n",
       "       [35.351, 35.476, 35.352, 35.348, 35.342],\n",
       "       [35.314, 35.28 , 35.389, 35.401, 35.394],\n",
       "       [35.426, 35.457, 35.435, 35.358, 35.377]])"
      ]
     },
     "execution_count": 16,
     "metadata": {},
     "output_type": "execute_result"
    }
   ],
   "source": [
    "muestras"
   ]
  },
  {
   "cell_type": "markdown",
   "id": "d8cb73b2-a944-45a2-8a07-07d6413271d6",
   "metadata": {},
   "source": [
    "Podemos calcular estádisticas del total de la muestra"
   ]
  },
  {
   "cell_type": "code",
   "execution_count": 17,
   "id": "cfb59ec0-8919-4d2e-963b-6adcd89462f5",
   "metadata": {},
   "outputs": [
    {
     "data": {
      "text/plain": [
       "(35.390906666666666, 0.03682270072779676)"
      ]
     },
     "execution_count": 17,
     "metadata": {},
     "output_type": "execute_result"
    }
   ],
   "source": [
    "muestras.mean(), muestras.std()"
   ]
  },
  {
   "cell_type": "markdown",
   "id": "3094ac21-b26c-47d4-8433-379618f11a95",
   "metadata": {},
   "source": [
    "Podemos construir una colección con las medias y desviaciones estándar de cada experimento"
   ]
  },
  {
   "cell_type": "code",
   "execution_count": 18,
   "id": "a9f876bb-7cd5-4748-8400-2e20f874e15c",
   "metadata": {},
   "outputs": [
    {
     "data": {
      "text/plain": [
       "(array([35.3886, 35.4198, 35.3932, 35.3896, 35.3758, 35.4096, 35.3816,\n",
       "        35.3814, 35.394 , 35.3926, 35.4122, 35.387 , 35.3954, 35.414 ,\n",
       "        35.3878, 35.3748, 35.3732, 35.3944, 35.387 , 35.4106, 35.3686,\n",
       "        35.3922, 35.3672, 35.4104, 35.3758, 35.4128, 35.3976, 35.3738,\n",
       "        35.3556, 35.4106]),\n",
       " array([0.05514798, 0.02412882, 0.01192476, 0.0371793 , 0.02891712,\n",
       "        0.03777301, 0.04601413, 0.02966142, 0.01861451, 0.03184023,\n",
       "        0.02463128, 0.03131294, 0.02858846, 0.02877499, 0.04651559,\n",
       "        0.03781799, 0.05146066, 0.03003831, 0.04560154, 0.03643899,\n",
       "        0.03970264, 0.01834939, 0.04760987, 0.0355359 , 0.02699444,\n",
       "        0.02932064, 0.02336236, 0.0572643 , 0.05499364, 0.0414765 ]))"
      ]
     },
     "execution_count": 18,
     "metadata": {},
     "output_type": "execute_result"
    }
   ],
   "source": [
    "muestras_distribucion_medias = muestras.mean(axis=1) \n",
    "muestras_distribucion_sigmas = muestras.std(axis=1, ddof=1)\n",
    "\n",
    "# Mostrar las muestras de ambas ditribuciones\n",
    "muestras_distribucion_medias, muestras_distribucion_sigmas"
   ]
  },
  {
   "cell_type": "markdown",
   "id": "728d1859-84ce-4c8d-8546-09c137d7ed6a",
   "metadata": {},
   "source": [
    "## Cuestión\n",
    "6. Mostrar numéricamente que se verifica el teorema del límite central, es decir, que la media de las muestras de la distribución de medias es la misma que la media de todas las medidas y que dentro de incertidumbres muestrales el valor esperado de la sigma de la distribución de medias es la sigma de la distrubución total dividida por la raíz cuadrada del tamaño de la muestra"
   ]
  },
  {
   "cell_type": "code",
   "execution_count": 19,
   "id": "12e65143-e19a-409e-a639-1521edadadde",
   "metadata": {},
   "outputs": [
    {
     "data": {
      "text/plain": [
       "0.9999999999999998"
      ]
     },
     "execution_count": 19,
     "metadata": {},
     "output_type": "execute_result"
    }
   ],
   "source": [
    "muestras_distribucion_medias.mean() / muestras.mean()"
   ]
  },
  {
   "cell_type": "code",
   "execution_count": 20,
   "id": "98089c5e-da97-4116-9d90-385f521f971c",
   "metadata": {},
   "outputs": [
    {
     "data": {
      "text/plain": [
       "0.9897028324819904"
      ]
     },
     "execution_count": 20,
     "metadata": {},
     "output_type": "execute_result"
    }
   ],
   "source": [
    "muestras_distribucion_medias.std(ddof=1) / muestras.std(ddof=1) * np.sqrt(sample_size)"
   ]
  },
  {
   "cell_type": "markdown",
   "id": "ac701a73-49b5-4632-9f02-6ea4f90bcdbb",
   "metadata": {},
   "source": [
    "## Cuestiones\n",
    "\n",
    "7. Hacer una gráfica de la razón entre la desviación estándar de la distribución de medias y la sigma de la distrubución total en función del número de experimientos. Discutir si tiene un comportamiento asintótico y en su caso indicar a qué valor tiende.\n",
    "\n",
    "**Sugerencia**: Juntar el código mostrado en las celdas anteriores para definir una función dependiente del número de experimentos que devuelva la razón entre la media de la distrubución de sigmas y la sigma de la distrubución total. Generar un rango de número de experimentos, pasárselo a la función y hacer la gráfica.\n",
    "\n",
    "8. Hacer una gráfica de la razón entre la media de la distrubución de sigmas y la sigma de la distrubución total en función del tamaño de la muestra. Analizar la importancia del parametro `ddof` para evitar el sesgo por el tamaño de la muestra. Ver la documentación de la función [numpy.std](https://numpy.org/doc/stable/reference/generated/numpy.std.html)\n",
    "\n",
    "**Sugerencia**: Juntar el código mostrado en las celdas anteriores para definir una función dependiente del tamaño de la muestra que devuelva la razón pedida."
   ]
  },
  {
   "cell_type": "code",
   "execution_count": 21,
   "id": "dbf03e4a-8b8d-4fd2-a08c-79766599f9a1",
   "metadata": {},
   "outputs": [],
   "source": [
    "import matplotlib.pyplot as plt"
   ]
  },
  {
   "cell_type": "code",
   "execution_count": 22,
   "id": "e6f2e383-b523-47ef-b010-b60dc1440fe3",
   "metadata": {},
   "outputs": [
    {
     "data": {
      "image/png": "[encoded data removed]",
      "text/plain": [
       "<Figure size 432x288 with 1 Axes>"
      ]
     },
     "metadata": {
      "needs_background": "light"
     },
     "output_type": "display_data"
    }
   ],
   "source": [
    "def sigmas_f_numero_experimentos(trials):\n",
    "    muestras = scl.lectura_medida_f(UM=UM_nominales, n=sample_size, trials=trials)\n",
    "    muestras_distribucion_medias = muestras.mean(axis=1)\n",
    "    diferencia_relativa_numero_experimentos = muestras_distribucion_medias.std() / muestras.std()\n",
    "    return diferencia_relativa_numero_experimentos\n",
    "\n",
    "trial_number_list = np.geomspace(1e1, 1e5, 10, dtype=int)\n",
    "diferencia_relativa_numero_experimentos_list =  [sigmas_f_numero_experimentos(trial_number) for trial_number in trial_number_list]\n",
    "fig, ax = plt.subplots()\n",
    "ax.plot(trial_number_list, diferencia_relativa_numero_experimentos_list, 'r.')\n",
    "ax.plot([1e1, 1e5], [np.sqrt(sample_size)**-1,np.sqrt(sample_size)**-1], 'b--')\n",
    "ax.set_xscale('log')\n",
    "ax.set_xlabel('Número experimentos')\n",
    "ax.set_ylabel('Diferencia rel sigmas')\n",
    "plt.show()"
   ]
  },
  {
   "cell_type": "markdown",
   "id": "e38ce35d-68e8-426a-9aee-35dabd382b09",
   "metadata": {},
   "source": [
    "Por encima del comportamiento aleatorio vemos que para un número suficiente alto de experimentos la razón tiende al valor esperado de la raín del número de experimentos"
   ]
  },
  {
   "cell_type": "code",
   "execution_count": 23,
   "id": "8d016ab4-c90c-4115-8bac-d3b5f4eb61be",
   "metadata": {},
   "outputs": [
    {
     "data": {
      "image/png": "[encoded data removed]",
      "text/plain": [
       "<Figure size 432x288 with 1 Axes>"
      ]
     },
     "metadata": {
      "needs_background": "light"
     },
     "output_type": "display_data"
    }
   ],
   "source": [
    "def sigmas_f_sample_size(n):\n",
    "    muestras = scl.lectura_medida_f(UM=UM_nominales, n=n, trials=int(1e4))\n",
    "    muestras_distribucion_sigmas = muestras.std(axis=1, ddof=1)\n",
    "    muestras_distribucion_sesgada_sigmas = muestras.std(axis=1)\n",
    "    razon_sample_size = muestras_distribucion_sigmas.mean() / muestras.std()\n",
    "    razon_sesgada_sample_size = muestras_distribucion_sesgada_sigmas.mean() / muestras.std()\n",
    "    return razon_sample_size, razon_sesgada_sample_size\n",
    "\n",
    "sample_size_list = np.linspace(3, 100, 98, dtype=int)\n",
    "razon_sample_size_list =  [sigmas_f_sample_size(n)[0] for n in sample_size_list]\n",
    "razon_sesgada_sample_size_list =  [sigmas_f_sample_size(n)[1] for n in sample_size_list]\n",
    "fig, ax = plt.subplots()\n",
    "ax.plot(sample_size_list, razon_sample_size_list, 'r.', label='Con corrección por grados de libertad')\n",
    "ax.plot(sample_size_list, razon_sesgada_sample_size_list, 'b.', label='Sin corrección por grados de libertad')\n",
    "ax.plot([3, 100], [1, 1], 'b--')\n",
    "ax.set_xlabel('Tamaño de la muestra')\n",
    "ax.set_ylabel('Diferencia rel sigmas')\n",
    "ax.legend()\n",
    "plt.show()"
   ]
  },
  {
   "cell_type": "markdown",
   "id": "21963fd6-2e93-486a-a2f9-6c1483c1f39e",
   "metadata": {},
   "source": [
    "Esta gráfica muestra que la estimación de la desviación estándar de la distribución a partir de una muestra de tamaño dado está sesgada y que el error de estimación es superior al 10% para muestras pequeñas, hasta ocho elementos, si no introducimos la corrección mediante el parámetro `ddof`."
   ]
  },
  {
   "cell_type": "markdown",
   "id": "fbf1c3a4-034f-445a-9ca0-bb677ebc5ae6",
   "metadata": {},
   "source": [
    "### Cálculo de incertidumbre\n",
    "Una estimación realista de incertidumbres necesita en general incorporar el conocimiento del experimentador sobre la reproducibilidad de sus aparatos de medida. Son lo que se conoce como **incertidumbres de tipo B** que permiten estimar las sigmas de las distribuciones que siguen los elementos que participan en la medida.\n",
    "\n",
    "La propagación de estas incertidumbres se puede hacer mediante aproximaciones analíticas, pero en casos complejos estos cálculos se pueden ver limitados por emplear solo aproximaciones de primer orden y por ignorar las covarianzas entre variables.\n",
    "\n",
    "Una alternativa es emplear técnicas de Monte Carlo. Se pueden muestrear los valores de los elementos que intervienen en la medida si se conocen las distribuciones que siguen y se estiman sus sigmas. Combinando estos valores muestreados mediante la expresión física de la magnitud medida obtenemos una muestra de medidas cuya sigma es la incertidumbre que queremos determinar.\n",
    "\n",
    "## Cuestión.\n",
    "\n",
    "9. Hacer una estimación de incertidumbres mediante técnicas de Monte Carlo\n",
    "\n",
    "**Sugerencia**: Utilizar las funciones del módulo `simcaliblinac` para hacer experimentos de calibración en los que se obtiene en cada uno de ellos una medida de fugas, una medida de presión y temperatura y la correspondiente muestra de lecturas en el acelerador."
   ]
  },
  {
   "cell_type": "code",
   "execution_count": 24,
   "id": "471867e5-a629-4a27-84f3-ee659c48d963",
   "metadata": {},
   "outputs": [
    {
     "data": {
      "text/plain": [
       "1.0151363336581238+/-0.0006821184846201362"
      ]
     },
     "execution_count": 24,
     "metadata": {},
     "output_type": "execute_result"
    }
   ],
   "source": [
    "# Número de experimentos\n",
    "numero_trials=25 # aproximadamente el número de miembros de clase\n",
    "\n",
    "# Generar las muestras de las variables aleatorias independientes\n",
    "muestras_presion, muestras_temperatura = scl.presion_temperatura_medida(trials=numero_trials)\n",
    "muestras_ϕpT = scl.ϕpTf(muestras_presion, muestras_temperatura)\n",
    "muestras_fugas = scl.fugas(n=1, trials=numero_trials)\n",
    "\n",
    "# Generar las lecturas dependientes\n",
    "'''\n",
    "Calcualamos las lecturas para la presión y temperatura medidas.\n",
    "Haciéndolo de este modo estamos asumiendo implícitamente que no conocemos\n",
    "la presión y la temperatura sin incertidumbre\n",
    "'''\n",
    "muestras_lecturas = np.array([scl.lectura_medida_f(UM=UM_nominales, n=3, trials=1, ϕpT=ϕpT).flatten() for ϕpT in muestras_ϕpT])\n",
    "\n",
    "# Calcular los outputs\n",
    "muestras_outputs = scl.output_f(lecturas=muestras_lecturas.mean(axis=1),\n",
    "                                UM=UM_nominales,\n",
    "                                ϕpT=muestras_ϕpT,\n",
    "                                fugas=muestras_fugas[:,0])\n",
    "\n",
    "# Calcular las estadísticas de las variaciones de los outputs\n",
    "outputs_unc = ufloat(muestras_outputs.mean(), muestras_outputs.std())\n",
    "outputs_unc"
   ]
  },
  {
   "cell_type": "markdown",
   "id": "e0d0e689-d754-4ee5-939b-a586146345d6",
   "metadata": {},
   "source": [
    "En un caso sencillo como el que nos ocupa las estimaciones analíticas y las númericas por métodos de Montecarlo son equivalentes."
   ]
  }
 ],
 "metadata": {
  "kernelspec": {
   "display_name": "Python 3 (ipykernel)",
   "language": "python",
   "name": "python3"
  },
  "language_info": {
   "codemirror_mode": {
    "name": "ipython",
    "version": 3
   },
   "file_extension": ".py",
   "mimetype": "text/x-python",
   "name": "python",
   "nbconvert_exporter": "python",
   "pygments_lexer": "ipython3",
   "version": "3.9.18"
  }
 },
 "nbformat": 4,
 "nbformat_minor": 5
}
