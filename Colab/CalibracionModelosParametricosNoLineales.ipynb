{
 "cells": [
  {
   "cell_type": "markdown",
   "id": "8811b589-4ac4-479e-8a5d-102940b8c5d2",
   "metadata": {},
   "source": [
    "# Ajustes de calibración. Modelos paramétricos no lineales\n",
    "\n",
    "En ocasiones para caracterizar el funcionamiento de nuestro sistema tenemos que utilizar un modelo paramétrico con dependencias no lineales.\n",
    "\n",
    "Volvamos al último ejemplo que utilizamos en el tutorial sobre [modelos paramétricos lineales](CalibracionModelosParametricosLineales.ipynb). Supongamos que queremos caracterizar un proceso de atenuación exponencial\n",
    "\n",
    "\\begin{equation}\n",
    "    L(x) = a\\, e^{-\\mu\\, x}. \n",
    "\\end{equation}\n",
    "\n",
    "del que hemos obtenido varias medidas $L$ para distintos espesores $x$.\n",
    "\n",
    "Conocemos la física del proceso descrita por el modelo dado en la ecuación anterior. Nuestro objetivo es a partir de las medidas $\\{x, L\\}$ obtener los parámetros $[a, \\mu]$\n",
    "\n",
    "Para resolver este problema podemos utilizar la función `curve_fit` del submódulo `optimize` del módulo `scipy`"
   ]
  },
  {
   "cell_type": "code",
   "execution_count": 1,
   "id": "c7bc1629-a067-4f72-b7ac-1f4883f87c27",
   "metadata": {
    "tags": []
   },
   "outputs": [],
   "source": [
    "from scipy.optimize import curve_fit\n",
    "# e importamos también otros módulos que nos hacen falta en este cuaderno\n",
    "import numpy as np\n",
    "import matplotlib.pyplot as plt"
   ]
  },
  {
   "cell_type": "markdown",
   "id": "ffbdf04a-bd57-403c-8d24-87cf4dd51b99",
   "metadata": {},
   "source": [
    "Generamos nuestras medidas inlcuida de nuevo una incertidumbre dada en este caso del 2%."
   ]
  },
  {
   "cell_type": "code",
   "execution_count": 2,
   "id": "41ef3c5b-94b0-4a6a-939b-3a56cddee361",
   "metadata": {},
   "outputs": [
    {
     "data": {
      "image/png": "[encoded data removed]",
      "text/plain": [
       "<Figure size 432x288 with 1 Axes>"
      ]
     },
     "metadata": {
      "needs_background": "light"
     },
     "output_type": "display_data"
    }
   ],
   "source": [
    "# Parámetros de la fucnión real\n",
    "a = 100\n",
    "mu = 0.1\n",
    "# Incertidumbre relativa\n",
    "sigma_uncertainty = 0.02\n",
    "# Incertidumbre de cada medida\n",
    "rel_uncs = np.random.normal(1, sigma_uncertainty, 6)\n",
    "# Espesores en los que medimos la atenuación\n",
    "xs = np.array([0, 1, 2, 3, 4, 5])\n",
    "# Atenuaciones medidas\n",
    "Ls = a * np.exp(-mu*xs) * rel_uncs\n",
    "# Representación gráfica\n",
    "fig, ax = plt.subplots()\n",
    "ax.plot(xs, Ls, 'r.', label='Medidas')\n",
    "ax.set_xlabel('x')\n",
    "ax.set_ylabel('L')\n",
    "ax.legend()\n",
    "plt.show()"
   ]
  },
  {
   "cell_type": "markdown",
   "id": "fcea6f16-e723-4442-ae9e-03ef66529695",
   "metadata": {},
   "source": [
    "Para poder realizar este tipo de ajuste mediatne `curve_fit` necesitamos una función que describa el modelo"
   ]
  },
  {
   "cell_type": "code",
   "execution_count": 3,
   "id": "1bceca55-3665-4e31-b1b2-f0a81091b059",
   "metadata": {},
   "outputs": [],
   "source": [
    "def modf(x, a, mu):\n",
    "    return a * np.exp(-mu*x)"
   ]
  },
  {
   "cell_type": "markdown",
   "id": "889953b2-dbb1-4251-9a19-4988d398a090",
   "metadata": {},
   "source": [
    "De acuerdo a la documentación de [curve_fit](https://docs.scipy.org/doc/scipy/reference/generated/scipy.optimize.curve_fit.html) podemos llamar a la función de la forma más minimalista pasando simplemente la función del modelo, las variables independientes y las variables dependientes (las medidas). `curve_fit`nos devolverá los parámetros de ajuste y su matriz de covarianza.\n",
    "\n",
    "La información que podemos obtener de la matriz de covarianza depende de la interpretación del modelo y de si hemos proporcionado a `curve_fit` estimaciones de las incertidumbres de nuestras medidas"
   ]
  },
  {
   "cell_type": "code",
   "execution_count": 4,
   "id": "8431bdf6-627d-41d3-8877-2e3f759cd751",
   "metadata": {},
   "outputs": [
    {
     "name": "stderr",
     "output_type": "stream",
     "text": [
      "/var/folders/pr/rn87k1_x1t5fggdh6ng8zyxw0000gn/T/ipykernel_20606/2908929205.py:2: RuntimeWarning: overflow encountered in exp\n",
      "  return a * np.exp(-mu*x)\n"
     ]
    }
   ],
   "source": [
    "ps, mcov = curve_fit(modf, xs, Ls)"
   ]
  },
  {
   "cell_type": "markdown",
   "id": "2cd6ed9e-1be4-4d96-9f32-93c15531373d",
   "metadata": {},
   "source": [
    "Como muchos otros problemas no lineales es posible que curve_fit diverja. En ocasiones es necesario introducir una estimación razonable de los parámetros iniciales. "
   ]
  },
  {
   "cell_type": "code",
   "execution_count": 5,
   "id": "140f2c31-bbf0-4144-949b-d9b817021523",
   "metadata": {},
   "outputs": [],
   "source": [
    "ps, mcov = curve_fit(modf, xs, Ls, [98, 0.11])"
   ]
  },
  {
   "cell_type": "markdown",
   "id": "efa40859-5814-407c-860d-4c3ba834a185",
   "metadata": {},
   "source": [
    "Los parámetros ajustados"
   ]
  },
  {
   "cell_type": "code",
   "execution_count": 6,
   "id": "4f165459-a082-4e6b-8122-1c6468e5586f",
   "metadata": {},
   "outputs": [
    {
     "data": {
      "text/plain": [
       "array([9.67249818e+01, 9.30268027e-02])"
      ]
     },
     "execution_count": 6,
     "metadata": {},
     "output_type": "execute_result"
    }
   ],
   "source": [
    "ps"
   ]
  },
  {
   "cell_type": "markdown",
   "id": "895cad8d-2fe7-4c49-8619-eac864df9e24",
   "metadata": {},
   "source": [
    "La matriz de covarianzas"
   ]
  },
  {
   "cell_type": "code",
   "execution_count": null,
   "id": "73d3e1cf-82f1-4649-aa2a-d1ed23261b09",
   "metadata": {},
   "outputs": [
    {
     "data": {
      "text/plain": [
       "array([[3.11108792e+00, 9.57323742e-03],\n",
       "       [9.57323742e-03, 5.02763841e-05]])"
      ]
     },
     "execution_count": 7,
     "metadata": {},
     "output_type": "execute_result"
    }
   ],
   "source": [
    "mcov"
   ]
  },
  {
   "cell_type": "markdown",
   "id": "5d0105d9-1deb-4954-8c68-847de1385a6b",
   "metadata": {},
   "source": [
    "Las elementos de la diagonal nos dan las varianzas de los parámetros, que podemos entender como el cuadrado de la incertidumbre en su estimación "
   ]
  },
  {
   "cell_type": "code",
   "execution_count": 8,
   "id": "3a6e0851-2f01-4541-81d1-e1df16f56339",
   "metadata": {},
   "outputs": [
    {
     "data": {
      "text/plain": [
       "[1.7638276346973614, 0.00709058418389589]"
      ]
     },
     "execution_count": 8,
     "metadata": {},
     "output_type": "execute_result"
    }
   ],
   "source": [
    "[np.sqrt(mcov)[i, i] for i in range(2)]"
   ]
  },
  {
   "cell_type": "markdown",
   "id": "42aec687-b6f3-4021-acfe-c2b859f296ea",
   "metadata": {},
   "source": [
    "Representamos los datos medidos y sus ajustes"
   ]
  },
  {
   "cell_type": "code",
   "execution_count": 10,
   "id": "b8b7cff6-3c34-4c39-8d5a-0a0deb692ecd",
   "metadata": {},
   "outputs": [
    {
     "data": {
      "image/png": "[encoded data removed]",
      "text/plain": [
       "<Figure size 432x288 with 1 Axes>"
      ]
     },
     "metadata": {
      "needs_background": "light"
     },
     "output_type": "display_data"
    }
   ],
   "source": [
    "xg = np.arange(xs.min(),xs.max(),0.1)\n",
    "fig, ax = plt.subplots()\n",
    "ax.plot(xs, Ls, 'r.', label='Medidas')\n",
    "ax.plot(xg, modf(xg, *ps), 'r-', label='Ajustes')\n",
    "ax.set_xlabel('x')\n",
    "ax.set_ylabel('L')\n",
    "ax.legend(loc='lower left')\n",
    "plt.show()"
   ]
  },
  {
   "cell_type": "markdown",
   "id": "1a8a96ac-e999-428e-a031-1794224739c1",
   "metadata": {},
   "source": [
    "En este caso el modelo físico introduce información implicita, las medidas se tratan simultáneamente aunque no se hayan realizado en las mismas condiciones."
   ]
  },
  {
   "cell_type": "code",
   "execution_count": null,
   "id": "d6b792f7-4666-4dae-9b65-577380ba182b",
   "metadata": {},
   "outputs": [],
   "source": []
  }
 ],
 "metadata": {
  "kernelspec": {
   "display_name": "Python 3 (ipykernel)",
   "language": "python",
   "name": "python3"
  },
  "language_info": {
   "codemirror_mode": {
    "name": "ipython",
    "version": 3
   },
   "file_extension": ".py",
   "mimetype": "text/x-python",
   "name": "python",
   "nbconvert_exporter": "python",
   "pygments_lexer": "ipython3",
   "version": "3.9.15"
  }
 },
 "nbformat": 4,
 "nbformat_minor": 5
}
