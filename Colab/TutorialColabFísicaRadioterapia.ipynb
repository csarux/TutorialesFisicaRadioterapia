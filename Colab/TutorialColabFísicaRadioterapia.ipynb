{
 "cells": [
  {
   "cell_type": "markdown",
   "id": "1605fb73-6ebc-4943-9b68-132653b3e9d8",
   "metadata": {},
   "source": [
    "![Logo UCM](https://raw.githubusercontent.com/csarux/TutorialesFisicaRadioterapia/main/Colab/Marca_UCM_logo_negro.png)\n",
    "# Tutorial sobre cómo usar Google Colab en Física de la Radioterapia\n",
    "------\n",
    "## Tabla de contenidos\n",
    "\n",
    "1. [Fundamentos sobre Google Colab ](FundamentosColab.ipynb)\n",
    "1. [Montar gDrive, acceso a datos locales y visualización de los mismos](MontarDriveCargarDatos.ipynb)\n",
    "1. Realización de ajustes de calibración\n",
    "    1. [Modelos paramétricos lineales](CalibracionModelosParametricosLineales.ipynb)\n",
    "    1. [Modelos paramétricos no lineales](CalibracionModelosParametricosNoLineales.ipynb)\n",
    "1. [Visualizacion de distribuciones planares de dosis](VisualizacionDistribucionesPlanaresDosis.ipynb)\n",
    "1. [Comparación de distribuciones mediante índice gamma](IndiceGammaComparacionDistribuciones.ipynb)"
   ]
  }
 ],
 "metadata": {
  "kernelspec": {
   "display_name": "Python 3 (ipykernel)",
   "language": "python",
   "name": "python3"
  },
  "language_info": {
   "codemirror_mode": {
    "name": "ipython",
    "version": 3
   },
   "file_extension": ".py",
   "mimetype": "text/x-python",
   "name": "python",
   "nbconvert_exporter": "python",
   "pygments_lexer": "ipython3",
   "version": "3.9.15"
  }
 },
 "nbformat": 4,
 "nbformat_minor": 5
}
